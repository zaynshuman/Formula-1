{
 "cells": [
  {
   "cell_type": "code",
   "execution_count": 648,
   "metadata": {},
   "outputs": [],
   "source": [
    "import pandas as pd\n",
    "import matplotlib.pyplot as plt\n",
    "import plotly.express as px"
   ]
  },
  {
   "cell_type": "code",
   "execution_count": 649,
   "metadata": {},
   "outputs": [],
   "source": [
    "circuits = pd.read_csv('circuits.csv',sep=',')"
   ]
  },
  {
   "cell_type": "code",
   "execution_count": 650,
   "metadata": {},
   "outputs": [],
   "source": [
    "circuits.drop(columns = ['url','alt'], axis = 1, inplace=True)"
   ]
  },
  {
   "cell_type": "code",
   "execution_count": 651,
   "metadata": {},
   "outputs": [
    {
     "data": {
      "text/html": [
       "<div>\n",
       "<style scoped>\n",
       "    .dataframe tbody tr th:only-of-type {\n",
       "        vertical-align: middle;\n",
       "    }\n",
       "\n",
       "    .dataframe tbody tr th {\n",
       "        vertical-align: top;\n",
       "    }\n",
       "\n",
       "    .dataframe thead th {\n",
       "        text-align: right;\n",
       "    }\n",
       "</style>\n",
       "<table border=\"1\" class=\"dataframe\">\n",
       "  <thead>\n",
       "    <tr style=\"text-align: right;\">\n",
       "      <th></th>\n",
       "      <th>circuitId</th>\n",
       "      <th>circuitRef</th>\n",
       "      <th>name</th>\n",
       "      <th>location</th>\n",
       "      <th>country</th>\n",
       "      <th>lat</th>\n",
       "      <th>lng</th>\n",
       "    </tr>\n",
       "  </thead>\n",
       "  <tbody>\n",
       "    <tr>\n",
       "      <th>0</th>\n",
       "      <td>1</td>\n",
       "      <td>albert_park</td>\n",
       "      <td>Albert Park Grand Prix Circuit</td>\n",
       "      <td>Melbourne</td>\n",
       "      <td>Australia</td>\n",
       "      <td>-37.84970</td>\n",
       "      <td>144.96800</td>\n",
       "    </tr>\n",
       "    <tr>\n",
       "      <th>1</th>\n",
       "      <td>2</td>\n",
       "      <td>sepang</td>\n",
       "      <td>Sepang International Circuit</td>\n",
       "      <td>Kuala Lumpur</td>\n",
       "      <td>Malaysia</td>\n",
       "      <td>2.76083</td>\n",
       "      <td>101.73800</td>\n",
       "    </tr>\n",
       "    <tr>\n",
       "      <th>2</th>\n",
       "      <td>3</td>\n",
       "      <td>bahrain</td>\n",
       "      <td>Bahrain International Circuit</td>\n",
       "      <td>Sakhir</td>\n",
       "      <td>Bahrain</td>\n",
       "      <td>26.03250</td>\n",
       "      <td>50.51060</td>\n",
       "    </tr>\n",
       "    <tr>\n",
       "      <th>3</th>\n",
       "      <td>4</td>\n",
       "      <td>catalunya</td>\n",
       "      <td>Circuit de Barcelona-Catalunya</td>\n",
       "      <td>Montmeló</td>\n",
       "      <td>Spain</td>\n",
       "      <td>41.57000</td>\n",
       "      <td>2.26111</td>\n",
       "    </tr>\n",
       "    <tr>\n",
       "      <th>4</th>\n",
       "      <td>5</td>\n",
       "      <td>istanbul</td>\n",
       "      <td>Istanbul Park</td>\n",
       "      <td>Istanbul</td>\n",
       "      <td>Turkey</td>\n",
       "      <td>40.95170</td>\n",
       "      <td>29.40500</td>\n",
       "    </tr>\n",
       "  </tbody>\n",
       "</table>\n",
       "</div>"
      ],
      "text/plain": [
       "   circuitId   circuitRef                            name      location  \\\n",
       "0          1  albert_park  Albert Park Grand Prix Circuit     Melbourne   \n",
       "1          2       sepang    Sepang International Circuit  Kuala Lumpur   \n",
       "2          3      bahrain   Bahrain International Circuit        Sakhir   \n",
       "3          4    catalunya  Circuit de Barcelona-Catalunya      Montmeló   \n",
       "4          5     istanbul                   Istanbul Park      Istanbul   \n",
       "\n",
       "     country       lat        lng  \n",
       "0  Australia -37.84970  144.96800  \n",
       "1   Malaysia   2.76083  101.73800  \n",
       "2    Bahrain  26.03250   50.51060  \n",
       "3      Spain  41.57000    2.26111  \n",
       "4     Turkey  40.95170   29.40500  "
      ]
     },
     "execution_count": 651,
     "metadata": {},
     "output_type": "execute_result"
    }
   ],
   "source": [
    "circuits.head()"
   ]
  },
  {
   "cell_type": "code",
   "execution_count": 652,
   "metadata": {},
   "outputs": [
    {
     "data": {
      "application/vnd.plotly.v1+json": {
       "config": {
        "plotlyServerURL": "https://plot.ly"
       },
       "data": [
        {
         "geo": "geo",
         "hovertemplate": "<b>%{hovertext}</b><br><br>lat=%{lat}<br>lng=%{lon}<extra></extra>",
         "hovertext": [
          1,
          2,
          3,
          4,
          5,
          6,
          7,
          8,
          9,
          10,
          11,
          12,
          13,
          14,
          15,
          16,
          17,
          18,
          19,
          20,
          21,
          22,
          23,
          24,
          25,
          26,
          27,
          28,
          29,
          30,
          31,
          32,
          33,
          34,
          35,
          36,
          37,
          38,
          39,
          40,
          41,
          42,
          43,
          44,
          45,
          46,
          47,
          48,
          49,
          50,
          51,
          52,
          53,
          54,
          55,
          56,
          57,
          58,
          59,
          60,
          61,
          62,
          63,
          64,
          65,
          66,
          67,
          68,
          69,
          70,
          71,
          72,
          73,
          74,
          75,
          76,
          77,
          78,
          79
         ],
         "lat": [
          -37.8497,
          2.76083,
          26.0325,
          41.57,
          40.9517,
          43.7347,
          45.5,
          46.8642,
          52.0786,
          49.3278,
          47.5789,
          39.4589,
          50.4372,
          45.6156,
          1.2914,
          35.3717,
          31.3389,
          -23.7036,
          39.795,
          50.3356,
          44.3439,
          34.8431,
          47.2197,
          24.4672,
          -34.6943,
          36.7083,
          38.7506,
          34.915,
          -34.9272,
          -25.9894,
          52.8306,
          19.4042,
          33.4479,
          43.2506,
          34.7333,
          -22.9756,
          42.3298,
          51.3569,
          52.3888,
          50.9894,
          47.3625,
          32.7774,
          33.7651,
          36.1162,
          40.6171,
          42.3369,
          57.2653,
          44.0481,
          41.3664,
          50.6211,
          45.7472,
          46.1877,
          49.3306,
          47.95,
          49.2542,
          -33.0486,
          47.2039,
          53.4769,
          41.1705,
          33.937,
          52.4806,
          38.7197,
          27.4547,
          33.5786,
          42.475,
          46.9589,
          41.3903,
          28.3487,
          30.1328,
          47.2197,
          43.4057,
          40.7769,
          40.3725,
          21.0166,
          37.227,
          43.9975,
          21.6319,
          25.49,
          25.9581
         ],
         "legendgroup": "",
         "lon": [
          144.968,
          101.738,
          50.5106,
          2.26111,
          29.405,
          7.42056,
          -73.5228,
          3.16361,
          -1.01694,
          8.56583,
          19.2486,
          -0.331667,
          5.97139,
          9.28111,
          103.864,
          138.927,
          121.22,
          -46.6997,
          -86.2347,
          6.9475,
          11.7167,
          136.541,
          14.7647,
          54.6031,
          -58.4593,
          -6.03417,
          -9.39417,
          134.221,
          138.617,
          28.0767,
          -1.37528,
          -99.0907,
          -112.075,
          5.79167,
          126.417,
          -43.395,
          -83.0401,
          0.263056,
          4.54092,
          5.25694,
          4.89913,
          -96.7587,
          -118.189,
          -115.174,
          -3.58558,
          -76.9272,
          13.6042,
          -78.6756,
          2.15167,
          4.32694,
          3.03889,
          -74.6099,
          1.00458,
          0.224231,
          3.93083,
          27.8736,
          14.7478,
          -2.94056,
          -8.67325,
          -117.273,
          13.2514,
          -9.20306,
          -81.3483,
          -7.6875,
          14.1508,
          7.40194,
          2.11667,
          77.5331,
          -97.6411,
          14.7647,
          39.9578,
          -74.0111,
          49.8533,
          105.766,
          -8.6267,
          11.3719,
          39.1044,
          51.4542,
          -80.2389
         ],
         "marker": {
          "color": "#636efa",
          "symbol": "circle"
         },
         "mode": "markers",
         "name": "",
         "showlegend": false,
         "type": "scattergeo"
        }
       ],
       "layout": {
        "geo": {
         "center": {},
         "domain": {
          "x": [
           0,
           1
          ],
          "y": [
           0,
           1
          ]
         },
         "projection": {
          "type": "natural earth"
         }
        },
        "legend": {
         "tracegroupgap": 0
        },
        "margin": {
         "t": 60
        },
        "template": {
         "data": {
          "bar": [
           {
            "error_x": {
             "color": "#2a3f5f"
            },
            "error_y": {
             "color": "#2a3f5f"
            },
            "marker": {
             "line": {
              "color": "#E5ECF6",
              "width": 0.5
             },
             "pattern": {
              "fillmode": "overlay",
              "size": 10,
              "solidity": 0.2
             }
            },
            "type": "bar"
           }
          ],
          "barpolar": [
           {
            "marker": {
             "line": {
              "color": "#E5ECF6",
              "width": 0.5
             },
             "pattern": {
              "fillmode": "overlay",
              "size": 10,
              "solidity": 0.2
             }
            },
            "type": "barpolar"
           }
          ],
          "carpet": [
           {
            "aaxis": {
             "endlinecolor": "#2a3f5f",
             "gridcolor": "white",
             "linecolor": "white",
             "minorgridcolor": "white",
             "startlinecolor": "#2a3f5f"
            },
            "baxis": {
             "endlinecolor": "#2a3f5f",
             "gridcolor": "white",
             "linecolor": "white",
             "minorgridcolor": "white",
             "startlinecolor": "#2a3f5f"
            },
            "type": "carpet"
           }
          ],
          "choropleth": [
           {
            "colorbar": {
             "outlinewidth": 0,
             "ticks": ""
            },
            "type": "choropleth"
           }
          ],
          "contour": [
           {
            "colorbar": {
             "outlinewidth": 0,
             "ticks": ""
            },
            "colorscale": [
             [
              0,
              "#0d0887"
             ],
             [
              0.1111111111111111,
              "#46039f"
             ],
             [
              0.2222222222222222,
              "#7201a8"
             ],
             [
              0.3333333333333333,
              "#9c179e"
             ],
             [
              0.4444444444444444,
              "#bd3786"
             ],
             [
              0.5555555555555556,
              "#d8576b"
             ],
             [
              0.6666666666666666,
              "#ed7953"
             ],
             [
              0.7777777777777778,
              "#fb9f3a"
             ],
             [
              0.8888888888888888,
              "#fdca26"
             ],
             [
              1,
              "#f0f921"
             ]
            ],
            "type": "contour"
           }
          ],
          "contourcarpet": [
           {
            "colorbar": {
             "outlinewidth": 0,
             "ticks": ""
            },
            "type": "contourcarpet"
           }
          ],
          "heatmap": [
           {
            "colorbar": {
             "outlinewidth": 0,
             "ticks": ""
            },
            "colorscale": [
             [
              0,
              "#0d0887"
             ],
             [
              0.1111111111111111,
              "#46039f"
             ],
             [
              0.2222222222222222,
              "#7201a8"
             ],
             [
              0.3333333333333333,
              "#9c179e"
             ],
             [
              0.4444444444444444,
              "#bd3786"
             ],
             [
              0.5555555555555556,
              "#d8576b"
             ],
             [
              0.6666666666666666,
              "#ed7953"
             ],
             [
              0.7777777777777778,
              "#fb9f3a"
             ],
             [
              0.8888888888888888,
              "#fdca26"
             ],
             [
              1,
              "#f0f921"
             ]
            ],
            "type": "heatmap"
           }
          ],
          "heatmapgl": [
           {
            "colorbar": {
             "outlinewidth": 0,
             "ticks": ""
            },
            "colorscale": [
             [
              0,
              "#0d0887"
             ],
             [
              0.1111111111111111,
              "#46039f"
             ],
             [
              0.2222222222222222,
              "#7201a8"
             ],
             [
              0.3333333333333333,
              "#9c179e"
             ],
             [
              0.4444444444444444,
              "#bd3786"
             ],
             [
              0.5555555555555556,
              "#d8576b"
             ],
             [
              0.6666666666666666,
              "#ed7953"
             ],
             [
              0.7777777777777778,
              "#fb9f3a"
             ],
             [
              0.8888888888888888,
              "#fdca26"
             ],
             [
              1,
              "#f0f921"
             ]
            ],
            "type": "heatmapgl"
           }
          ],
          "histogram": [
           {
            "marker": {
             "pattern": {
              "fillmode": "overlay",
              "size": 10,
              "solidity": 0.2
             }
            },
            "type": "histogram"
           }
          ],
          "histogram2d": [
           {
            "colorbar": {
             "outlinewidth": 0,
             "ticks": ""
            },
            "colorscale": [
             [
              0,
              "#0d0887"
             ],
             [
              0.1111111111111111,
              "#46039f"
             ],
             [
              0.2222222222222222,
              "#7201a8"
             ],
             [
              0.3333333333333333,
              "#9c179e"
             ],
             [
              0.4444444444444444,
              "#bd3786"
             ],
             [
              0.5555555555555556,
              "#d8576b"
             ],
             [
              0.6666666666666666,
              "#ed7953"
             ],
             [
              0.7777777777777778,
              "#fb9f3a"
             ],
             [
              0.8888888888888888,
              "#fdca26"
             ],
             [
              1,
              "#f0f921"
             ]
            ],
            "type": "histogram2d"
           }
          ],
          "histogram2dcontour": [
           {
            "colorbar": {
             "outlinewidth": 0,
             "ticks": ""
            },
            "colorscale": [
             [
              0,
              "#0d0887"
             ],
             [
              0.1111111111111111,
              "#46039f"
             ],
             [
              0.2222222222222222,
              "#7201a8"
             ],
             [
              0.3333333333333333,
              "#9c179e"
             ],
             [
              0.4444444444444444,
              "#bd3786"
             ],
             [
              0.5555555555555556,
              "#d8576b"
             ],
             [
              0.6666666666666666,
              "#ed7953"
             ],
             [
              0.7777777777777778,
              "#fb9f3a"
             ],
             [
              0.8888888888888888,
              "#fdca26"
             ],
             [
              1,
              "#f0f921"
             ]
            ],
            "type": "histogram2dcontour"
           }
          ],
          "mesh3d": [
           {
            "colorbar": {
             "outlinewidth": 0,
             "ticks": ""
            },
            "type": "mesh3d"
           }
          ],
          "parcoords": [
           {
            "line": {
             "colorbar": {
              "outlinewidth": 0,
              "ticks": ""
             }
            },
            "type": "parcoords"
           }
          ],
          "pie": [
           {
            "automargin": true,
            "type": "pie"
           }
          ],
          "scatter": [
           {
            "fillpattern": {
             "fillmode": "overlay",
             "size": 10,
             "solidity": 0.2
            },
            "type": "scatter"
           }
          ],
          "scatter3d": [
           {
            "line": {
             "colorbar": {
              "outlinewidth": 0,
              "ticks": ""
             }
            },
            "marker": {
             "colorbar": {
              "outlinewidth": 0,
              "ticks": ""
             }
            },
            "type": "scatter3d"
           }
          ],
          "scattercarpet": [
           {
            "marker": {
             "colorbar": {
              "outlinewidth": 0,
              "ticks": ""
             }
            },
            "type": "scattercarpet"
           }
          ],
          "scattergeo": [
           {
            "marker": {
             "colorbar": {
              "outlinewidth": 0,
              "ticks": ""
             }
            },
            "type": "scattergeo"
           }
          ],
          "scattergl": [
           {
            "marker": {
             "colorbar": {
              "outlinewidth": 0,
              "ticks": ""
             }
            },
            "type": "scattergl"
           }
          ],
          "scattermapbox": [
           {
            "marker": {
             "colorbar": {
              "outlinewidth": 0,
              "ticks": ""
             }
            },
            "type": "scattermapbox"
           }
          ],
          "scatterpolar": [
           {
            "marker": {
             "colorbar": {
              "outlinewidth": 0,
              "ticks": ""
             }
            },
            "type": "scatterpolar"
           }
          ],
          "scatterpolargl": [
           {
            "marker": {
             "colorbar": {
              "outlinewidth": 0,
              "ticks": ""
             }
            },
            "type": "scatterpolargl"
           }
          ],
          "scatterternary": [
           {
            "marker": {
             "colorbar": {
              "outlinewidth": 0,
              "ticks": ""
             }
            },
            "type": "scatterternary"
           }
          ],
          "surface": [
           {
            "colorbar": {
             "outlinewidth": 0,
             "ticks": ""
            },
            "colorscale": [
             [
              0,
              "#0d0887"
             ],
             [
              0.1111111111111111,
              "#46039f"
             ],
             [
              0.2222222222222222,
              "#7201a8"
             ],
             [
              0.3333333333333333,
              "#9c179e"
             ],
             [
              0.4444444444444444,
              "#bd3786"
             ],
             [
              0.5555555555555556,
              "#d8576b"
             ],
             [
              0.6666666666666666,
              "#ed7953"
             ],
             [
              0.7777777777777778,
              "#fb9f3a"
             ],
             [
              0.8888888888888888,
              "#fdca26"
             ],
             [
              1,
              "#f0f921"
             ]
            ],
            "type": "surface"
           }
          ],
          "table": [
           {
            "cells": {
             "fill": {
              "color": "#EBF0F8"
             },
             "line": {
              "color": "white"
             }
            },
            "header": {
             "fill": {
              "color": "#C8D4E3"
             },
             "line": {
              "color": "white"
             }
            },
            "type": "table"
           }
          ]
         },
         "layout": {
          "annotationdefaults": {
           "arrowcolor": "#2a3f5f",
           "arrowhead": 0,
           "arrowwidth": 1
          },
          "autotypenumbers": "strict",
          "coloraxis": {
           "colorbar": {
            "outlinewidth": 0,
            "ticks": ""
           }
          },
          "colorscale": {
           "diverging": [
            [
             0,
             "#8e0152"
            ],
            [
             0.1,
             "#c51b7d"
            ],
            [
             0.2,
             "#de77ae"
            ],
            [
             0.3,
             "#f1b6da"
            ],
            [
             0.4,
             "#fde0ef"
            ],
            [
             0.5,
             "#f7f7f7"
            ],
            [
             0.6,
             "#e6f5d0"
            ],
            [
             0.7,
             "#b8e186"
            ],
            [
             0.8,
             "#7fbc41"
            ],
            [
             0.9,
             "#4d9221"
            ],
            [
             1,
             "#276419"
            ]
           ],
           "sequential": [
            [
             0,
             "#0d0887"
            ],
            [
             0.1111111111111111,
             "#46039f"
            ],
            [
             0.2222222222222222,
             "#7201a8"
            ],
            [
             0.3333333333333333,
             "#9c179e"
            ],
            [
             0.4444444444444444,
             "#bd3786"
            ],
            [
             0.5555555555555556,
             "#d8576b"
            ],
            [
             0.6666666666666666,
             "#ed7953"
            ],
            [
             0.7777777777777778,
             "#fb9f3a"
            ],
            [
             0.8888888888888888,
             "#fdca26"
            ],
            [
             1,
             "#f0f921"
            ]
           ],
           "sequentialminus": [
            [
             0,
             "#0d0887"
            ],
            [
             0.1111111111111111,
             "#46039f"
            ],
            [
             0.2222222222222222,
             "#7201a8"
            ],
            [
             0.3333333333333333,
             "#9c179e"
            ],
            [
             0.4444444444444444,
             "#bd3786"
            ],
            [
             0.5555555555555556,
             "#d8576b"
            ],
            [
             0.6666666666666666,
             "#ed7953"
            ],
            [
             0.7777777777777778,
             "#fb9f3a"
            ],
            [
             0.8888888888888888,
             "#fdca26"
            ],
            [
             1,
             "#f0f921"
            ]
           ]
          },
          "colorway": [
           "#636efa",
           "#EF553B",
           "#00cc96",
           "#ab63fa",
           "#FFA15A",
           "#19d3f3",
           "#FF6692",
           "#B6E880",
           "#FF97FF",
           "#FECB52"
          ],
          "font": {
           "color": "#2a3f5f"
          },
          "geo": {
           "bgcolor": "white",
           "lakecolor": "white",
           "landcolor": "#E5ECF6",
           "showlakes": true,
           "showland": true,
           "subunitcolor": "white"
          },
          "hoverlabel": {
           "align": "left"
          },
          "hovermode": "closest",
          "mapbox": {
           "style": "light"
          },
          "paper_bgcolor": "white",
          "plot_bgcolor": "#E5ECF6",
          "polar": {
           "angularaxis": {
            "gridcolor": "white",
            "linecolor": "white",
            "ticks": ""
           },
           "bgcolor": "#E5ECF6",
           "radialaxis": {
            "gridcolor": "white",
            "linecolor": "white",
            "ticks": ""
           }
          },
          "scene": {
           "xaxis": {
            "backgroundcolor": "#E5ECF6",
            "gridcolor": "white",
            "gridwidth": 2,
            "linecolor": "white",
            "showbackground": true,
            "ticks": "",
            "zerolinecolor": "white"
           },
           "yaxis": {
            "backgroundcolor": "#E5ECF6",
            "gridcolor": "white",
            "gridwidth": 2,
            "linecolor": "white",
            "showbackground": true,
            "ticks": "",
            "zerolinecolor": "white"
           },
           "zaxis": {
            "backgroundcolor": "#E5ECF6",
            "gridcolor": "white",
            "gridwidth": 2,
            "linecolor": "white",
            "showbackground": true,
            "ticks": "",
            "zerolinecolor": "white"
           }
          },
          "shapedefaults": {
           "line": {
            "color": "#2a3f5f"
           }
          },
          "ternary": {
           "aaxis": {
            "gridcolor": "white",
            "linecolor": "white",
            "ticks": ""
           },
           "baxis": {
            "gridcolor": "white",
            "linecolor": "white",
            "ticks": ""
           },
           "bgcolor": "#E5ECF6",
           "caxis": {
            "gridcolor": "white",
            "linecolor": "white",
            "ticks": ""
           }
          },
          "title": {
           "x": 0.05
          },
          "xaxis": {
           "automargin": true,
           "gridcolor": "white",
           "linecolor": "white",
           "ticks": "",
           "title": {
            "standoff": 15
           },
           "zerolinecolor": "white",
           "zerolinewidth": 2
          },
          "yaxis": {
           "automargin": true,
           "gridcolor": "white",
           "linecolor": "white",
           "ticks": "",
           "title": {
            "standoff": 15
           },
           "zerolinecolor": "white",
           "zerolinewidth": 2
          }
         }
        },
        "title": {
         "text": "Distribution of Historical Races",
         "x": 0.5
        }
       }
      },
      "text/html": [
       "<div>                            <div id=\"8ced4262-c1b2-4d3d-8479-8be823034545\" class=\"plotly-graph-div\" style=\"height:525px; width:100%;\"></div>            <script type=\"text/javascript\">                require([\"plotly\"], function(Plotly) {                    window.PLOTLYENV=window.PLOTLYENV || {};                                    if (document.getElementById(\"8ced4262-c1b2-4d3d-8479-8be823034545\")) {                    Plotly.newPlot(                        \"8ced4262-c1b2-4d3d-8479-8be823034545\",                        [{\"geo\":\"geo\",\"hovertemplate\":\"<b>%{hovertext}</b><br><br>lat=%{lat}<br>lng=%{lon}<extra></extra>\",\"hovertext\":[1.0,2.0,3.0,4.0,5.0,6.0,7.0,8.0,9.0,10.0,11.0,12.0,13.0,14.0,15.0,16.0,17.0,18.0,19.0,20.0,21.0,22.0,23.0,24.0,25.0,26.0,27.0,28.0,29.0,30.0,31.0,32.0,33.0,34.0,35.0,36.0,37.0,38.0,39.0,40.0,41.0,42.0,43.0,44.0,45.0,46.0,47.0,48.0,49.0,50.0,51.0,52.0,53.0,54.0,55.0,56.0,57.0,58.0,59.0,60.0,61.0,62.0,63.0,64.0,65.0,66.0,67.0,68.0,69.0,70.0,71.0,72.0,73.0,74.0,75.0,76.0,77.0,78.0,79.0],\"lat\":[-37.8497,2.76083,26.0325,41.57,40.9517,43.7347,45.5,46.8642,52.0786,49.3278,47.5789,39.4589,50.4372,45.6156,1.2914,35.3717,31.3389,-23.7036,39.795,50.3356,44.3439,34.8431,47.2197,24.4672,-34.6943,36.7083,38.7506,34.915,-34.9272,-25.9894,52.8306,19.4042,33.4479,43.2506,34.7333,-22.9756,42.3298,51.3569,52.3888,50.9894,47.3625,32.7774,33.7651,36.1162,40.6171,42.3369,57.2653,44.0481,41.3664,50.6211,45.7472,46.1877,49.3306,47.95,49.2542,-33.0486,47.2039,53.4769,41.1705,33.937,52.4806,38.7197,27.4547,33.5786,42.475,46.9589,41.3903,28.3487,30.1328,47.2197,43.4057,40.7769,40.3725,21.0166,37.227,43.9975,21.6319,25.49,25.9581],\"legendgroup\":\"\",\"lon\":[144.968,101.738,50.5106,2.26111,29.405,7.42056,-73.5228,3.16361,-1.01694,8.56583,19.2486,-0.331667,5.97139,9.28111,103.864,138.927,121.22,-46.6997,-86.2347,6.9475,11.7167,136.541,14.7647,54.6031,-58.4593,-6.03417,-9.39417,134.221,138.617,28.0767,-1.37528,-99.0907,-112.075,5.79167,126.417,-43.395,-83.0401,0.263056,4.54092,5.25694,4.89913,-96.7587,-118.189,-115.174,-3.58558,-76.9272,13.6042,-78.6756,2.15167,4.32694,3.03889,-74.6099,1.00458,0.224231,3.93083,27.8736,14.7478,-2.94056,-8.67325,-117.273,13.2514,-9.20306,-81.3483,-7.6875,14.1508,7.40194,2.11667,77.5331,-97.6411,14.7647,39.9578,-74.0111,49.8533,105.766,-8.6267,11.3719,39.1044,51.4542,-80.2389],\"marker\":{\"color\":\"#636efa\",\"symbol\":\"circle\"},\"mode\":\"markers\",\"name\":\"\",\"showlegend\":false,\"type\":\"scattergeo\"}],                        {\"template\":{\"data\":{\"histogram2dcontour\":[{\"type\":\"histogram2dcontour\",\"colorbar\":{\"outlinewidth\":0,\"ticks\":\"\"},\"colorscale\":[[0.0,\"#0d0887\"],[0.1111111111111111,\"#46039f\"],[0.2222222222222222,\"#7201a8\"],[0.3333333333333333,\"#9c179e\"],[0.4444444444444444,\"#bd3786\"],[0.5555555555555556,\"#d8576b\"],[0.6666666666666666,\"#ed7953\"],[0.7777777777777778,\"#fb9f3a\"],[0.8888888888888888,\"#fdca26\"],[1.0,\"#f0f921\"]]}],\"choropleth\":[{\"type\":\"choropleth\",\"colorbar\":{\"outlinewidth\":0,\"ticks\":\"\"}}],\"histogram2d\":[{\"type\":\"histogram2d\",\"colorbar\":{\"outlinewidth\":0,\"ticks\":\"\"},\"colorscale\":[[0.0,\"#0d0887\"],[0.1111111111111111,\"#46039f\"],[0.2222222222222222,\"#7201a8\"],[0.3333333333333333,\"#9c179e\"],[0.4444444444444444,\"#bd3786\"],[0.5555555555555556,\"#d8576b\"],[0.6666666666666666,\"#ed7953\"],[0.7777777777777778,\"#fb9f3a\"],[0.8888888888888888,\"#fdca26\"],[1.0,\"#f0f921\"]]}],\"heatmap\":[{\"type\":\"heatmap\",\"colorbar\":{\"outlinewidth\":0,\"ticks\":\"\"},\"colorscale\":[[0.0,\"#0d0887\"],[0.1111111111111111,\"#46039f\"],[0.2222222222222222,\"#7201a8\"],[0.3333333333333333,\"#9c179e\"],[0.4444444444444444,\"#bd3786\"],[0.5555555555555556,\"#d8576b\"],[0.6666666666666666,\"#ed7953\"],[0.7777777777777778,\"#fb9f3a\"],[0.8888888888888888,\"#fdca26\"],[1.0,\"#f0f921\"]]}],\"heatmapgl\":[{\"type\":\"heatmapgl\",\"colorbar\":{\"outlinewidth\":0,\"ticks\":\"\"},\"colorscale\":[[0.0,\"#0d0887\"],[0.1111111111111111,\"#46039f\"],[0.2222222222222222,\"#7201a8\"],[0.3333333333333333,\"#9c179e\"],[0.4444444444444444,\"#bd3786\"],[0.5555555555555556,\"#d8576b\"],[0.6666666666666666,\"#ed7953\"],[0.7777777777777778,\"#fb9f3a\"],[0.8888888888888888,\"#fdca26\"],[1.0,\"#f0f921\"]]}],\"contourcarpet\":[{\"type\":\"contourcarpet\",\"colorbar\":{\"outlinewidth\":0,\"ticks\":\"\"}}],\"contour\":[{\"type\":\"contour\",\"colorbar\":{\"outlinewidth\":0,\"ticks\":\"\"},\"colorscale\":[[0.0,\"#0d0887\"],[0.1111111111111111,\"#46039f\"],[0.2222222222222222,\"#7201a8\"],[0.3333333333333333,\"#9c179e\"],[0.4444444444444444,\"#bd3786\"],[0.5555555555555556,\"#d8576b\"],[0.6666666666666666,\"#ed7953\"],[0.7777777777777778,\"#fb9f3a\"],[0.8888888888888888,\"#fdca26\"],[1.0,\"#f0f921\"]]}],\"surface\":[{\"type\":\"surface\",\"colorbar\":{\"outlinewidth\":0,\"ticks\":\"\"},\"colorscale\":[[0.0,\"#0d0887\"],[0.1111111111111111,\"#46039f\"],[0.2222222222222222,\"#7201a8\"],[0.3333333333333333,\"#9c179e\"],[0.4444444444444444,\"#bd3786\"],[0.5555555555555556,\"#d8576b\"],[0.6666666666666666,\"#ed7953\"],[0.7777777777777778,\"#fb9f3a\"],[0.8888888888888888,\"#fdca26\"],[1.0,\"#f0f921\"]]}],\"mesh3d\":[{\"type\":\"mesh3d\",\"colorbar\":{\"outlinewidth\":0,\"ticks\":\"\"}}],\"scatter\":[{\"fillpattern\":{\"fillmode\":\"overlay\",\"size\":10,\"solidity\":0.2},\"type\":\"scatter\"}],\"parcoords\":[{\"type\":\"parcoords\",\"line\":{\"colorbar\":{\"outlinewidth\":0,\"ticks\":\"\"}}}],\"scatterpolargl\":[{\"type\":\"scatterpolargl\",\"marker\":{\"colorbar\":{\"outlinewidth\":0,\"ticks\":\"\"}}}],\"bar\":[{\"error_x\":{\"color\":\"#2a3f5f\"},\"error_y\":{\"color\":\"#2a3f5f\"},\"marker\":{\"line\":{\"color\":\"#E5ECF6\",\"width\":0.5},\"pattern\":{\"fillmode\":\"overlay\",\"size\":10,\"solidity\":0.2}},\"type\":\"bar\"}],\"scattergeo\":[{\"type\":\"scattergeo\",\"marker\":{\"colorbar\":{\"outlinewidth\":0,\"ticks\":\"\"}}}],\"scatterpolar\":[{\"type\":\"scatterpolar\",\"marker\":{\"colorbar\":{\"outlinewidth\":0,\"ticks\":\"\"}}}],\"histogram\":[{\"marker\":{\"pattern\":{\"fillmode\":\"overlay\",\"size\":10,\"solidity\":0.2}},\"type\":\"histogram\"}],\"scattergl\":[{\"type\":\"scattergl\",\"marker\":{\"colorbar\":{\"outlinewidth\":0,\"ticks\":\"\"}}}],\"scatter3d\":[{\"type\":\"scatter3d\",\"line\":{\"colorbar\":{\"outlinewidth\":0,\"ticks\":\"\"}},\"marker\":{\"colorbar\":{\"outlinewidth\":0,\"ticks\":\"\"}}}],\"scattermapbox\":[{\"type\":\"scattermapbox\",\"marker\":{\"colorbar\":{\"outlinewidth\":0,\"ticks\":\"\"}}}],\"scatterternary\":[{\"type\":\"scatterternary\",\"marker\":{\"colorbar\":{\"outlinewidth\":0,\"ticks\":\"\"}}}],\"scattercarpet\":[{\"type\":\"scattercarpet\",\"marker\":{\"colorbar\":{\"outlinewidth\":0,\"ticks\":\"\"}}}],\"carpet\":[{\"aaxis\":{\"endlinecolor\":\"#2a3f5f\",\"gridcolor\":\"white\",\"linecolor\":\"white\",\"minorgridcolor\":\"white\",\"startlinecolor\":\"#2a3f5f\"},\"baxis\":{\"endlinecolor\":\"#2a3f5f\",\"gridcolor\":\"white\",\"linecolor\":\"white\",\"minorgridcolor\":\"white\",\"startlinecolor\":\"#2a3f5f\"},\"type\":\"carpet\"}],\"table\":[{\"cells\":{\"fill\":{\"color\":\"#EBF0F8\"},\"line\":{\"color\":\"white\"}},\"header\":{\"fill\":{\"color\":\"#C8D4E3\"},\"line\":{\"color\":\"white\"}},\"type\":\"table\"}],\"barpolar\":[{\"marker\":{\"line\":{\"color\":\"#E5ECF6\",\"width\":0.5},\"pattern\":{\"fillmode\":\"overlay\",\"size\":10,\"solidity\":0.2}},\"type\":\"barpolar\"}],\"pie\":[{\"automargin\":true,\"type\":\"pie\"}]},\"layout\":{\"autotypenumbers\":\"strict\",\"colorway\":[\"#636efa\",\"#EF553B\",\"#00cc96\",\"#ab63fa\",\"#FFA15A\",\"#19d3f3\",\"#FF6692\",\"#B6E880\",\"#FF97FF\",\"#FECB52\"],\"font\":{\"color\":\"#2a3f5f\"},\"hovermode\":\"closest\",\"hoverlabel\":{\"align\":\"left\"},\"paper_bgcolor\":\"white\",\"plot_bgcolor\":\"#E5ECF6\",\"polar\":{\"bgcolor\":\"#E5ECF6\",\"angularaxis\":{\"gridcolor\":\"white\",\"linecolor\":\"white\",\"ticks\":\"\"},\"radialaxis\":{\"gridcolor\":\"white\",\"linecolor\":\"white\",\"ticks\":\"\"}},\"ternary\":{\"bgcolor\":\"#E5ECF6\",\"aaxis\":{\"gridcolor\":\"white\",\"linecolor\":\"white\",\"ticks\":\"\"},\"baxis\":{\"gridcolor\":\"white\",\"linecolor\":\"white\",\"ticks\":\"\"},\"caxis\":{\"gridcolor\":\"white\",\"linecolor\":\"white\",\"ticks\":\"\"}},\"coloraxis\":{\"colorbar\":{\"outlinewidth\":0,\"ticks\":\"\"}},\"colorscale\":{\"sequential\":[[0.0,\"#0d0887\"],[0.1111111111111111,\"#46039f\"],[0.2222222222222222,\"#7201a8\"],[0.3333333333333333,\"#9c179e\"],[0.4444444444444444,\"#bd3786\"],[0.5555555555555556,\"#d8576b\"],[0.6666666666666666,\"#ed7953\"],[0.7777777777777778,\"#fb9f3a\"],[0.8888888888888888,\"#fdca26\"],[1.0,\"#f0f921\"]],\"sequentialminus\":[[0.0,\"#0d0887\"],[0.1111111111111111,\"#46039f\"],[0.2222222222222222,\"#7201a8\"],[0.3333333333333333,\"#9c179e\"],[0.4444444444444444,\"#bd3786\"],[0.5555555555555556,\"#d8576b\"],[0.6666666666666666,\"#ed7953\"],[0.7777777777777778,\"#fb9f3a\"],[0.8888888888888888,\"#fdca26\"],[1.0,\"#f0f921\"]],\"diverging\":[[0,\"#8e0152\"],[0.1,\"#c51b7d\"],[0.2,\"#de77ae\"],[0.3,\"#f1b6da\"],[0.4,\"#fde0ef\"],[0.5,\"#f7f7f7\"],[0.6,\"#e6f5d0\"],[0.7,\"#b8e186\"],[0.8,\"#7fbc41\"],[0.9,\"#4d9221\"],[1,\"#276419\"]]},\"xaxis\":{\"gridcolor\":\"white\",\"linecolor\":\"white\",\"ticks\":\"\",\"title\":{\"standoff\":15},\"zerolinecolor\":\"white\",\"automargin\":true,\"zerolinewidth\":2},\"yaxis\":{\"gridcolor\":\"white\",\"linecolor\":\"white\",\"ticks\":\"\",\"title\":{\"standoff\":15},\"zerolinecolor\":\"white\",\"automargin\":true,\"zerolinewidth\":2},\"scene\":{\"xaxis\":{\"backgroundcolor\":\"#E5ECF6\",\"gridcolor\":\"white\",\"linecolor\":\"white\",\"showbackground\":true,\"ticks\":\"\",\"zerolinecolor\":\"white\",\"gridwidth\":2},\"yaxis\":{\"backgroundcolor\":\"#E5ECF6\",\"gridcolor\":\"white\",\"linecolor\":\"white\",\"showbackground\":true,\"ticks\":\"\",\"zerolinecolor\":\"white\",\"gridwidth\":2},\"zaxis\":{\"backgroundcolor\":\"#E5ECF6\",\"gridcolor\":\"white\",\"linecolor\":\"white\",\"showbackground\":true,\"ticks\":\"\",\"zerolinecolor\":\"white\",\"gridwidth\":2}},\"shapedefaults\":{\"line\":{\"color\":\"#2a3f5f\"}},\"annotationdefaults\":{\"arrowcolor\":\"#2a3f5f\",\"arrowhead\":0,\"arrowwidth\":1},\"geo\":{\"bgcolor\":\"white\",\"landcolor\":\"#E5ECF6\",\"subunitcolor\":\"white\",\"showland\":true,\"showlakes\":true,\"lakecolor\":\"white\"},\"title\":{\"x\":0.05},\"mapbox\":{\"style\":\"light\"}}},\"geo\":{\"domain\":{\"x\":[0.0,1.0],\"y\":[0.0,1.0]},\"projection\":{\"type\":\"natural earth\"},\"center\":{}},\"legend\":{\"tracegroupgap\":0},\"margin\":{\"t\":60},\"title\":{\"text\":\"Distribution of Historical Races\",\"x\":0.5}},                        {\"responsive\": true}                    ).then(function(){\n",
       "                            \n",
       "var gd = document.getElementById('8ced4262-c1b2-4d3d-8479-8be823034545');\n",
       "var x = new MutationObserver(function (mutations, observer) {{\n",
       "        var display = window.getComputedStyle(gd).display;\n",
       "        if (!display || display === 'none') {{\n",
       "            console.log([gd, 'removed!']);\n",
       "            Plotly.purge(gd);\n",
       "            observer.disconnect();\n",
       "        }}\n",
       "}});\n",
       "\n",
       "// Listen for the removal of the full notebook cells\n",
       "var notebookContainer = gd.closest('#notebook-container');\n",
       "if (notebookContainer) {{\n",
       "    x.observe(notebookContainer, {childList: true});\n",
       "}}\n",
       "\n",
       "// Listen for the clearing of the current output cell\n",
       "var outputEl = gd.closest('.output');\n",
       "if (outputEl) {{\n",
       "    x.observe(outputEl, {childList: true});\n",
       "}}\n",
       "\n",
       "                        })                };                });            </script>        </div>"
      ]
     },
     "metadata": {},
     "output_type": "display_data"
    }
   ],
   "source": [
    "fig = px.scatter_geo(circuits,lat='lat', lon='lng', hover_name=\"circuitId\", projection=\"natural earth\")\n",
    "fig.update_layout(title = 'Distribution of Historical Races', title_x=0.5)\n",
    "fig.show()"
   ]
  },
  {
   "cell_type": "markdown",
   "metadata": {},
   "source": [
    "## Identify 2023 Circuits and Calculate Pairwise Distances"
   ]
  },
  {
   "cell_type": "code",
   "execution_count": 653,
   "metadata": {},
   "outputs": [],
   "source": [
    "selected_circuits_2023 = [24,1,73,3,9,7,39,21,11,14,22,79,77,18,15,4,78,17,44]"
   ]
  },
  {
   "cell_type": "code",
   "execution_count": 654,
   "metadata": {},
   "outputs": [
    {
     "data": {
      "text/plain": [
       "19"
      ]
     },
     "execution_count": 654,
     "metadata": {},
     "output_type": "execute_result"
    }
   ],
   "source": [
    "len(selected_circuits_2023)"
   ]
  },
  {
   "cell_type": "code",
   "execution_count": 655,
   "metadata": {},
   "outputs": [
    {
     "data": {
      "text/html": [
       "<div>\n",
       "<style scoped>\n",
       "    .dataframe tbody tr th:only-of-type {\n",
       "        vertical-align: middle;\n",
       "    }\n",
       "\n",
       "    .dataframe tbody tr th {\n",
       "        vertical-align: top;\n",
       "    }\n",
       "\n",
       "    .dataframe thead th {\n",
       "        text-align: right;\n",
       "    }\n",
       "</style>\n",
       "<table border=\"1\" class=\"dataframe\">\n",
       "  <thead>\n",
       "    <tr style=\"text-align: right;\">\n",
       "      <th></th>\n",
       "      <th>circuitId</th>\n",
       "      <th>circuitRef</th>\n",
       "      <th>name</th>\n",
       "      <th>location</th>\n",
       "      <th>country</th>\n",
       "      <th>lat</th>\n",
       "      <th>lng</th>\n",
       "    </tr>\n",
       "  </thead>\n",
       "  <tbody>\n",
       "    <tr>\n",
       "      <th>0</th>\n",
       "      <td>0</td>\n",
       "      <td>albert_park</td>\n",
       "      <td>Albert Park Grand Prix Circuit</td>\n",
       "      <td>Melbourne</td>\n",
       "      <td>Australia</td>\n",
       "      <td>-37.8497</td>\n",
       "      <td>144.96800</td>\n",
       "    </tr>\n",
       "    <tr>\n",
       "      <th>2</th>\n",
       "      <td>1</td>\n",
       "      <td>bahrain</td>\n",
       "      <td>Bahrain International Circuit</td>\n",
       "      <td>Sakhir</td>\n",
       "      <td>Bahrain</td>\n",
       "      <td>26.0325</td>\n",
       "      <td>50.51060</td>\n",
       "    </tr>\n",
       "    <tr>\n",
       "      <th>3</th>\n",
       "      <td>2</td>\n",
       "      <td>catalunya</td>\n",
       "      <td>Circuit de Barcelona-Catalunya</td>\n",
       "      <td>Montmeló</td>\n",
       "      <td>Spain</td>\n",
       "      <td>41.5700</td>\n",
       "      <td>2.26111</td>\n",
       "    </tr>\n",
       "    <tr>\n",
       "      <th>6</th>\n",
       "      <td>3</td>\n",
       "      <td>villeneuve</td>\n",
       "      <td>Circuit Gilles Villeneuve</td>\n",
       "      <td>Montreal</td>\n",
       "      <td>Canada</td>\n",
       "      <td>45.5000</td>\n",
       "      <td>-73.52280</td>\n",
       "    </tr>\n",
       "    <tr>\n",
       "      <th>8</th>\n",
       "      <td>4</td>\n",
       "      <td>silverstone</td>\n",
       "      <td>Silverstone Circuit</td>\n",
       "      <td>Silverstone</td>\n",
       "      <td>UK</td>\n",
       "      <td>52.0786</td>\n",
       "      <td>-1.01694</td>\n",
       "    </tr>\n",
       "    <tr>\n",
       "      <th>10</th>\n",
       "      <td>5</td>\n",
       "      <td>hungaroring</td>\n",
       "      <td>Hungaroring</td>\n",
       "      <td>Budapest</td>\n",
       "      <td>Hungary</td>\n",
       "      <td>47.5789</td>\n",
       "      <td>19.24860</td>\n",
       "    </tr>\n",
       "    <tr>\n",
       "      <th>13</th>\n",
       "      <td>6</td>\n",
       "      <td>monza</td>\n",
       "      <td>Autodromo Nazionale di Monza</td>\n",
       "      <td>Monza</td>\n",
       "      <td>Italy</td>\n",
       "      <td>45.6156</td>\n",
       "      <td>9.28111</td>\n",
       "    </tr>\n",
       "    <tr>\n",
       "      <th>14</th>\n",
       "      <td>7</td>\n",
       "      <td>marina_bay</td>\n",
       "      <td>Marina Bay Street Circuit</td>\n",
       "      <td>Marina Bay</td>\n",
       "      <td>Singapore</td>\n",
       "      <td>1.2914</td>\n",
       "      <td>103.86400</td>\n",
       "    </tr>\n",
       "    <tr>\n",
       "      <th>16</th>\n",
       "      <td>8</td>\n",
       "      <td>shanghai</td>\n",
       "      <td>Shanghai International Circuit</td>\n",
       "      <td>Shanghai</td>\n",
       "      <td>China</td>\n",
       "      <td>31.3389</td>\n",
       "      <td>121.22000</td>\n",
       "    </tr>\n",
       "    <tr>\n",
       "      <th>17</th>\n",
       "      <td>9</td>\n",
       "      <td>interlagos</td>\n",
       "      <td>Autódromo José Carlos Pace</td>\n",
       "      <td>São Paulo</td>\n",
       "      <td>Brazil</td>\n",
       "      <td>-23.7036</td>\n",
       "      <td>-46.69970</td>\n",
       "    </tr>\n",
       "    <tr>\n",
       "      <th>20</th>\n",
       "      <td>10</td>\n",
       "      <td>imola</td>\n",
       "      <td>Autodromo Enzo e Dino Ferrari</td>\n",
       "      <td>Imola</td>\n",
       "      <td>Italy</td>\n",
       "      <td>44.3439</td>\n",
       "      <td>11.71670</td>\n",
       "    </tr>\n",
       "    <tr>\n",
       "      <th>21</th>\n",
       "      <td>11</td>\n",
       "      <td>suzuka</td>\n",
       "      <td>Suzuka Circuit</td>\n",
       "      <td>Suzuka</td>\n",
       "      <td>Japan</td>\n",
       "      <td>34.8431</td>\n",
       "      <td>136.54100</td>\n",
       "    </tr>\n",
       "    <tr>\n",
       "      <th>23</th>\n",
       "      <td>12</td>\n",
       "      <td>yas_marina</td>\n",
       "      <td>Yas Marina Circuit</td>\n",
       "      <td>Abu Dhabi</td>\n",
       "      <td>UAE</td>\n",
       "      <td>24.4672</td>\n",
       "      <td>54.60310</td>\n",
       "    </tr>\n",
       "    <tr>\n",
       "      <th>38</th>\n",
       "      <td>13</td>\n",
       "      <td>zandvoort</td>\n",
       "      <td>Circuit Park Zandvoort</td>\n",
       "      <td>Zandvoort</td>\n",
       "      <td>Netherlands</td>\n",
       "      <td>52.3888</td>\n",
       "      <td>4.54092</td>\n",
       "    </tr>\n",
       "    <tr>\n",
       "      <th>43</th>\n",
       "      <td>14</td>\n",
       "      <td>las_vegas</td>\n",
       "      <td>Las Vegas Street Circuit</td>\n",
       "      <td>Nevada</td>\n",
       "      <td>USA</td>\n",
       "      <td>36.1162</td>\n",
       "      <td>-115.17400</td>\n",
       "    </tr>\n",
       "    <tr>\n",
       "      <th>72</th>\n",
       "      <td>15</td>\n",
       "      <td>BAK</td>\n",
       "      <td>Baku City Circuit</td>\n",
       "      <td>Baku</td>\n",
       "      <td>Azerbaijan</td>\n",
       "      <td>40.3725</td>\n",
       "      <td>49.85330</td>\n",
       "    </tr>\n",
       "    <tr>\n",
       "      <th>76</th>\n",
       "      <td>16</td>\n",
       "      <td>jeddah</td>\n",
       "      <td>Jeddah Corniche Circuit</td>\n",
       "      <td>Jeddah</td>\n",
       "      <td>Saudi Arabia</td>\n",
       "      <td>21.6319</td>\n",
       "      <td>39.10440</td>\n",
       "    </tr>\n",
       "    <tr>\n",
       "      <th>77</th>\n",
       "      <td>17</td>\n",
       "      <td>losail</td>\n",
       "      <td>Losail International Circuit</td>\n",
       "      <td>Al Daayen</td>\n",
       "      <td>Qatar</td>\n",
       "      <td>25.4900</td>\n",
       "      <td>51.45420</td>\n",
       "    </tr>\n",
       "    <tr>\n",
       "      <th>78</th>\n",
       "      <td>18</td>\n",
       "      <td>miami</td>\n",
       "      <td>Miami International Autodrome</td>\n",
       "      <td>Miami</td>\n",
       "      <td>USA</td>\n",
       "      <td>25.9581</td>\n",
       "      <td>-80.23890</td>\n",
       "    </tr>\n",
       "  </tbody>\n",
       "</table>\n",
       "</div>"
      ],
      "text/plain": [
       "    circuitId   circuitRef                            name     location  \\\n",
       "0           0  albert_park  Albert Park Grand Prix Circuit    Melbourne   \n",
       "2           1      bahrain   Bahrain International Circuit       Sakhir   \n",
       "3           2    catalunya  Circuit de Barcelona-Catalunya     Montmeló   \n",
       "6           3   villeneuve       Circuit Gilles Villeneuve     Montreal   \n",
       "8           4  silverstone             Silverstone Circuit  Silverstone   \n",
       "10          5  hungaroring                     Hungaroring     Budapest   \n",
       "13          6        monza    Autodromo Nazionale di Monza        Monza   \n",
       "14          7   marina_bay       Marina Bay Street Circuit   Marina Bay   \n",
       "16          8     shanghai  Shanghai International Circuit     Shanghai   \n",
       "17          9   interlagos      Autódromo José Carlos Pace    São Paulo   \n",
       "20         10        imola   Autodromo Enzo e Dino Ferrari        Imola   \n",
       "21         11       suzuka                  Suzuka Circuit       Suzuka   \n",
       "23         12   yas_marina              Yas Marina Circuit    Abu Dhabi   \n",
       "38         13    zandvoort          Circuit Park Zandvoort    Zandvoort   \n",
       "43         14    las_vegas        Las Vegas Street Circuit       Nevada   \n",
       "72         15          BAK               Baku City Circuit         Baku   \n",
       "76         16       jeddah         Jeddah Corniche Circuit       Jeddah   \n",
       "77         17       losail    Losail International Circuit    Al Daayen   \n",
       "78         18        miami   Miami International Autodrome        Miami   \n",
       "\n",
       "         country      lat        lng  \n",
       "0      Australia -37.8497  144.96800  \n",
       "2        Bahrain  26.0325   50.51060  \n",
       "3          Spain  41.5700    2.26111  \n",
       "6         Canada  45.5000  -73.52280  \n",
       "8             UK  52.0786   -1.01694  \n",
       "10       Hungary  47.5789   19.24860  \n",
       "13         Italy  45.6156    9.28111  \n",
       "14     Singapore   1.2914  103.86400  \n",
       "16         China  31.3389  121.22000  \n",
       "17        Brazil -23.7036  -46.69970  \n",
       "20         Italy  44.3439   11.71670  \n",
       "21         Japan  34.8431  136.54100  \n",
       "23           UAE  24.4672   54.60310  \n",
       "38   Netherlands  52.3888    4.54092  \n",
       "43           USA  36.1162 -115.17400  \n",
       "72    Azerbaijan  40.3725   49.85330  \n",
       "76  Saudi Arabia  21.6319   39.10440  \n",
       "77         Qatar  25.4900   51.45420  \n",
       "78           USA  25.9581  -80.23890  "
      ]
     },
     "execution_count": 655,
     "metadata": {},
     "output_type": "execute_result"
    }
   ],
   "source": [
    "# Data for chosen circuits\n",
    "\n",
    "circuits_2023 = circuits[circuits.circuitId.isin(selected_circuits_2023)]\n",
    "\n",
    "circuits_2023 = circuits_2023.replace(list(circuits_2023['circuitId']), list(range(0,len(circuits_2023))))\n",
    "\n",
    "circuits_2023"
   ]
  },
  {
   "cell_type": "code",
   "execution_count": 656,
   "metadata": {},
   "outputs": [],
   "source": [
    "import plotly.graph_objects as go\n",
    "import pandas as pd\n",
    "import geopy.distance\n",
    "import itertools"
   ]
  },
  {
   "cell_type": "code",
   "execution_count": 657,
   "metadata": {},
   "outputs": [
    {
     "data": {
      "text/plain": [
       "171"
      ]
     },
     "execution_count": 657,
     "metadata": {},
     "output_type": "execute_result"
    }
   ],
   "source": [
    "# Create a list of combinations from circuits_2023 \n",
    "\n",
    "combinations = itertools.combinations(list(range(0,len(circuits_2023))), 2)\n",
    "combinations = list(combinations)\n",
    "len(combinations)"
   ]
  },
  {
   "cell_type": "code",
   "execution_count": 658,
   "metadata": {},
   "outputs": [
    {
     "data": {
      "application/vnd.plotly.v1+json": {
       "config": {
        "plotlyServerURL": "https://plot.ly"
       },
       "data": [
        {
         "lat": [
          -37.8497,
          26.0325
         ],
         "line": {
          "color": "turquoise",
          "width": 1
         },
         "lon": [
          144.968,
          50.5106
         ],
         "mode": "lines",
         "opacity": 0.5,
         "type": "scattergeo"
        },
        {
         "lat": [
          -37.8497,
          41.57
         ],
         "line": {
          "color": "turquoise",
          "width": 1
         },
         "lon": [
          144.968,
          2.26111
         ],
         "mode": "lines",
         "opacity": 0.5,
         "type": "scattergeo"
        },
        {
         "lat": [
          -37.8497,
          45.5
         ],
         "line": {
          "color": "turquoise",
          "width": 1
         },
         "lon": [
          144.968,
          -73.5228
         ],
         "mode": "lines",
         "opacity": 0.5,
         "type": "scattergeo"
        },
        {
         "lat": [
          -37.8497,
          52.0786
         ],
         "line": {
          "color": "turquoise",
          "width": 1
         },
         "lon": [
          144.968,
          -1.01694
         ],
         "mode": "lines",
         "opacity": 0.5,
         "type": "scattergeo"
        },
        {
         "lat": [
          -37.8497,
          47.5789
         ],
         "line": {
          "color": "turquoise",
          "width": 1
         },
         "lon": [
          144.968,
          19.2486
         ],
         "mode": "lines",
         "opacity": 0.5,
         "type": "scattergeo"
        },
        {
         "lat": [
          -37.8497,
          45.6156
         ],
         "line": {
          "color": "turquoise",
          "width": 1
         },
         "lon": [
          144.968,
          9.28111
         ],
         "mode": "lines",
         "opacity": 0.5,
         "type": "scattergeo"
        },
        {
         "lat": [
          -37.8497,
          1.2914
         ],
         "line": {
          "color": "turquoise",
          "width": 1
         },
         "lon": [
          144.968,
          103.864
         ],
         "mode": "lines",
         "opacity": 0.5,
         "type": "scattergeo"
        },
        {
         "lat": [
          -37.8497,
          31.3389
         ],
         "line": {
          "color": "turquoise",
          "width": 1
         },
         "lon": [
          144.968,
          121.22
         ],
         "mode": "lines",
         "opacity": 0.5,
         "type": "scattergeo"
        },
        {
         "lat": [
          -37.8497,
          -23.7036
         ],
         "line": {
          "color": "turquoise",
          "width": 1
         },
         "lon": [
          144.968,
          -46.6997
         ],
         "mode": "lines",
         "opacity": 0.5,
         "type": "scattergeo"
        },
        {
         "lat": [
          -37.8497,
          44.3439
         ],
         "line": {
          "color": "turquoise",
          "width": 1
         },
         "lon": [
          144.968,
          11.7167
         ],
         "mode": "lines",
         "opacity": 0.5,
         "type": "scattergeo"
        },
        {
         "lat": [
          -37.8497,
          34.8431
         ],
         "line": {
          "color": "turquoise",
          "width": 1
         },
         "lon": [
          144.968,
          136.541
         ],
         "mode": "lines",
         "opacity": 0.5,
         "type": "scattergeo"
        },
        {
         "lat": [
          -37.8497,
          24.4672
         ],
         "line": {
          "color": "turquoise",
          "width": 1
         },
         "lon": [
          144.968,
          54.6031
         ],
         "mode": "lines",
         "opacity": 0.5,
         "type": "scattergeo"
        },
        {
         "lat": [
          -37.8497,
          52.3888
         ],
         "line": {
          "color": "turquoise",
          "width": 1
         },
         "lon": [
          144.968,
          4.54092
         ],
         "mode": "lines",
         "opacity": 0.5,
         "type": "scattergeo"
        },
        {
         "lat": [
          -37.8497,
          36.1162
         ],
         "line": {
          "color": "turquoise",
          "width": 1
         },
         "lon": [
          144.968,
          -115.174
         ],
         "mode": "lines",
         "opacity": 0.5,
         "type": "scattergeo"
        },
        {
         "lat": [
          -37.8497,
          40.3725
         ],
         "line": {
          "color": "turquoise",
          "width": 1
         },
         "lon": [
          144.968,
          49.8533
         ],
         "mode": "lines",
         "opacity": 0.5,
         "type": "scattergeo"
        },
        {
         "lat": [
          -37.8497,
          21.6319
         ],
         "line": {
          "color": "turquoise",
          "width": 1
         },
         "lon": [
          144.968,
          39.1044
         ],
         "mode": "lines",
         "opacity": 0.5,
         "type": "scattergeo"
        },
        {
         "lat": [
          -37.8497,
          25.49
         ],
         "line": {
          "color": "turquoise",
          "width": 1
         },
         "lon": [
          144.968,
          51.4542
         ],
         "mode": "lines",
         "opacity": 0.5,
         "type": "scattergeo"
        },
        {
         "lat": [
          -37.8497,
          25.9581
         ],
         "line": {
          "color": "turquoise",
          "width": 1
         },
         "lon": [
          144.968,
          -80.2389
         ],
         "mode": "lines",
         "opacity": 0.5,
         "type": "scattergeo"
        },
        {
         "lat": [
          26.0325,
          41.57
         ],
         "line": {
          "color": "turquoise",
          "width": 1
         },
         "lon": [
          50.5106,
          2.26111
         ],
         "mode": "lines",
         "opacity": 0.5,
         "type": "scattergeo"
        },
        {
         "lat": [
          26.0325,
          45.5
         ],
         "line": {
          "color": "turquoise",
          "width": 1
         },
         "lon": [
          50.5106,
          -73.5228
         ],
         "mode": "lines",
         "opacity": 0.5,
         "type": "scattergeo"
        },
        {
         "lat": [
          26.0325,
          52.0786
         ],
         "line": {
          "color": "turquoise",
          "width": 1
         },
         "lon": [
          50.5106,
          -1.01694
         ],
         "mode": "lines",
         "opacity": 0.5,
         "type": "scattergeo"
        },
        {
         "lat": [
          26.0325,
          47.5789
         ],
         "line": {
          "color": "turquoise",
          "width": 1
         },
         "lon": [
          50.5106,
          19.2486
         ],
         "mode": "lines",
         "opacity": 0.5,
         "type": "scattergeo"
        },
        {
         "lat": [
          26.0325,
          45.6156
         ],
         "line": {
          "color": "turquoise",
          "width": 1
         },
         "lon": [
          50.5106,
          9.28111
         ],
         "mode": "lines",
         "opacity": 0.5,
         "type": "scattergeo"
        },
        {
         "lat": [
          26.0325,
          1.2914
         ],
         "line": {
          "color": "turquoise",
          "width": 1
         },
         "lon": [
          50.5106,
          103.864
         ],
         "mode": "lines",
         "opacity": 0.5,
         "type": "scattergeo"
        },
        {
         "lat": [
          26.0325,
          31.3389
         ],
         "line": {
          "color": "turquoise",
          "width": 1
         },
         "lon": [
          50.5106,
          121.22
         ],
         "mode": "lines",
         "opacity": 0.5,
         "type": "scattergeo"
        },
        {
         "lat": [
          26.0325,
          -23.7036
         ],
         "line": {
          "color": "turquoise",
          "width": 1
         },
         "lon": [
          50.5106,
          -46.6997
         ],
         "mode": "lines",
         "opacity": 0.5,
         "type": "scattergeo"
        },
        {
         "lat": [
          26.0325,
          44.3439
         ],
         "line": {
          "color": "turquoise",
          "width": 1
         },
         "lon": [
          50.5106,
          11.7167
         ],
         "mode": "lines",
         "opacity": 0.5,
         "type": "scattergeo"
        },
        {
         "lat": [
          26.0325,
          34.8431
         ],
         "line": {
          "color": "turquoise",
          "width": 1
         },
         "lon": [
          50.5106,
          136.541
         ],
         "mode": "lines",
         "opacity": 0.5,
         "type": "scattergeo"
        },
        {
         "lat": [
          26.0325,
          24.4672
         ],
         "line": {
          "color": "turquoise",
          "width": 1
         },
         "lon": [
          50.5106,
          54.6031
         ],
         "mode": "lines",
         "opacity": 0.5,
         "type": "scattergeo"
        },
        {
         "lat": [
          26.0325,
          52.3888
         ],
         "line": {
          "color": "turquoise",
          "width": 1
         },
         "lon": [
          50.5106,
          4.54092
         ],
         "mode": "lines",
         "opacity": 0.5,
         "type": "scattergeo"
        },
        {
         "lat": [
          26.0325,
          36.1162
         ],
         "line": {
          "color": "turquoise",
          "width": 1
         },
         "lon": [
          50.5106,
          -115.174
         ],
         "mode": "lines",
         "opacity": 0.5,
         "type": "scattergeo"
        },
        {
         "lat": [
          26.0325,
          40.3725
         ],
         "line": {
          "color": "turquoise",
          "width": 1
         },
         "lon": [
          50.5106,
          49.8533
         ],
         "mode": "lines",
         "opacity": 0.5,
         "type": "scattergeo"
        },
        {
         "lat": [
          26.0325,
          21.6319
         ],
         "line": {
          "color": "turquoise",
          "width": 1
         },
         "lon": [
          50.5106,
          39.1044
         ],
         "mode": "lines",
         "opacity": 0.5,
         "type": "scattergeo"
        },
        {
         "lat": [
          26.0325,
          25.49
         ],
         "line": {
          "color": "turquoise",
          "width": 1
         },
         "lon": [
          50.5106,
          51.4542
         ],
         "mode": "lines",
         "opacity": 0.5,
         "type": "scattergeo"
        },
        {
         "lat": [
          26.0325,
          25.9581
         ],
         "line": {
          "color": "turquoise",
          "width": 1
         },
         "lon": [
          50.5106,
          -80.2389
         ],
         "mode": "lines",
         "opacity": 0.5,
         "type": "scattergeo"
        },
        {
         "lat": [
          41.57,
          45.5
         ],
         "line": {
          "color": "turquoise",
          "width": 1
         },
         "lon": [
          2.26111,
          -73.5228
         ],
         "mode": "lines",
         "opacity": 0.5,
         "type": "scattergeo"
        },
        {
         "lat": [
          41.57,
          52.0786
         ],
         "line": {
          "color": "turquoise",
          "width": 1
         },
         "lon": [
          2.26111,
          -1.01694
         ],
         "mode": "lines",
         "opacity": 0.5,
         "type": "scattergeo"
        },
        {
         "lat": [
          41.57,
          47.5789
         ],
         "line": {
          "color": "turquoise",
          "width": 1
         },
         "lon": [
          2.26111,
          19.2486
         ],
         "mode": "lines",
         "opacity": 0.5,
         "type": "scattergeo"
        },
        {
         "lat": [
          41.57,
          45.6156
         ],
         "line": {
          "color": "turquoise",
          "width": 1
         },
         "lon": [
          2.26111,
          9.28111
         ],
         "mode": "lines",
         "opacity": 0.5,
         "type": "scattergeo"
        },
        {
         "lat": [
          41.57,
          1.2914
         ],
         "line": {
          "color": "turquoise",
          "width": 1
         },
         "lon": [
          2.26111,
          103.864
         ],
         "mode": "lines",
         "opacity": 0.5,
         "type": "scattergeo"
        },
        {
         "lat": [
          41.57,
          31.3389
         ],
         "line": {
          "color": "turquoise",
          "width": 1
         },
         "lon": [
          2.26111,
          121.22
         ],
         "mode": "lines",
         "opacity": 0.5,
         "type": "scattergeo"
        },
        {
         "lat": [
          41.57,
          -23.7036
         ],
         "line": {
          "color": "turquoise",
          "width": 1
         },
         "lon": [
          2.26111,
          -46.6997
         ],
         "mode": "lines",
         "opacity": 0.5,
         "type": "scattergeo"
        },
        {
         "lat": [
          41.57,
          44.3439
         ],
         "line": {
          "color": "turquoise",
          "width": 1
         },
         "lon": [
          2.26111,
          11.7167
         ],
         "mode": "lines",
         "opacity": 0.5,
         "type": "scattergeo"
        },
        {
         "lat": [
          41.57,
          34.8431
         ],
         "line": {
          "color": "turquoise",
          "width": 1
         },
         "lon": [
          2.26111,
          136.541
         ],
         "mode": "lines",
         "opacity": 0.5,
         "type": "scattergeo"
        },
        {
         "lat": [
          41.57,
          24.4672
         ],
         "line": {
          "color": "turquoise",
          "width": 1
         },
         "lon": [
          2.26111,
          54.6031
         ],
         "mode": "lines",
         "opacity": 0.5,
         "type": "scattergeo"
        },
        {
         "lat": [
          41.57,
          52.3888
         ],
         "line": {
          "color": "turquoise",
          "width": 1
         },
         "lon": [
          2.26111,
          4.54092
         ],
         "mode": "lines",
         "opacity": 0.5,
         "type": "scattergeo"
        },
        {
         "lat": [
          41.57,
          36.1162
         ],
         "line": {
          "color": "turquoise",
          "width": 1
         },
         "lon": [
          2.26111,
          -115.174
         ],
         "mode": "lines",
         "opacity": 0.5,
         "type": "scattergeo"
        },
        {
         "lat": [
          41.57,
          40.3725
         ],
         "line": {
          "color": "turquoise",
          "width": 1
         },
         "lon": [
          2.26111,
          49.8533
         ],
         "mode": "lines",
         "opacity": 0.5,
         "type": "scattergeo"
        },
        {
         "lat": [
          41.57,
          21.6319
         ],
         "line": {
          "color": "turquoise",
          "width": 1
         },
         "lon": [
          2.26111,
          39.1044
         ],
         "mode": "lines",
         "opacity": 0.5,
         "type": "scattergeo"
        },
        {
         "lat": [
          41.57,
          25.49
         ],
         "line": {
          "color": "turquoise",
          "width": 1
         },
         "lon": [
          2.26111,
          51.4542
         ],
         "mode": "lines",
         "opacity": 0.5,
         "type": "scattergeo"
        },
        {
         "lat": [
          41.57,
          25.9581
         ],
         "line": {
          "color": "turquoise",
          "width": 1
         },
         "lon": [
          2.26111,
          -80.2389
         ],
         "mode": "lines",
         "opacity": 0.5,
         "type": "scattergeo"
        },
        {
         "lat": [
          45.5,
          52.0786
         ],
         "line": {
          "color": "turquoise",
          "width": 1
         },
         "lon": [
          -73.5228,
          -1.01694
         ],
         "mode": "lines",
         "opacity": 0.5,
         "type": "scattergeo"
        },
        {
         "lat": [
          45.5,
          47.5789
         ],
         "line": {
          "color": "turquoise",
          "width": 1
         },
         "lon": [
          -73.5228,
          19.2486
         ],
         "mode": "lines",
         "opacity": 0.5,
         "type": "scattergeo"
        },
        {
         "lat": [
          45.5,
          45.6156
         ],
         "line": {
          "color": "turquoise",
          "width": 1
         },
         "lon": [
          -73.5228,
          9.28111
         ],
         "mode": "lines",
         "opacity": 0.5,
         "type": "scattergeo"
        },
        {
         "lat": [
          45.5,
          1.2914
         ],
         "line": {
          "color": "turquoise",
          "width": 1
         },
         "lon": [
          -73.5228,
          103.864
         ],
         "mode": "lines",
         "opacity": 0.5,
         "type": "scattergeo"
        },
        {
         "lat": [
          45.5,
          31.3389
         ],
         "line": {
          "color": "turquoise",
          "width": 1
         },
         "lon": [
          -73.5228,
          121.22
         ],
         "mode": "lines",
         "opacity": 0.5,
         "type": "scattergeo"
        },
        {
         "lat": [
          45.5,
          -23.7036
         ],
         "line": {
          "color": "turquoise",
          "width": 1
         },
         "lon": [
          -73.5228,
          -46.6997
         ],
         "mode": "lines",
         "opacity": 0.5,
         "type": "scattergeo"
        },
        {
         "lat": [
          45.5,
          44.3439
         ],
         "line": {
          "color": "turquoise",
          "width": 1
         },
         "lon": [
          -73.5228,
          11.7167
         ],
         "mode": "lines",
         "opacity": 0.5,
         "type": "scattergeo"
        },
        {
         "lat": [
          45.5,
          34.8431
         ],
         "line": {
          "color": "turquoise",
          "width": 1
         },
         "lon": [
          -73.5228,
          136.541
         ],
         "mode": "lines",
         "opacity": 0.5,
         "type": "scattergeo"
        },
        {
         "lat": [
          45.5,
          24.4672
         ],
         "line": {
          "color": "turquoise",
          "width": 1
         },
         "lon": [
          -73.5228,
          54.6031
         ],
         "mode": "lines",
         "opacity": 0.5,
         "type": "scattergeo"
        },
        {
         "lat": [
          45.5,
          52.3888
         ],
         "line": {
          "color": "turquoise",
          "width": 1
         },
         "lon": [
          -73.5228,
          4.54092
         ],
         "mode": "lines",
         "opacity": 0.5,
         "type": "scattergeo"
        },
        {
         "lat": [
          45.5,
          36.1162
         ],
         "line": {
          "color": "turquoise",
          "width": 1
         },
         "lon": [
          -73.5228,
          -115.174
         ],
         "mode": "lines",
         "opacity": 0.5,
         "type": "scattergeo"
        },
        {
         "lat": [
          45.5,
          40.3725
         ],
         "line": {
          "color": "turquoise",
          "width": 1
         },
         "lon": [
          -73.5228,
          49.8533
         ],
         "mode": "lines",
         "opacity": 0.5,
         "type": "scattergeo"
        },
        {
         "lat": [
          45.5,
          21.6319
         ],
         "line": {
          "color": "turquoise",
          "width": 1
         },
         "lon": [
          -73.5228,
          39.1044
         ],
         "mode": "lines",
         "opacity": 0.5,
         "type": "scattergeo"
        },
        {
         "lat": [
          45.5,
          25.49
         ],
         "line": {
          "color": "turquoise",
          "width": 1
         },
         "lon": [
          -73.5228,
          51.4542
         ],
         "mode": "lines",
         "opacity": 0.5,
         "type": "scattergeo"
        },
        {
         "lat": [
          45.5,
          25.9581
         ],
         "line": {
          "color": "turquoise",
          "width": 1
         },
         "lon": [
          -73.5228,
          -80.2389
         ],
         "mode": "lines",
         "opacity": 0.5,
         "type": "scattergeo"
        },
        {
         "lat": [
          52.0786,
          47.5789
         ],
         "line": {
          "color": "turquoise",
          "width": 1
         },
         "lon": [
          -1.01694,
          19.2486
         ],
         "mode": "lines",
         "opacity": 0.5,
         "type": "scattergeo"
        },
        {
         "lat": [
          52.0786,
          45.6156
         ],
         "line": {
          "color": "turquoise",
          "width": 1
         },
         "lon": [
          -1.01694,
          9.28111
         ],
         "mode": "lines",
         "opacity": 0.5,
         "type": "scattergeo"
        },
        {
         "lat": [
          52.0786,
          1.2914
         ],
         "line": {
          "color": "turquoise",
          "width": 1
         },
         "lon": [
          -1.01694,
          103.864
         ],
         "mode": "lines",
         "opacity": 0.5,
         "type": "scattergeo"
        },
        {
         "lat": [
          52.0786,
          31.3389
         ],
         "line": {
          "color": "turquoise",
          "width": 1
         },
         "lon": [
          -1.01694,
          121.22
         ],
         "mode": "lines",
         "opacity": 0.5,
         "type": "scattergeo"
        },
        {
         "lat": [
          52.0786,
          -23.7036
         ],
         "line": {
          "color": "turquoise",
          "width": 1
         },
         "lon": [
          -1.01694,
          -46.6997
         ],
         "mode": "lines",
         "opacity": 0.5,
         "type": "scattergeo"
        },
        {
         "lat": [
          52.0786,
          44.3439
         ],
         "line": {
          "color": "turquoise",
          "width": 1
         },
         "lon": [
          -1.01694,
          11.7167
         ],
         "mode": "lines",
         "opacity": 0.5,
         "type": "scattergeo"
        },
        {
         "lat": [
          52.0786,
          34.8431
         ],
         "line": {
          "color": "turquoise",
          "width": 1
         },
         "lon": [
          -1.01694,
          136.541
         ],
         "mode": "lines",
         "opacity": 0.5,
         "type": "scattergeo"
        },
        {
         "lat": [
          52.0786,
          24.4672
         ],
         "line": {
          "color": "turquoise",
          "width": 1
         },
         "lon": [
          -1.01694,
          54.6031
         ],
         "mode": "lines",
         "opacity": 0.5,
         "type": "scattergeo"
        },
        {
         "lat": [
          52.0786,
          52.3888
         ],
         "line": {
          "color": "turquoise",
          "width": 1
         },
         "lon": [
          -1.01694,
          4.54092
         ],
         "mode": "lines",
         "opacity": 0.5,
         "type": "scattergeo"
        },
        {
         "lat": [
          52.0786,
          36.1162
         ],
         "line": {
          "color": "turquoise",
          "width": 1
         },
         "lon": [
          -1.01694,
          -115.174
         ],
         "mode": "lines",
         "opacity": 0.5,
         "type": "scattergeo"
        },
        {
         "lat": [
          52.0786,
          40.3725
         ],
         "line": {
          "color": "turquoise",
          "width": 1
         },
         "lon": [
          -1.01694,
          49.8533
         ],
         "mode": "lines",
         "opacity": 0.5,
         "type": "scattergeo"
        },
        {
         "lat": [
          52.0786,
          21.6319
         ],
         "line": {
          "color": "turquoise",
          "width": 1
         },
         "lon": [
          -1.01694,
          39.1044
         ],
         "mode": "lines",
         "opacity": 0.5,
         "type": "scattergeo"
        },
        {
         "lat": [
          52.0786,
          25.49
         ],
         "line": {
          "color": "turquoise",
          "width": 1
         },
         "lon": [
          -1.01694,
          51.4542
         ],
         "mode": "lines",
         "opacity": 0.5,
         "type": "scattergeo"
        },
        {
         "lat": [
          52.0786,
          25.9581
         ],
         "line": {
          "color": "turquoise",
          "width": 1
         },
         "lon": [
          -1.01694,
          -80.2389
         ],
         "mode": "lines",
         "opacity": 0.5,
         "type": "scattergeo"
        },
        {
         "lat": [
          47.5789,
          45.6156
         ],
         "line": {
          "color": "turquoise",
          "width": 1
         },
         "lon": [
          19.2486,
          9.28111
         ],
         "mode": "lines",
         "opacity": 0.5,
         "type": "scattergeo"
        },
        {
         "lat": [
          47.5789,
          1.2914
         ],
         "line": {
          "color": "turquoise",
          "width": 1
         },
         "lon": [
          19.2486,
          103.864
         ],
         "mode": "lines",
         "opacity": 0.5,
         "type": "scattergeo"
        },
        {
         "lat": [
          47.5789,
          31.3389
         ],
         "line": {
          "color": "turquoise",
          "width": 1
         },
         "lon": [
          19.2486,
          121.22
         ],
         "mode": "lines",
         "opacity": 0.5,
         "type": "scattergeo"
        },
        {
         "lat": [
          47.5789,
          -23.7036
         ],
         "line": {
          "color": "turquoise",
          "width": 1
         },
         "lon": [
          19.2486,
          -46.6997
         ],
         "mode": "lines",
         "opacity": 0.5,
         "type": "scattergeo"
        },
        {
         "lat": [
          47.5789,
          44.3439
         ],
         "line": {
          "color": "turquoise",
          "width": 1
         },
         "lon": [
          19.2486,
          11.7167
         ],
         "mode": "lines",
         "opacity": 0.5,
         "type": "scattergeo"
        },
        {
         "lat": [
          47.5789,
          34.8431
         ],
         "line": {
          "color": "turquoise",
          "width": 1
         },
         "lon": [
          19.2486,
          136.541
         ],
         "mode": "lines",
         "opacity": 0.5,
         "type": "scattergeo"
        },
        {
         "lat": [
          47.5789,
          24.4672
         ],
         "line": {
          "color": "turquoise",
          "width": 1
         },
         "lon": [
          19.2486,
          54.6031
         ],
         "mode": "lines",
         "opacity": 0.5,
         "type": "scattergeo"
        },
        {
         "lat": [
          47.5789,
          52.3888
         ],
         "line": {
          "color": "turquoise",
          "width": 1
         },
         "lon": [
          19.2486,
          4.54092
         ],
         "mode": "lines",
         "opacity": 0.5,
         "type": "scattergeo"
        },
        {
         "lat": [
          47.5789,
          36.1162
         ],
         "line": {
          "color": "turquoise",
          "width": 1
         },
         "lon": [
          19.2486,
          -115.174
         ],
         "mode": "lines",
         "opacity": 0.5,
         "type": "scattergeo"
        },
        {
         "lat": [
          47.5789,
          40.3725
         ],
         "line": {
          "color": "turquoise",
          "width": 1
         },
         "lon": [
          19.2486,
          49.8533
         ],
         "mode": "lines",
         "opacity": 0.5,
         "type": "scattergeo"
        },
        {
         "lat": [
          47.5789,
          21.6319
         ],
         "line": {
          "color": "turquoise",
          "width": 1
         },
         "lon": [
          19.2486,
          39.1044
         ],
         "mode": "lines",
         "opacity": 0.5,
         "type": "scattergeo"
        },
        {
         "lat": [
          47.5789,
          25.49
         ],
         "line": {
          "color": "turquoise",
          "width": 1
         },
         "lon": [
          19.2486,
          51.4542
         ],
         "mode": "lines",
         "opacity": 0.5,
         "type": "scattergeo"
        },
        {
         "lat": [
          47.5789,
          25.9581
         ],
         "line": {
          "color": "turquoise",
          "width": 1
         },
         "lon": [
          19.2486,
          -80.2389
         ],
         "mode": "lines",
         "opacity": 0.5,
         "type": "scattergeo"
        },
        {
         "lat": [
          45.6156,
          1.2914
         ],
         "line": {
          "color": "turquoise",
          "width": 1
         },
         "lon": [
          9.28111,
          103.864
         ],
         "mode": "lines",
         "opacity": 0.5,
         "type": "scattergeo"
        },
        {
         "lat": [
          45.6156,
          31.3389
         ],
         "line": {
          "color": "turquoise",
          "width": 1
         },
         "lon": [
          9.28111,
          121.22
         ],
         "mode": "lines",
         "opacity": 0.5,
         "type": "scattergeo"
        },
        {
         "lat": [
          45.6156,
          -23.7036
         ],
         "line": {
          "color": "turquoise",
          "width": 1
         },
         "lon": [
          9.28111,
          -46.6997
         ],
         "mode": "lines",
         "opacity": 0.5,
         "type": "scattergeo"
        },
        {
         "lat": [
          45.6156,
          44.3439
         ],
         "line": {
          "color": "turquoise",
          "width": 1
         },
         "lon": [
          9.28111,
          11.7167
         ],
         "mode": "lines",
         "opacity": 0.5,
         "type": "scattergeo"
        },
        {
         "lat": [
          45.6156,
          34.8431
         ],
         "line": {
          "color": "turquoise",
          "width": 1
         },
         "lon": [
          9.28111,
          136.541
         ],
         "mode": "lines",
         "opacity": 0.5,
         "type": "scattergeo"
        },
        {
         "lat": [
          45.6156,
          24.4672
         ],
         "line": {
          "color": "turquoise",
          "width": 1
         },
         "lon": [
          9.28111,
          54.6031
         ],
         "mode": "lines",
         "opacity": 0.5,
         "type": "scattergeo"
        },
        {
         "lat": [
          45.6156,
          52.3888
         ],
         "line": {
          "color": "turquoise",
          "width": 1
         },
         "lon": [
          9.28111,
          4.54092
         ],
         "mode": "lines",
         "opacity": 0.5,
         "type": "scattergeo"
        },
        {
         "lat": [
          45.6156,
          36.1162
         ],
         "line": {
          "color": "turquoise",
          "width": 1
         },
         "lon": [
          9.28111,
          -115.174
         ],
         "mode": "lines",
         "opacity": 0.5,
         "type": "scattergeo"
        },
        {
         "lat": [
          45.6156,
          40.3725
         ],
         "line": {
          "color": "turquoise",
          "width": 1
         },
         "lon": [
          9.28111,
          49.8533
         ],
         "mode": "lines",
         "opacity": 0.5,
         "type": "scattergeo"
        },
        {
         "lat": [
          45.6156,
          21.6319
         ],
         "line": {
          "color": "turquoise",
          "width": 1
         },
         "lon": [
          9.28111,
          39.1044
         ],
         "mode": "lines",
         "opacity": 0.5,
         "type": "scattergeo"
        },
        {
         "lat": [
          45.6156,
          25.49
         ],
         "line": {
          "color": "turquoise",
          "width": 1
         },
         "lon": [
          9.28111,
          51.4542
         ],
         "mode": "lines",
         "opacity": 0.5,
         "type": "scattergeo"
        },
        {
         "lat": [
          45.6156,
          25.9581
         ],
         "line": {
          "color": "turquoise",
          "width": 1
         },
         "lon": [
          9.28111,
          -80.2389
         ],
         "mode": "lines",
         "opacity": 0.5,
         "type": "scattergeo"
        },
        {
         "lat": [
          1.2914,
          31.3389
         ],
         "line": {
          "color": "turquoise",
          "width": 1
         },
         "lon": [
          103.864,
          121.22
         ],
         "mode": "lines",
         "opacity": 0.5,
         "type": "scattergeo"
        },
        {
         "lat": [
          1.2914,
          -23.7036
         ],
         "line": {
          "color": "turquoise",
          "width": 1
         },
         "lon": [
          103.864,
          -46.6997
         ],
         "mode": "lines",
         "opacity": 0.5,
         "type": "scattergeo"
        },
        {
         "lat": [
          1.2914,
          44.3439
         ],
         "line": {
          "color": "turquoise",
          "width": 1
         },
         "lon": [
          103.864,
          11.7167
         ],
         "mode": "lines",
         "opacity": 0.5,
         "type": "scattergeo"
        },
        {
         "lat": [
          1.2914,
          34.8431
         ],
         "line": {
          "color": "turquoise",
          "width": 1
         },
         "lon": [
          103.864,
          136.541
         ],
         "mode": "lines",
         "opacity": 0.5,
         "type": "scattergeo"
        },
        {
         "lat": [
          1.2914,
          24.4672
         ],
         "line": {
          "color": "turquoise",
          "width": 1
         },
         "lon": [
          103.864,
          54.6031
         ],
         "mode": "lines",
         "opacity": 0.5,
         "type": "scattergeo"
        },
        {
         "lat": [
          1.2914,
          52.3888
         ],
         "line": {
          "color": "turquoise",
          "width": 1
         },
         "lon": [
          103.864,
          4.54092
         ],
         "mode": "lines",
         "opacity": 0.5,
         "type": "scattergeo"
        },
        {
         "lat": [
          1.2914,
          36.1162
         ],
         "line": {
          "color": "turquoise",
          "width": 1
         },
         "lon": [
          103.864,
          -115.174
         ],
         "mode": "lines",
         "opacity": 0.5,
         "type": "scattergeo"
        },
        {
         "lat": [
          1.2914,
          40.3725
         ],
         "line": {
          "color": "turquoise",
          "width": 1
         },
         "lon": [
          103.864,
          49.8533
         ],
         "mode": "lines",
         "opacity": 0.5,
         "type": "scattergeo"
        },
        {
         "lat": [
          1.2914,
          21.6319
         ],
         "line": {
          "color": "turquoise",
          "width": 1
         },
         "lon": [
          103.864,
          39.1044
         ],
         "mode": "lines",
         "opacity": 0.5,
         "type": "scattergeo"
        },
        {
         "lat": [
          1.2914,
          25.49
         ],
         "line": {
          "color": "turquoise",
          "width": 1
         },
         "lon": [
          103.864,
          51.4542
         ],
         "mode": "lines",
         "opacity": 0.5,
         "type": "scattergeo"
        },
        {
         "lat": [
          1.2914,
          25.9581
         ],
         "line": {
          "color": "turquoise",
          "width": 1
         },
         "lon": [
          103.864,
          -80.2389
         ],
         "mode": "lines",
         "opacity": 0.5,
         "type": "scattergeo"
        },
        {
         "lat": [
          31.3389,
          -23.7036
         ],
         "line": {
          "color": "turquoise",
          "width": 1
         },
         "lon": [
          121.22,
          -46.6997
         ],
         "mode": "lines",
         "opacity": 0.5,
         "type": "scattergeo"
        },
        {
         "lat": [
          31.3389,
          44.3439
         ],
         "line": {
          "color": "turquoise",
          "width": 1
         },
         "lon": [
          121.22,
          11.7167
         ],
         "mode": "lines",
         "opacity": 0.5,
         "type": "scattergeo"
        },
        {
         "lat": [
          31.3389,
          34.8431
         ],
         "line": {
          "color": "turquoise",
          "width": 1
         },
         "lon": [
          121.22,
          136.541
         ],
         "mode": "lines",
         "opacity": 0.5,
         "type": "scattergeo"
        },
        {
         "lat": [
          31.3389,
          24.4672
         ],
         "line": {
          "color": "turquoise",
          "width": 1
         },
         "lon": [
          121.22,
          54.6031
         ],
         "mode": "lines",
         "opacity": 0.5,
         "type": "scattergeo"
        },
        {
         "lat": [
          31.3389,
          52.3888
         ],
         "line": {
          "color": "turquoise",
          "width": 1
         },
         "lon": [
          121.22,
          4.54092
         ],
         "mode": "lines",
         "opacity": 0.5,
         "type": "scattergeo"
        },
        {
         "lat": [
          31.3389,
          36.1162
         ],
         "line": {
          "color": "turquoise",
          "width": 1
         },
         "lon": [
          121.22,
          -115.174
         ],
         "mode": "lines",
         "opacity": 0.5,
         "type": "scattergeo"
        },
        {
         "lat": [
          31.3389,
          40.3725
         ],
         "line": {
          "color": "turquoise",
          "width": 1
         },
         "lon": [
          121.22,
          49.8533
         ],
         "mode": "lines",
         "opacity": 0.5,
         "type": "scattergeo"
        },
        {
         "lat": [
          31.3389,
          21.6319
         ],
         "line": {
          "color": "turquoise",
          "width": 1
         },
         "lon": [
          121.22,
          39.1044
         ],
         "mode": "lines",
         "opacity": 0.5,
         "type": "scattergeo"
        },
        {
         "lat": [
          31.3389,
          25.49
         ],
         "line": {
          "color": "turquoise",
          "width": 1
         },
         "lon": [
          121.22,
          51.4542
         ],
         "mode": "lines",
         "opacity": 0.5,
         "type": "scattergeo"
        },
        {
         "lat": [
          31.3389,
          25.9581
         ],
         "line": {
          "color": "turquoise",
          "width": 1
         },
         "lon": [
          121.22,
          -80.2389
         ],
         "mode": "lines",
         "opacity": 0.5,
         "type": "scattergeo"
        },
        {
         "lat": [
          -23.7036,
          44.3439
         ],
         "line": {
          "color": "turquoise",
          "width": 1
         },
         "lon": [
          -46.6997,
          11.7167
         ],
         "mode": "lines",
         "opacity": 0.5,
         "type": "scattergeo"
        },
        {
         "lat": [
          -23.7036,
          34.8431
         ],
         "line": {
          "color": "turquoise",
          "width": 1
         },
         "lon": [
          -46.6997,
          136.541
         ],
         "mode": "lines",
         "opacity": 0.5,
         "type": "scattergeo"
        },
        {
         "lat": [
          -23.7036,
          24.4672
         ],
         "line": {
          "color": "turquoise",
          "width": 1
         },
         "lon": [
          -46.6997,
          54.6031
         ],
         "mode": "lines",
         "opacity": 0.5,
         "type": "scattergeo"
        },
        {
         "lat": [
          -23.7036,
          52.3888
         ],
         "line": {
          "color": "turquoise",
          "width": 1
         },
         "lon": [
          -46.6997,
          4.54092
         ],
         "mode": "lines",
         "opacity": 0.5,
         "type": "scattergeo"
        },
        {
         "lat": [
          -23.7036,
          36.1162
         ],
         "line": {
          "color": "turquoise",
          "width": 1
         },
         "lon": [
          -46.6997,
          -115.174
         ],
         "mode": "lines",
         "opacity": 0.5,
         "type": "scattergeo"
        },
        {
         "lat": [
          -23.7036,
          40.3725
         ],
         "line": {
          "color": "turquoise",
          "width": 1
         },
         "lon": [
          -46.6997,
          49.8533
         ],
         "mode": "lines",
         "opacity": 0.5,
         "type": "scattergeo"
        },
        {
         "lat": [
          -23.7036,
          21.6319
         ],
         "line": {
          "color": "turquoise",
          "width": 1
         },
         "lon": [
          -46.6997,
          39.1044
         ],
         "mode": "lines",
         "opacity": 0.5,
         "type": "scattergeo"
        },
        {
         "lat": [
          -23.7036,
          25.49
         ],
         "line": {
          "color": "turquoise",
          "width": 1
         },
         "lon": [
          -46.6997,
          51.4542
         ],
         "mode": "lines",
         "opacity": 0.5,
         "type": "scattergeo"
        },
        {
         "lat": [
          -23.7036,
          25.9581
         ],
         "line": {
          "color": "turquoise",
          "width": 1
         },
         "lon": [
          -46.6997,
          -80.2389
         ],
         "mode": "lines",
         "opacity": 0.5,
         "type": "scattergeo"
        },
        {
         "lat": [
          44.3439,
          34.8431
         ],
         "line": {
          "color": "turquoise",
          "width": 1
         },
         "lon": [
          11.7167,
          136.541
         ],
         "mode": "lines",
         "opacity": 0.5,
         "type": "scattergeo"
        },
        {
         "lat": [
          44.3439,
          24.4672
         ],
         "line": {
          "color": "turquoise",
          "width": 1
         },
         "lon": [
          11.7167,
          54.6031
         ],
         "mode": "lines",
         "opacity": 0.5,
         "type": "scattergeo"
        },
        {
         "lat": [
          44.3439,
          52.3888
         ],
         "line": {
          "color": "turquoise",
          "width": 1
         },
         "lon": [
          11.7167,
          4.54092
         ],
         "mode": "lines",
         "opacity": 0.5,
         "type": "scattergeo"
        },
        {
         "lat": [
          44.3439,
          36.1162
         ],
         "line": {
          "color": "turquoise",
          "width": 1
         },
         "lon": [
          11.7167,
          -115.174
         ],
         "mode": "lines",
         "opacity": 0.5,
         "type": "scattergeo"
        },
        {
         "lat": [
          44.3439,
          40.3725
         ],
         "line": {
          "color": "turquoise",
          "width": 1
         },
         "lon": [
          11.7167,
          49.8533
         ],
         "mode": "lines",
         "opacity": 0.5,
         "type": "scattergeo"
        },
        {
         "lat": [
          44.3439,
          21.6319
         ],
         "line": {
          "color": "turquoise",
          "width": 1
         },
         "lon": [
          11.7167,
          39.1044
         ],
         "mode": "lines",
         "opacity": 0.5,
         "type": "scattergeo"
        },
        {
         "lat": [
          44.3439,
          25.49
         ],
         "line": {
          "color": "turquoise",
          "width": 1
         },
         "lon": [
          11.7167,
          51.4542
         ],
         "mode": "lines",
         "opacity": 0.5,
         "type": "scattergeo"
        },
        {
         "lat": [
          44.3439,
          25.9581
         ],
         "line": {
          "color": "turquoise",
          "width": 1
         },
         "lon": [
          11.7167,
          -80.2389
         ],
         "mode": "lines",
         "opacity": 0.5,
         "type": "scattergeo"
        },
        {
         "lat": [
          34.8431,
          24.4672
         ],
         "line": {
          "color": "turquoise",
          "width": 1
         },
         "lon": [
          136.541,
          54.6031
         ],
         "mode": "lines",
         "opacity": 0.5,
         "type": "scattergeo"
        },
        {
         "lat": [
          34.8431,
          52.3888
         ],
         "line": {
          "color": "turquoise",
          "width": 1
         },
         "lon": [
          136.541,
          4.54092
         ],
         "mode": "lines",
         "opacity": 0.5,
         "type": "scattergeo"
        },
        {
         "lat": [
          34.8431,
          36.1162
         ],
         "line": {
          "color": "turquoise",
          "width": 1
         },
         "lon": [
          136.541,
          -115.174
         ],
         "mode": "lines",
         "opacity": 0.5,
         "type": "scattergeo"
        },
        {
         "lat": [
          34.8431,
          40.3725
         ],
         "line": {
          "color": "turquoise",
          "width": 1
         },
         "lon": [
          136.541,
          49.8533
         ],
         "mode": "lines",
         "opacity": 0.5,
         "type": "scattergeo"
        },
        {
         "lat": [
          34.8431,
          21.6319
         ],
         "line": {
          "color": "turquoise",
          "width": 1
         },
         "lon": [
          136.541,
          39.1044
         ],
         "mode": "lines",
         "opacity": 0.5,
         "type": "scattergeo"
        },
        {
         "lat": [
          34.8431,
          25.49
         ],
         "line": {
          "color": "turquoise",
          "width": 1
         },
         "lon": [
          136.541,
          51.4542
         ],
         "mode": "lines",
         "opacity": 0.5,
         "type": "scattergeo"
        },
        {
         "lat": [
          34.8431,
          25.9581
         ],
         "line": {
          "color": "turquoise",
          "width": 1
         },
         "lon": [
          136.541,
          -80.2389
         ],
         "mode": "lines",
         "opacity": 0.5,
         "type": "scattergeo"
        },
        {
         "lat": [
          24.4672,
          52.3888
         ],
         "line": {
          "color": "turquoise",
          "width": 1
         },
         "lon": [
          54.6031,
          4.54092
         ],
         "mode": "lines",
         "opacity": 0.5,
         "type": "scattergeo"
        },
        {
         "lat": [
          24.4672,
          36.1162
         ],
         "line": {
          "color": "turquoise",
          "width": 1
         },
         "lon": [
          54.6031,
          -115.174
         ],
         "mode": "lines",
         "opacity": 0.5,
         "type": "scattergeo"
        },
        {
         "lat": [
          24.4672,
          40.3725
         ],
         "line": {
          "color": "turquoise",
          "width": 1
         },
         "lon": [
          54.6031,
          49.8533
         ],
         "mode": "lines",
         "opacity": 0.5,
         "type": "scattergeo"
        },
        {
         "lat": [
          24.4672,
          21.6319
         ],
         "line": {
          "color": "turquoise",
          "width": 1
         },
         "lon": [
          54.6031,
          39.1044
         ],
         "mode": "lines",
         "opacity": 0.5,
         "type": "scattergeo"
        },
        {
         "lat": [
          24.4672,
          25.49
         ],
         "line": {
          "color": "turquoise",
          "width": 1
         },
         "lon": [
          54.6031,
          51.4542
         ],
         "mode": "lines",
         "opacity": 0.5,
         "type": "scattergeo"
        },
        {
         "lat": [
          24.4672,
          25.9581
         ],
         "line": {
          "color": "turquoise",
          "width": 1
         },
         "lon": [
          54.6031,
          -80.2389
         ],
         "mode": "lines",
         "opacity": 0.5,
         "type": "scattergeo"
        },
        {
         "lat": [
          52.3888,
          36.1162
         ],
         "line": {
          "color": "turquoise",
          "width": 1
         },
         "lon": [
          4.54092,
          -115.174
         ],
         "mode": "lines",
         "opacity": 0.5,
         "type": "scattergeo"
        },
        {
         "lat": [
          52.3888,
          40.3725
         ],
         "line": {
          "color": "turquoise",
          "width": 1
         },
         "lon": [
          4.54092,
          49.8533
         ],
         "mode": "lines",
         "opacity": 0.5,
         "type": "scattergeo"
        },
        {
         "lat": [
          52.3888,
          21.6319
         ],
         "line": {
          "color": "turquoise",
          "width": 1
         },
         "lon": [
          4.54092,
          39.1044
         ],
         "mode": "lines",
         "opacity": 0.5,
         "type": "scattergeo"
        },
        {
         "lat": [
          52.3888,
          25.49
         ],
         "line": {
          "color": "turquoise",
          "width": 1
         },
         "lon": [
          4.54092,
          51.4542
         ],
         "mode": "lines",
         "opacity": 0.5,
         "type": "scattergeo"
        },
        {
         "lat": [
          52.3888,
          25.9581
         ],
         "line": {
          "color": "turquoise",
          "width": 1
         },
         "lon": [
          4.54092,
          -80.2389
         ],
         "mode": "lines",
         "opacity": 0.5,
         "type": "scattergeo"
        },
        {
         "lat": [
          36.1162,
          40.3725
         ],
         "line": {
          "color": "turquoise",
          "width": 1
         },
         "lon": [
          -115.174,
          49.8533
         ],
         "mode": "lines",
         "opacity": 0.5,
         "type": "scattergeo"
        },
        {
         "lat": [
          36.1162,
          21.6319
         ],
         "line": {
          "color": "turquoise",
          "width": 1
         },
         "lon": [
          -115.174,
          39.1044
         ],
         "mode": "lines",
         "opacity": 0.5,
         "type": "scattergeo"
        },
        {
         "lat": [
          36.1162,
          25.49
         ],
         "line": {
          "color": "turquoise",
          "width": 1
         },
         "lon": [
          -115.174,
          51.4542
         ],
         "mode": "lines",
         "opacity": 0.5,
         "type": "scattergeo"
        },
        {
         "lat": [
          36.1162,
          25.9581
         ],
         "line": {
          "color": "turquoise",
          "width": 1
         },
         "lon": [
          -115.174,
          -80.2389
         ],
         "mode": "lines",
         "opacity": 0.5,
         "type": "scattergeo"
        },
        {
         "lat": [
          40.3725,
          21.6319
         ],
         "line": {
          "color": "turquoise",
          "width": 1
         },
         "lon": [
          49.8533,
          39.1044
         ],
         "mode": "lines",
         "opacity": 0.5,
         "type": "scattergeo"
        },
        {
         "lat": [
          40.3725,
          25.49
         ],
         "line": {
          "color": "turquoise",
          "width": 1
         },
         "lon": [
          49.8533,
          51.4542
         ],
         "mode": "lines",
         "opacity": 0.5,
         "type": "scattergeo"
        },
        {
         "lat": [
          40.3725,
          25.9581
         ],
         "line": {
          "color": "turquoise",
          "width": 1
         },
         "lon": [
          49.8533,
          -80.2389
         ],
         "mode": "lines",
         "opacity": 0.5,
         "type": "scattergeo"
        },
        {
         "lat": [
          21.6319,
          25.49
         ],
         "line": {
          "color": "turquoise",
          "width": 1
         },
         "lon": [
          39.1044,
          51.4542
         ],
         "mode": "lines",
         "opacity": 0.5,
         "type": "scattergeo"
        },
        {
         "lat": [
          21.6319,
          25.9581
         ],
         "line": {
          "color": "turquoise",
          "width": 1
         },
         "lon": [
          39.1044,
          -80.2389
         ],
         "mode": "lines",
         "opacity": 0.5,
         "type": "scattergeo"
        },
        {
         "lat": [
          25.49,
          25.9581
         ],
         "line": {
          "color": "turquoise",
          "width": 1
         },
         "lon": [
          51.4542,
          -80.2389
         ],
         "mode": "lines",
         "opacity": 0.5,
         "type": "scattergeo"
        },
        {
         "hoverinfo": "text",
         "lat": [
          -37.8497,
          26.0325,
          41.57,
          45.5,
          52.0786,
          47.5789,
          45.6156,
          1.2914,
          31.3389,
          -23.7036,
          44.3439,
          34.8431,
          24.4672,
          52.3888,
          36.1162,
          40.3725,
          21.6319,
          25.49,
          25.9581
         ],
         "lon": [
          144.968,
          50.5106,
          2.26111,
          -73.5228,
          -1.01694,
          19.2486,
          9.28111,
          103.864,
          121.22,
          -46.6997,
          11.7167,
          136.541,
          54.6031,
          4.54092,
          -115.174,
          49.8533,
          39.1044,
          51.4542,
          -80.2389
         ],
         "marker": {
          "color": "crimson",
          "line": {
           "color": "rgba(68, 68, 68, 0)",
           "width": 3
          },
          "size": 7
         },
         "mode": "markers",
         "text": [
          "Albert Park Grand Prix Circuit",
          "Bahrain International Circuit",
          "Circuit de Barcelona-Catalunya",
          "Circuit Gilles Villeneuve",
          "Silverstone Circuit",
          "Hungaroring",
          "Autodromo Nazionale di Monza",
          "Marina Bay Street Circuit",
          "Shanghai International Circuit",
          "Autódromo José Carlos Pace",
          "Autodromo Enzo e Dino Ferrari",
          "Suzuka Circuit",
          "Yas Marina Circuit",
          "Circuit Park Zandvoort",
          "Las Vegas Street Circuit",
          "Baku City Circuit",
          "Jeddah Corniche Circuit",
          "Losail International Circuit",
          "Miami International Autodrome"
         ],
         "type": "scattergeo"
        }
       ],
       "layout": {
        "geo": {
         "countrycolor": "white",
         "projection": {
          "type": "orthographic"
         },
         "scope": "world",
         "showcountries": true,
         "showland": true
        },
        "showlegend": false,
        "template": {
         "data": {
          "bar": [
           {
            "error_x": {
             "color": "#2a3f5f"
            },
            "error_y": {
             "color": "#2a3f5f"
            },
            "marker": {
             "line": {
              "color": "#E5ECF6",
              "width": 0.5
             },
             "pattern": {
              "fillmode": "overlay",
              "size": 10,
              "solidity": 0.2
             }
            },
            "type": "bar"
           }
          ],
          "barpolar": [
           {
            "marker": {
             "line": {
              "color": "#E5ECF6",
              "width": 0.5
             },
             "pattern": {
              "fillmode": "overlay",
              "size": 10,
              "solidity": 0.2
             }
            },
            "type": "barpolar"
           }
          ],
          "carpet": [
           {
            "aaxis": {
             "endlinecolor": "#2a3f5f",
             "gridcolor": "white",
             "linecolor": "white",
             "minorgridcolor": "white",
             "startlinecolor": "#2a3f5f"
            },
            "baxis": {
             "endlinecolor": "#2a3f5f",
             "gridcolor": "white",
             "linecolor": "white",
             "minorgridcolor": "white",
             "startlinecolor": "#2a3f5f"
            },
            "type": "carpet"
           }
          ],
          "choropleth": [
           {
            "colorbar": {
             "outlinewidth": 0,
             "ticks": ""
            },
            "type": "choropleth"
           }
          ],
          "contour": [
           {
            "colorbar": {
             "outlinewidth": 0,
             "ticks": ""
            },
            "colorscale": [
             [
              0,
              "#0d0887"
             ],
             [
              0.1111111111111111,
              "#46039f"
             ],
             [
              0.2222222222222222,
              "#7201a8"
             ],
             [
              0.3333333333333333,
              "#9c179e"
             ],
             [
              0.4444444444444444,
              "#bd3786"
             ],
             [
              0.5555555555555556,
              "#d8576b"
             ],
             [
              0.6666666666666666,
              "#ed7953"
             ],
             [
              0.7777777777777778,
              "#fb9f3a"
             ],
             [
              0.8888888888888888,
              "#fdca26"
             ],
             [
              1,
              "#f0f921"
             ]
            ],
            "type": "contour"
           }
          ],
          "contourcarpet": [
           {
            "colorbar": {
             "outlinewidth": 0,
             "ticks": ""
            },
            "type": "contourcarpet"
           }
          ],
          "heatmap": [
           {
            "colorbar": {
             "outlinewidth": 0,
             "ticks": ""
            },
            "colorscale": [
             [
              0,
              "#0d0887"
             ],
             [
              0.1111111111111111,
              "#46039f"
             ],
             [
              0.2222222222222222,
              "#7201a8"
             ],
             [
              0.3333333333333333,
              "#9c179e"
             ],
             [
              0.4444444444444444,
              "#bd3786"
             ],
             [
              0.5555555555555556,
              "#d8576b"
             ],
             [
              0.6666666666666666,
              "#ed7953"
             ],
             [
              0.7777777777777778,
              "#fb9f3a"
             ],
             [
              0.8888888888888888,
              "#fdca26"
             ],
             [
              1,
              "#f0f921"
             ]
            ],
            "type": "heatmap"
           }
          ],
          "heatmapgl": [
           {
            "colorbar": {
             "outlinewidth": 0,
             "ticks": ""
            },
            "colorscale": [
             [
              0,
              "#0d0887"
             ],
             [
              0.1111111111111111,
              "#46039f"
             ],
             [
              0.2222222222222222,
              "#7201a8"
             ],
             [
              0.3333333333333333,
              "#9c179e"
             ],
             [
              0.4444444444444444,
              "#bd3786"
             ],
             [
              0.5555555555555556,
              "#d8576b"
             ],
             [
              0.6666666666666666,
              "#ed7953"
             ],
             [
              0.7777777777777778,
              "#fb9f3a"
             ],
             [
              0.8888888888888888,
              "#fdca26"
             ],
             [
              1,
              "#f0f921"
             ]
            ],
            "type": "heatmapgl"
           }
          ],
          "histogram": [
           {
            "marker": {
             "pattern": {
              "fillmode": "overlay",
              "size": 10,
              "solidity": 0.2
             }
            },
            "type": "histogram"
           }
          ],
          "histogram2d": [
           {
            "colorbar": {
             "outlinewidth": 0,
             "ticks": ""
            },
            "colorscale": [
             [
              0,
              "#0d0887"
             ],
             [
              0.1111111111111111,
              "#46039f"
             ],
             [
              0.2222222222222222,
              "#7201a8"
             ],
             [
              0.3333333333333333,
              "#9c179e"
             ],
             [
              0.4444444444444444,
              "#bd3786"
             ],
             [
              0.5555555555555556,
              "#d8576b"
             ],
             [
              0.6666666666666666,
              "#ed7953"
             ],
             [
              0.7777777777777778,
              "#fb9f3a"
             ],
             [
              0.8888888888888888,
              "#fdca26"
             ],
             [
              1,
              "#f0f921"
             ]
            ],
            "type": "histogram2d"
           }
          ],
          "histogram2dcontour": [
           {
            "colorbar": {
             "outlinewidth": 0,
             "ticks": ""
            },
            "colorscale": [
             [
              0,
              "#0d0887"
             ],
             [
              0.1111111111111111,
              "#46039f"
             ],
             [
              0.2222222222222222,
              "#7201a8"
             ],
             [
              0.3333333333333333,
              "#9c179e"
             ],
             [
              0.4444444444444444,
              "#bd3786"
             ],
             [
              0.5555555555555556,
              "#d8576b"
             ],
             [
              0.6666666666666666,
              "#ed7953"
             ],
             [
              0.7777777777777778,
              "#fb9f3a"
             ],
             [
              0.8888888888888888,
              "#fdca26"
             ],
             [
              1,
              "#f0f921"
             ]
            ],
            "type": "histogram2dcontour"
           }
          ],
          "mesh3d": [
           {
            "colorbar": {
             "outlinewidth": 0,
             "ticks": ""
            },
            "type": "mesh3d"
           }
          ],
          "parcoords": [
           {
            "line": {
             "colorbar": {
              "outlinewidth": 0,
              "ticks": ""
             }
            },
            "type": "parcoords"
           }
          ],
          "pie": [
           {
            "automargin": true,
            "type": "pie"
           }
          ],
          "scatter": [
           {
            "fillpattern": {
             "fillmode": "overlay",
             "size": 10,
             "solidity": 0.2
            },
            "type": "scatter"
           }
          ],
          "scatter3d": [
           {
            "line": {
             "colorbar": {
              "outlinewidth": 0,
              "ticks": ""
             }
            },
            "marker": {
             "colorbar": {
              "outlinewidth": 0,
              "ticks": ""
             }
            },
            "type": "scatter3d"
           }
          ],
          "scattercarpet": [
           {
            "marker": {
             "colorbar": {
              "outlinewidth": 0,
              "ticks": ""
             }
            },
            "type": "scattercarpet"
           }
          ],
          "scattergeo": [
           {
            "marker": {
             "colorbar": {
              "outlinewidth": 0,
              "ticks": ""
             }
            },
            "type": "scattergeo"
           }
          ],
          "scattergl": [
           {
            "marker": {
             "colorbar": {
              "outlinewidth": 0,
              "ticks": ""
             }
            },
            "type": "scattergl"
           }
          ],
          "scattermapbox": [
           {
            "marker": {
             "colorbar": {
              "outlinewidth": 0,
              "ticks": ""
             }
            },
            "type": "scattermapbox"
           }
          ],
          "scatterpolar": [
           {
            "marker": {
             "colorbar": {
              "outlinewidth": 0,
              "ticks": ""
             }
            },
            "type": "scatterpolar"
           }
          ],
          "scatterpolargl": [
           {
            "marker": {
             "colorbar": {
              "outlinewidth": 0,
              "ticks": ""
             }
            },
            "type": "scatterpolargl"
           }
          ],
          "scatterternary": [
           {
            "marker": {
             "colorbar": {
              "outlinewidth": 0,
              "ticks": ""
             }
            },
            "type": "scatterternary"
           }
          ],
          "surface": [
           {
            "colorbar": {
             "outlinewidth": 0,
             "ticks": ""
            },
            "colorscale": [
             [
              0,
              "#0d0887"
             ],
             [
              0.1111111111111111,
              "#46039f"
             ],
             [
              0.2222222222222222,
              "#7201a8"
             ],
             [
              0.3333333333333333,
              "#9c179e"
             ],
             [
              0.4444444444444444,
              "#bd3786"
             ],
             [
              0.5555555555555556,
              "#d8576b"
             ],
             [
              0.6666666666666666,
              "#ed7953"
             ],
             [
              0.7777777777777778,
              "#fb9f3a"
             ],
             [
              0.8888888888888888,
              "#fdca26"
             ],
             [
              1,
              "#f0f921"
             ]
            ],
            "type": "surface"
           }
          ],
          "table": [
           {
            "cells": {
             "fill": {
              "color": "#EBF0F8"
             },
             "line": {
              "color": "white"
             }
            },
            "header": {
             "fill": {
              "color": "#C8D4E3"
             },
             "line": {
              "color": "white"
             }
            },
            "type": "table"
           }
          ]
         },
         "layout": {
          "annotationdefaults": {
           "arrowcolor": "#2a3f5f",
           "arrowhead": 0,
           "arrowwidth": 1
          },
          "autotypenumbers": "strict",
          "coloraxis": {
           "colorbar": {
            "outlinewidth": 0,
            "ticks": ""
           }
          },
          "colorscale": {
           "diverging": [
            [
             0,
             "#8e0152"
            ],
            [
             0.1,
             "#c51b7d"
            ],
            [
             0.2,
             "#de77ae"
            ],
            [
             0.3,
             "#f1b6da"
            ],
            [
             0.4,
             "#fde0ef"
            ],
            [
             0.5,
             "#f7f7f7"
            ],
            [
             0.6,
             "#e6f5d0"
            ],
            [
             0.7,
             "#b8e186"
            ],
            [
             0.8,
             "#7fbc41"
            ],
            [
             0.9,
             "#4d9221"
            ],
            [
             1,
             "#276419"
            ]
           ],
           "sequential": [
            [
             0,
             "#0d0887"
            ],
            [
             0.1111111111111111,
             "#46039f"
            ],
            [
             0.2222222222222222,
             "#7201a8"
            ],
            [
             0.3333333333333333,
             "#9c179e"
            ],
            [
             0.4444444444444444,
             "#bd3786"
            ],
            [
             0.5555555555555556,
             "#d8576b"
            ],
            [
             0.6666666666666666,
             "#ed7953"
            ],
            [
             0.7777777777777778,
             "#fb9f3a"
            ],
            [
             0.8888888888888888,
             "#fdca26"
            ],
            [
             1,
             "#f0f921"
            ]
           ],
           "sequentialminus": [
            [
             0,
             "#0d0887"
            ],
            [
             0.1111111111111111,
             "#46039f"
            ],
            [
             0.2222222222222222,
             "#7201a8"
            ],
            [
             0.3333333333333333,
             "#9c179e"
            ],
            [
             0.4444444444444444,
             "#bd3786"
            ],
            [
             0.5555555555555556,
             "#d8576b"
            ],
            [
             0.6666666666666666,
             "#ed7953"
            ],
            [
             0.7777777777777778,
             "#fb9f3a"
            ],
            [
             0.8888888888888888,
             "#fdca26"
            ],
            [
             1,
             "#f0f921"
            ]
           ]
          },
          "colorway": [
           "#636efa",
           "#EF553B",
           "#00cc96",
           "#ab63fa",
           "#FFA15A",
           "#19d3f3",
           "#FF6692",
           "#B6E880",
           "#FF97FF",
           "#FECB52"
          ],
          "font": {
           "color": "#2a3f5f"
          },
          "geo": {
           "bgcolor": "white",
           "lakecolor": "white",
           "landcolor": "#E5ECF6",
           "showlakes": true,
           "showland": true,
           "subunitcolor": "white"
          },
          "hoverlabel": {
           "align": "left"
          },
          "hovermode": "closest",
          "mapbox": {
           "style": "light"
          },
          "paper_bgcolor": "white",
          "plot_bgcolor": "#E5ECF6",
          "polar": {
           "angularaxis": {
            "gridcolor": "white",
            "linecolor": "white",
            "ticks": ""
           },
           "bgcolor": "#E5ECF6",
           "radialaxis": {
            "gridcolor": "white",
            "linecolor": "white",
            "ticks": ""
           }
          },
          "scene": {
           "xaxis": {
            "backgroundcolor": "#E5ECF6",
            "gridcolor": "white",
            "gridwidth": 2,
            "linecolor": "white",
            "showbackground": true,
            "ticks": "",
            "zerolinecolor": "white"
           },
           "yaxis": {
            "backgroundcolor": "#E5ECF6",
            "gridcolor": "white",
            "gridwidth": 2,
            "linecolor": "white",
            "showbackground": true,
            "ticks": "",
            "zerolinecolor": "white"
           },
           "zaxis": {
            "backgroundcolor": "#E5ECF6",
            "gridcolor": "white",
            "gridwidth": 2,
            "linecolor": "white",
            "showbackground": true,
            "ticks": "",
            "zerolinecolor": "white"
           }
          },
          "shapedefaults": {
           "line": {
            "color": "#2a3f5f"
           }
          },
          "ternary": {
           "aaxis": {
            "gridcolor": "white",
            "linecolor": "white",
            "ticks": ""
           },
           "baxis": {
            "gridcolor": "white",
            "linecolor": "white",
            "ticks": ""
           },
           "bgcolor": "#E5ECF6",
           "caxis": {
            "gridcolor": "white",
            "linecolor": "white",
            "ticks": ""
           }
          },
          "title": {
           "x": 0.05
          },
          "xaxis": {
           "automargin": true,
           "gridcolor": "white",
           "linecolor": "white",
           "ticks": "",
           "title": {
            "standoff": 15
           },
           "zerolinecolor": "white",
           "zerolinewidth": 2
          },
          "yaxis": {
           "automargin": true,
           "gridcolor": "white",
           "linecolor": "white",
           "ticks": "",
           "title": {
            "standoff": 15
           },
           "zerolinecolor": "white",
           "zerolinewidth": 2
          }
         }
        },
        "title": {
         "text": "Flight Paths Between Confirmed 2023 Formula 1 Circuits"
        }
       }
      },
      "text/html": [
       "<div>                            <div id=\"e7586b22-e858-4dd8-8a39-bf2d28bce1c4\" class=\"plotly-graph-div\" style=\"height:525px; width:100%;\"></div>            <script type=\"text/javascript\">                require([\"plotly\"], function(Plotly) {                    window.PLOTLYENV=window.PLOTLYENV || {};                                    if (document.getElementById(\"e7586b22-e858-4dd8-8a39-bf2d28bce1c4\")) {                    Plotly.newPlot(                        \"e7586b22-e858-4dd8-8a39-bf2d28bce1c4\",                        [{\"lat\":[-37.8497,26.0325],\"line\":{\"color\":\"turquoise\",\"width\":1},\"lon\":[144.968,50.5106],\"mode\":\"lines\",\"opacity\":0.5,\"type\":\"scattergeo\"},{\"lat\":[-37.8497,41.57],\"line\":{\"color\":\"turquoise\",\"width\":1},\"lon\":[144.968,2.26111],\"mode\":\"lines\",\"opacity\":0.5,\"type\":\"scattergeo\"},{\"lat\":[-37.8497,45.5],\"line\":{\"color\":\"turquoise\",\"width\":1},\"lon\":[144.968,-73.5228],\"mode\":\"lines\",\"opacity\":0.5,\"type\":\"scattergeo\"},{\"lat\":[-37.8497,52.0786],\"line\":{\"color\":\"turquoise\",\"width\":1},\"lon\":[144.968,-1.01694],\"mode\":\"lines\",\"opacity\":0.5,\"type\":\"scattergeo\"},{\"lat\":[-37.8497,47.5789],\"line\":{\"color\":\"turquoise\",\"width\":1},\"lon\":[144.968,19.2486],\"mode\":\"lines\",\"opacity\":0.5,\"type\":\"scattergeo\"},{\"lat\":[-37.8497,45.6156],\"line\":{\"color\":\"turquoise\",\"width\":1},\"lon\":[144.968,9.28111],\"mode\":\"lines\",\"opacity\":0.5,\"type\":\"scattergeo\"},{\"lat\":[-37.8497,1.2914],\"line\":{\"color\":\"turquoise\",\"width\":1},\"lon\":[144.968,103.864],\"mode\":\"lines\",\"opacity\":0.5,\"type\":\"scattergeo\"},{\"lat\":[-37.8497,31.3389],\"line\":{\"color\":\"turquoise\",\"width\":1},\"lon\":[144.968,121.22],\"mode\":\"lines\",\"opacity\":0.5,\"type\":\"scattergeo\"},{\"lat\":[-37.8497,-23.7036],\"line\":{\"color\":\"turquoise\",\"width\":1},\"lon\":[144.968,-46.6997],\"mode\":\"lines\",\"opacity\":0.5,\"type\":\"scattergeo\"},{\"lat\":[-37.8497,44.3439],\"line\":{\"color\":\"turquoise\",\"width\":1},\"lon\":[144.968,11.7167],\"mode\":\"lines\",\"opacity\":0.5,\"type\":\"scattergeo\"},{\"lat\":[-37.8497,34.8431],\"line\":{\"color\":\"turquoise\",\"width\":1},\"lon\":[144.968,136.541],\"mode\":\"lines\",\"opacity\":0.5,\"type\":\"scattergeo\"},{\"lat\":[-37.8497,24.4672],\"line\":{\"color\":\"turquoise\",\"width\":1},\"lon\":[144.968,54.6031],\"mode\":\"lines\",\"opacity\":0.5,\"type\":\"scattergeo\"},{\"lat\":[-37.8497,52.3888],\"line\":{\"color\":\"turquoise\",\"width\":1},\"lon\":[144.968,4.54092],\"mode\":\"lines\",\"opacity\":0.5,\"type\":\"scattergeo\"},{\"lat\":[-37.8497,36.1162],\"line\":{\"color\":\"turquoise\",\"width\":1},\"lon\":[144.968,-115.174],\"mode\":\"lines\",\"opacity\":0.5,\"type\":\"scattergeo\"},{\"lat\":[-37.8497,40.3725],\"line\":{\"color\":\"turquoise\",\"width\":1},\"lon\":[144.968,49.8533],\"mode\":\"lines\",\"opacity\":0.5,\"type\":\"scattergeo\"},{\"lat\":[-37.8497,21.6319],\"line\":{\"color\":\"turquoise\",\"width\":1},\"lon\":[144.968,39.1044],\"mode\":\"lines\",\"opacity\":0.5,\"type\":\"scattergeo\"},{\"lat\":[-37.8497,25.49],\"line\":{\"color\":\"turquoise\",\"width\":1},\"lon\":[144.968,51.4542],\"mode\":\"lines\",\"opacity\":0.5,\"type\":\"scattergeo\"},{\"lat\":[-37.8497,25.9581],\"line\":{\"color\":\"turquoise\",\"width\":1},\"lon\":[144.968,-80.2389],\"mode\":\"lines\",\"opacity\":0.5,\"type\":\"scattergeo\"},{\"lat\":[26.0325,41.57],\"line\":{\"color\":\"turquoise\",\"width\":1},\"lon\":[50.5106,2.26111],\"mode\":\"lines\",\"opacity\":0.5,\"type\":\"scattergeo\"},{\"lat\":[26.0325,45.5],\"line\":{\"color\":\"turquoise\",\"width\":1},\"lon\":[50.5106,-73.5228],\"mode\":\"lines\",\"opacity\":0.5,\"type\":\"scattergeo\"},{\"lat\":[26.0325,52.0786],\"line\":{\"color\":\"turquoise\",\"width\":1},\"lon\":[50.5106,-1.01694],\"mode\":\"lines\",\"opacity\":0.5,\"type\":\"scattergeo\"},{\"lat\":[26.0325,47.5789],\"line\":{\"color\":\"turquoise\",\"width\":1},\"lon\":[50.5106,19.2486],\"mode\":\"lines\",\"opacity\":0.5,\"type\":\"scattergeo\"},{\"lat\":[26.0325,45.6156],\"line\":{\"color\":\"turquoise\",\"width\":1},\"lon\":[50.5106,9.28111],\"mode\":\"lines\",\"opacity\":0.5,\"type\":\"scattergeo\"},{\"lat\":[26.0325,1.2914],\"line\":{\"color\":\"turquoise\",\"width\":1},\"lon\":[50.5106,103.864],\"mode\":\"lines\",\"opacity\":0.5,\"type\":\"scattergeo\"},{\"lat\":[26.0325,31.3389],\"line\":{\"color\":\"turquoise\",\"width\":1},\"lon\":[50.5106,121.22],\"mode\":\"lines\",\"opacity\":0.5,\"type\":\"scattergeo\"},{\"lat\":[26.0325,-23.7036],\"line\":{\"color\":\"turquoise\",\"width\":1},\"lon\":[50.5106,-46.6997],\"mode\":\"lines\",\"opacity\":0.5,\"type\":\"scattergeo\"},{\"lat\":[26.0325,44.3439],\"line\":{\"color\":\"turquoise\",\"width\":1},\"lon\":[50.5106,11.7167],\"mode\":\"lines\",\"opacity\":0.5,\"type\":\"scattergeo\"},{\"lat\":[26.0325,34.8431],\"line\":{\"color\":\"turquoise\",\"width\":1},\"lon\":[50.5106,136.541],\"mode\":\"lines\",\"opacity\":0.5,\"type\":\"scattergeo\"},{\"lat\":[26.0325,24.4672],\"line\":{\"color\":\"turquoise\",\"width\":1},\"lon\":[50.5106,54.6031],\"mode\":\"lines\",\"opacity\":0.5,\"type\":\"scattergeo\"},{\"lat\":[26.0325,52.3888],\"line\":{\"color\":\"turquoise\",\"width\":1},\"lon\":[50.5106,4.54092],\"mode\":\"lines\",\"opacity\":0.5,\"type\":\"scattergeo\"},{\"lat\":[26.0325,36.1162],\"line\":{\"color\":\"turquoise\",\"width\":1},\"lon\":[50.5106,-115.174],\"mode\":\"lines\",\"opacity\":0.5,\"type\":\"scattergeo\"},{\"lat\":[26.0325,40.3725],\"line\":{\"color\":\"turquoise\",\"width\":1},\"lon\":[50.5106,49.8533],\"mode\":\"lines\",\"opacity\":0.5,\"type\":\"scattergeo\"},{\"lat\":[26.0325,21.6319],\"line\":{\"color\":\"turquoise\",\"width\":1},\"lon\":[50.5106,39.1044],\"mode\":\"lines\",\"opacity\":0.5,\"type\":\"scattergeo\"},{\"lat\":[26.0325,25.49],\"line\":{\"color\":\"turquoise\",\"width\":1},\"lon\":[50.5106,51.4542],\"mode\":\"lines\",\"opacity\":0.5,\"type\":\"scattergeo\"},{\"lat\":[26.0325,25.9581],\"line\":{\"color\":\"turquoise\",\"width\":1},\"lon\":[50.5106,-80.2389],\"mode\":\"lines\",\"opacity\":0.5,\"type\":\"scattergeo\"},{\"lat\":[41.57,45.5],\"line\":{\"color\":\"turquoise\",\"width\":1},\"lon\":[2.26111,-73.5228],\"mode\":\"lines\",\"opacity\":0.5,\"type\":\"scattergeo\"},{\"lat\":[41.57,52.0786],\"line\":{\"color\":\"turquoise\",\"width\":1},\"lon\":[2.26111,-1.01694],\"mode\":\"lines\",\"opacity\":0.5,\"type\":\"scattergeo\"},{\"lat\":[41.57,47.5789],\"line\":{\"color\":\"turquoise\",\"width\":1},\"lon\":[2.26111,19.2486],\"mode\":\"lines\",\"opacity\":0.5,\"type\":\"scattergeo\"},{\"lat\":[41.57,45.6156],\"line\":{\"color\":\"turquoise\",\"width\":1},\"lon\":[2.26111,9.28111],\"mode\":\"lines\",\"opacity\":0.5,\"type\":\"scattergeo\"},{\"lat\":[41.57,1.2914],\"line\":{\"color\":\"turquoise\",\"width\":1},\"lon\":[2.26111,103.864],\"mode\":\"lines\",\"opacity\":0.5,\"type\":\"scattergeo\"},{\"lat\":[41.57,31.3389],\"line\":{\"color\":\"turquoise\",\"width\":1},\"lon\":[2.26111,121.22],\"mode\":\"lines\",\"opacity\":0.5,\"type\":\"scattergeo\"},{\"lat\":[41.57,-23.7036],\"line\":{\"color\":\"turquoise\",\"width\":1},\"lon\":[2.26111,-46.6997],\"mode\":\"lines\",\"opacity\":0.5,\"type\":\"scattergeo\"},{\"lat\":[41.57,44.3439],\"line\":{\"color\":\"turquoise\",\"width\":1},\"lon\":[2.26111,11.7167],\"mode\":\"lines\",\"opacity\":0.5,\"type\":\"scattergeo\"},{\"lat\":[41.57,34.8431],\"line\":{\"color\":\"turquoise\",\"width\":1},\"lon\":[2.26111,136.541],\"mode\":\"lines\",\"opacity\":0.5,\"type\":\"scattergeo\"},{\"lat\":[41.57,24.4672],\"line\":{\"color\":\"turquoise\",\"width\":1},\"lon\":[2.26111,54.6031],\"mode\":\"lines\",\"opacity\":0.5,\"type\":\"scattergeo\"},{\"lat\":[41.57,52.3888],\"line\":{\"color\":\"turquoise\",\"width\":1},\"lon\":[2.26111,4.54092],\"mode\":\"lines\",\"opacity\":0.5,\"type\":\"scattergeo\"},{\"lat\":[41.57,36.1162],\"line\":{\"color\":\"turquoise\",\"width\":1},\"lon\":[2.26111,-115.174],\"mode\":\"lines\",\"opacity\":0.5,\"type\":\"scattergeo\"},{\"lat\":[41.57,40.3725],\"line\":{\"color\":\"turquoise\",\"width\":1},\"lon\":[2.26111,49.8533],\"mode\":\"lines\",\"opacity\":0.5,\"type\":\"scattergeo\"},{\"lat\":[41.57,21.6319],\"line\":{\"color\":\"turquoise\",\"width\":1},\"lon\":[2.26111,39.1044],\"mode\":\"lines\",\"opacity\":0.5,\"type\":\"scattergeo\"},{\"lat\":[41.57,25.49],\"line\":{\"color\":\"turquoise\",\"width\":1},\"lon\":[2.26111,51.4542],\"mode\":\"lines\",\"opacity\":0.5,\"type\":\"scattergeo\"},{\"lat\":[41.57,25.9581],\"line\":{\"color\":\"turquoise\",\"width\":1},\"lon\":[2.26111,-80.2389],\"mode\":\"lines\",\"opacity\":0.5,\"type\":\"scattergeo\"},{\"lat\":[45.5,52.0786],\"line\":{\"color\":\"turquoise\",\"width\":1},\"lon\":[-73.5228,-1.01694],\"mode\":\"lines\",\"opacity\":0.5,\"type\":\"scattergeo\"},{\"lat\":[45.5,47.5789],\"line\":{\"color\":\"turquoise\",\"width\":1},\"lon\":[-73.5228,19.2486],\"mode\":\"lines\",\"opacity\":0.5,\"type\":\"scattergeo\"},{\"lat\":[45.5,45.6156],\"line\":{\"color\":\"turquoise\",\"width\":1},\"lon\":[-73.5228,9.28111],\"mode\":\"lines\",\"opacity\":0.5,\"type\":\"scattergeo\"},{\"lat\":[45.5,1.2914],\"line\":{\"color\":\"turquoise\",\"width\":1},\"lon\":[-73.5228,103.864],\"mode\":\"lines\",\"opacity\":0.5,\"type\":\"scattergeo\"},{\"lat\":[45.5,31.3389],\"line\":{\"color\":\"turquoise\",\"width\":1},\"lon\":[-73.5228,121.22],\"mode\":\"lines\",\"opacity\":0.5,\"type\":\"scattergeo\"},{\"lat\":[45.5,-23.7036],\"line\":{\"color\":\"turquoise\",\"width\":1},\"lon\":[-73.5228,-46.6997],\"mode\":\"lines\",\"opacity\":0.5,\"type\":\"scattergeo\"},{\"lat\":[45.5,44.3439],\"line\":{\"color\":\"turquoise\",\"width\":1},\"lon\":[-73.5228,11.7167],\"mode\":\"lines\",\"opacity\":0.5,\"type\":\"scattergeo\"},{\"lat\":[45.5,34.8431],\"line\":{\"color\":\"turquoise\",\"width\":1},\"lon\":[-73.5228,136.541],\"mode\":\"lines\",\"opacity\":0.5,\"type\":\"scattergeo\"},{\"lat\":[45.5,24.4672],\"line\":{\"color\":\"turquoise\",\"width\":1},\"lon\":[-73.5228,54.6031],\"mode\":\"lines\",\"opacity\":0.5,\"type\":\"scattergeo\"},{\"lat\":[45.5,52.3888],\"line\":{\"color\":\"turquoise\",\"width\":1},\"lon\":[-73.5228,4.54092],\"mode\":\"lines\",\"opacity\":0.5,\"type\":\"scattergeo\"},{\"lat\":[45.5,36.1162],\"line\":{\"color\":\"turquoise\",\"width\":1},\"lon\":[-73.5228,-115.174],\"mode\":\"lines\",\"opacity\":0.5,\"type\":\"scattergeo\"},{\"lat\":[45.5,40.3725],\"line\":{\"color\":\"turquoise\",\"width\":1},\"lon\":[-73.5228,49.8533],\"mode\":\"lines\",\"opacity\":0.5,\"type\":\"scattergeo\"},{\"lat\":[45.5,21.6319],\"line\":{\"color\":\"turquoise\",\"width\":1},\"lon\":[-73.5228,39.1044],\"mode\":\"lines\",\"opacity\":0.5,\"type\":\"scattergeo\"},{\"lat\":[45.5,25.49],\"line\":{\"color\":\"turquoise\",\"width\":1},\"lon\":[-73.5228,51.4542],\"mode\":\"lines\",\"opacity\":0.5,\"type\":\"scattergeo\"},{\"lat\":[45.5,25.9581],\"line\":{\"color\":\"turquoise\",\"width\":1},\"lon\":[-73.5228,-80.2389],\"mode\":\"lines\",\"opacity\":0.5,\"type\":\"scattergeo\"},{\"lat\":[52.0786,47.5789],\"line\":{\"color\":\"turquoise\",\"width\":1},\"lon\":[-1.01694,19.2486],\"mode\":\"lines\",\"opacity\":0.5,\"type\":\"scattergeo\"},{\"lat\":[52.0786,45.6156],\"line\":{\"color\":\"turquoise\",\"width\":1},\"lon\":[-1.01694,9.28111],\"mode\":\"lines\",\"opacity\":0.5,\"type\":\"scattergeo\"},{\"lat\":[52.0786,1.2914],\"line\":{\"color\":\"turquoise\",\"width\":1},\"lon\":[-1.01694,103.864],\"mode\":\"lines\",\"opacity\":0.5,\"type\":\"scattergeo\"},{\"lat\":[52.0786,31.3389],\"line\":{\"color\":\"turquoise\",\"width\":1},\"lon\":[-1.01694,121.22],\"mode\":\"lines\",\"opacity\":0.5,\"type\":\"scattergeo\"},{\"lat\":[52.0786,-23.7036],\"line\":{\"color\":\"turquoise\",\"width\":1},\"lon\":[-1.01694,-46.6997],\"mode\":\"lines\",\"opacity\":0.5,\"type\":\"scattergeo\"},{\"lat\":[52.0786,44.3439],\"line\":{\"color\":\"turquoise\",\"width\":1},\"lon\":[-1.01694,11.7167],\"mode\":\"lines\",\"opacity\":0.5,\"type\":\"scattergeo\"},{\"lat\":[52.0786,34.8431],\"line\":{\"color\":\"turquoise\",\"width\":1},\"lon\":[-1.01694,136.541],\"mode\":\"lines\",\"opacity\":0.5,\"type\":\"scattergeo\"},{\"lat\":[52.0786,24.4672],\"line\":{\"color\":\"turquoise\",\"width\":1},\"lon\":[-1.01694,54.6031],\"mode\":\"lines\",\"opacity\":0.5,\"type\":\"scattergeo\"},{\"lat\":[52.0786,52.3888],\"line\":{\"color\":\"turquoise\",\"width\":1},\"lon\":[-1.01694,4.54092],\"mode\":\"lines\",\"opacity\":0.5,\"type\":\"scattergeo\"},{\"lat\":[52.0786,36.1162],\"line\":{\"color\":\"turquoise\",\"width\":1},\"lon\":[-1.01694,-115.174],\"mode\":\"lines\",\"opacity\":0.5,\"type\":\"scattergeo\"},{\"lat\":[52.0786,40.3725],\"line\":{\"color\":\"turquoise\",\"width\":1},\"lon\":[-1.01694,49.8533],\"mode\":\"lines\",\"opacity\":0.5,\"type\":\"scattergeo\"},{\"lat\":[52.0786,21.6319],\"line\":{\"color\":\"turquoise\",\"width\":1},\"lon\":[-1.01694,39.1044],\"mode\":\"lines\",\"opacity\":0.5,\"type\":\"scattergeo\"},{\"lat\":[52.0786,25.49],\"line\":{\"color\":\"turquoise\",\"width\":1},\"lon\":[-1.01694,51.4542],\"mode\":\"lines\",\"opacity\":0.5,\"type\":\"scattergeo\"},{\"lat\":[52.0786,25.9581],\"line\":{\"color\":\"turquoise\",\"width\":1},\"lon\":[-1.01694,-80.2389],\"mode\":\"lines\",\"opacity\":0.5,\"type\":\"scattergeo\"},{\"lat\":[47.5789,45.6156],\"line\":{\"color\":\"turquoise\",\"width\":1},\"lon\":[19.2486,9.28111],\"mode\":\"lines\",\"opacity\":0.5,\"type\":\"scattergeo\"},{\"lat\":[47.5789,1.2914],\"line\":{\"color\":\"turquoise\",\"width\":1},\"lon\":[19.2486,103.864],\"mode\":\"lines\",\"opacity\":0.5,\"type\":\"scattergeo\"},{\"lat\":[47.5789,31.3389],\"line\":{\"color\":\"turquoise\",\"width\":1},\"lon\":[19.2486,121.22],\"mode\":\"lines\",\"opacity\":0.5,\"type\":\"scattergeo\"},{\"lat\":[47.5789,-23.7036],\"line\":{\"color\":\"turquoise\",\"width\":1},\"lon\":[19.2486,-46.6997],\"mode\":\"lines\",\"opacity\":0.5,\"type\":\"scattergeo\"},{\"lat\":[47.5789,44.3439],\"line\":{\"color\":\"turquoise\",\"width\":1},\"lon\":[19.2486,11.7167],\"mode\":\"lines\",\"opacity\":0.5,\"type\":\"scattergeo\"},{\"lat\":[47.5789,34.8431],\"line\":{\"color\":\"turquoise\",\"width\":1},\"lon\":[19.2486,136.541],\"mode\":\"lines\",\"opacity\":0.5,\"type\":\"scattergeo\"},{\"lat\":[47.5789,24.4672],\"line\":{\"color\":\"turquoise\",\"width\":1},\"lon\":[19.2486,54.6031],\"mode\":\"lines\",\"opacity\":0.5,\"type\":\"scattergeo\"},{\"lat\":[47.5789,52.3888],\"line\":{\"color\":\"turquoise\",\"width\":1},\"lon\":[19.2486,4.54092],\"mode\":\"lines\",\"opacity\":0.5,\"type\":\"scattergeo\"},{\"lat\":[47.5789,36.1162],\"line\":{\"color\":\"turquoise\",\"width\":1},\"lon\":[19.2486,-115.174],\"mode\":\"lines\",\"opacity\":0.5,\"type\":\"scattergeo\"},{\"lat\":[47.5789,40.3725],\"line\":{\"color\":\"turquoise\",\"width\":1},\"lon\":[19.2486,49.8533],\"mode\":\"lines\",\"opacity\":0.5,\"type\":\"scattergeo\"},{\"lat\":[47.5789,21.6319],\"line\":{\"color\":\"turquoise\",\"width\":1},\"lon\":[19.2486,39.1044],\"mode\":\"lines\",\"opacity\":0.5,\"type\":\"scattergeo\"},{\"lat\":[47.5789,25.49],\"line\":{\"color\":\"turquoise\",\"width\":1},\"lon\":[19.2486,51.4542],\"mode\":\"lines\",\"opacity\":0.5,\"type\":\"scattergeo\"},{\"lat\":[47.5789,25.9581],\"line\":{\"color\":\"turquoise\",\"width\":1},\"lon\":[19.2486,-80.2389],\"mode\":\"lines\",\"opacity\":0.5,\"type\":\"scattergeo\"},{\"lat\":[45.6156,1.2914],\"line\":{\"color\":\"turquoise\",\"width\":1},\"lon\":[9.28111,103.864],\"mode\":\"lines\",\"opacity\":0.5,\"type\":\"scattergeo\"},{\"lat\":[45.6156,31.3389],\"line\":{\"color\":\"turquoise\",\"width\":1},\"lon\":[9.28111,121.22],\"mode\":\"lines\",\"opacity\":0.5,\"type\":\"scattergeo\"},{\"lat\":[45.6156,-23.7036],\"line\":{\"color\":\"turquoise\",\"width\":1},\"lon\":[9.28111,-46.6997],\"mode\":\"lines\",\"opacity\":0.5,\"type\":\"scattergeo\"},{\"lat\":[45.6156,44.3439],\"line\":{\"color\":\"turquoise\",\"width\":1},\"lon\":[9.28111,11.7167],\"mode\":\"lines\",\"opacity\":0.5,\"type\":\"scattergeo\"},{\"lat\":[45.6156,34.8431],\"line\":{\"color\":\"turquoise\",\"width\":1},\"lon\":[9.28111,136.541],\"mode\":\"lines\",\"opacity\":0.5,\"type\":\"scattergeo\"},{\"lat\":[45.6156,24.4672],\"line\":{\"color\":\"turquoise\",\"width\":1},\"lon\":[9.28111,54.6031],\"mode\":\"lines\",\"opacity\":0.5,\"type\":\"scattergeo\"},{\"lat\":[45.6156,52.3888],\"line\":{\"color\":\"turquoise\",\"width\":1},\"lon\":[9.28111,4.54092],\"mode\":\"lines\",\"opacity\":0.5,\"type\":\"scattergeo\"},{\"lat\":[45.6156,36.1162],\"line\":{\"color\":\"turquoise\",\"width\":1},\"lon\":[9.28111,-115.174],\"mode\":\"lines\",\"opacity\":0.5,\"type\":\"scattergeo\"},{\"lat\":[45.6156,40.3725],\"line\":{\"color\":\"turquoise\",\"width\":1},\"lon\":[9.28111,49.8533],\"mode\":\"lines\",\"opacity\":0.5,\"type\":\"scattergeo\"},{\"lat\":[45.6156,21.6319],\"line\":{\"color\":\"turquoise\",\"width\":1},\"lon\":[9.28111,39.1044],\"mode\":\"lines\",\"opacity\":0.5,\"type\":\"scattergeo\"},{\"lat\":[45.6156,25.49],\"line\":{\"color\":\"turquoise\",\"width\":1},\"lon\":[9.28111,51.4542],\"mode\":\"lines\",\"opacity\":0.5,\"type\":\"scattergeo\"},{\"lat\":[45.6156,25.9581],\"line\":{\"color\":\"turquoise\",\"width\":1},\"lon\":[9.28111,-80.2389],\"mode\":\"lines\",\"opacity\":0.5,\"type\":\"scattergeo\"},{\"lat\":[1.2914,31.3389],\"line\":{\"color\":\"turquoise\",\"width\":1},\"lon\":[103.864,121.22],\"mode\":\"lines\",\"opacity\":0.5,\"type\":\"scattergeo\"},{\"lat\":[1.2914,-23.7036],\"line\":{\"color\":\"turquoise\",\"width\":1},\"lon\":[103.864,-46.6997],\"mode\":\"lines\",\"opacity\":0.5,\"type\":\"scattergeo\"},{\"lat\":[1.2914,44.3439],\"line\":{\"color\":\"turquoise\",\"width\":1},\"lon\":[103.864,11.7167],\"mode\":\"lines\",\"opacity\":0.5,\"type\":\"scattergeo\"},{\"lat\":[1.2914,34.8431],\"line\":{\"color\":\"turquoise\",\"width\":1},\"lon\":[103.864,136.541],\"mode\":\"lines\",\"opacity\":0.5,\"type\":\"scattergeo\"},{\"lat\":[1.2914,24.4672],\"line\":{\"color\":\"turquoise\",\"width\":1},\"lon\":[103.864,54.6031],\"mode\":\"lines\",\"opacity\":0.5,\"type\":\"scattergeo\"},{\"lat\":[1.2914,52.3888],\"line\":{\"color\":\"turquoise\",\"width\":1},\"lon\":[103.864,4.54092],\"mode\":\"lines\",\"opacity\":0.5,\"type\":\"scattergeo\"},{\"lat\":[1.2914,36.1162],\"line\":{\"color\":\"turquoise\",\"width\":1},\"lon\":[103.864,-115.174],\"mode\":\"lines\",\"opacity\":0.5,\"type\":\"scattergeo\"},{\"lat\":[1.2914,40.3725],\"line\":{\"color\":\"turquoise\",\"width\":1},\"lon\":[103.864,49.8533],\"mode\":\"lines\",\"opacity\":0.5,\"type\":\"scattergeo\"},{\"lat\":[1.2914,21.6319],\"line\":{\"color\":\"turquoise\",\"width\":1},\"lon\":[103.864,39.1044],\"mode\":\"lines\",\"opacity\":0.5,\"type\":\"scattergeo\"},{\"lat\":[1.2914,25.49],\"line\":{\"color\":\"turquoise\",\"width\":1},\"lon\":[103.864,51.4542],\"mode\":\"lines\",\"opacity\":0.5,\"type\":\"scattergeo\"},{\"lat\":[1.2914,25.9581],\"line\":{\"color\":\"turquoise\",\"width\":1},\"lon\":[103.864,-80.2389],\"mode\":\"lines\",\"opacity\":0.5,\"type\":\"scattergeo\"},{\"lat\":[31.3389,-23.7036],\"line\":{\"color\":\"turquoise\",\"width\":1},\"lon\":[121.22,-46.6997],\"mode\":\"lines\",\"opacity\":0.5,\"type\":\"scattergeo\"},{\"lat\":[31.3389,44.3439],\"line\":{\"color\":\"turquoise\",\"width\":1},\"lon\":[121.22,11.7167],\"mode\":\"lines\",\"opacity\":0.5,\"type\":\"scattergeo\"},{\"lat\":[31.3389,34.8431],\"line\":{\"color\":\"turquoise\",\"width\":1},\"lon\":[121.22,136.541],\"mode\":\"lines\",\"opacity\":0.5,\"type\":\"scattergeo\"},{\"lat\":[31.3389,24.4672],\"line\":{\"color\":\"turquoise\",\"width\":1},\"lon\":[121.22,54.6031],\"mode\":\"lines\",\"opacity\":0.5,\"type\":\"scattergeo\"},{\"lat\":[31.3389,52.3888],\"line\":{\"color\":\"turquoise\",\"width\":1},\"lon\":[121.22,4.54092],\"mode\":\"lines\",\"opacity\":0.5,\"type\":\"scattergeo\"},{\"lat\":[31.3389,36.1162],\"line\":{\"color\":\"turquoise\",\"width\":1},\"lon\":[121.22,-115.174],\"mode\":\"lines\",\"opacity\":0.5,\"type\":\"scattergeo\"},{\"lat\":[31.3389,40.3725],\"line\":{\"color\":\"turquoise\",\"width\":1},\"lon\":[121.22,49.8533],\"mode\":\"lines\",\"opacity\":0.5,\"type\":\"scattergeo\"},{\"lat\":[31.3389,21.6319],\"line\":{\"color\":\"turquoise\",\"width\":1},\"lon\":[121.22,39.1044],\"mode\":\"lines\",\"opacity\":0.5,\"type\":\"scattergeo\"},{\"lat\":[31.3389,25.49],\"line\":{\"color\":\"turquoise\",\"width\":1},\"lon\":[121.22,51.4542],\"mode\":\"lines\",\"opacity\":0.5,\"type\":\"scattergeo\"},{\"lat\":[31.3389,25.9581],\"line\":{\"color\":\"turquoise\",\"width\":1},\"lon\":[121.22,-80.2389],\"mode\":\"lines\",\"opacity\":0.5,\"type\":\"scattergeo\"},{\"lat\":[-23.7036,44.3439],\"line\":{\"color\":\"turquoise\",\"width\":1},\"lon\":[-46.6997,11.7167],\"mode\":\"lines\",\"opacity\":0.5,\"type\":\"scattergeo\"},{\"lat\":[-23.7036,34.8431],\"line\":{\"color\":\"turquoise\",\"width\":1},\"lon\":[-46.6997,136.541],\"mode\":\"lines\",\"opacity\":0.5,\"type\":\"scattergeo\"},{\"lat\":[-23.7036,24.4672],\"line\":{\"color\":\"turquoise\",\"width\":1},\"lon\":[-46.6997,54.6031],\"mode\":\"lines\",\"opacity\":0.5,\"type\":\"scattergeo\"},{\"lat\":[-23.7036,52.3888],\"line\":{\"color\":\"turquoise\",\"width\":1},\"lon\":[-46.6997,4.54092],\"mode\":\"lines\",\"opacity\":0.5,\"type\":\"scattergeo\"},{\"lat\":[-23.7036,36.1162],\"line\":{\"color\":\"turquoise\",\"width\":1},\"lon\":[-46.6997,-115.174],\"mode\":\"lines\",\"opacity\":0.5,\"type\":\"scattergeo\"},{\"lat\":[-23.7036,40.3725],\"line\":{\"color\":\"turquoise\",\"width\":1},\"lon\":[-46.6997,49.8533],\"mode\":\"lines\",\"opacity\":0.5,\"type\":\"scattergeo\"},{\"lat\":[-23.7036,21.6319],\"line\":{\"color\":\"turquoise\",\"width\":1},\"lon\":[-46.6997,39.1044],\"mode\":\"lines\",\"opacity\":0.5,\"type\":\"scattergeo\"},{\"lat\":[-23.7036,25.49],\"line\":{\"color\":\"turquoise\",\"width\":1},\"lon\":[-46.6997,51.4542],\"mode\":\"lines\",\"opacity\":0.5,\"type\":\"scattergeo\"},{\"lat\":[-23.7036,25.9581],\"line\":{\"color\":\"turquoise\",\"width\":1},\"lon\":[-46.6997,-80.2389],\"mode\":\"lines\",\"opacity\":0.5,\"type\":\"scattergeo\"},{\"lat\":[44.3439,34.8431],\"line\":{\"color\":\"turquoise\",\"width\":1},\"lon\":[11.7167,136.541],\"mode\":\"lines\",\"opacity\":0.5,\"type\":\"scattergeo\"},{\"lat\":[44.3439,24.4672],\"line\":{\"color\":\"turquoise\",\"width\":1},\"lon\":[11.7167,54.6031],\"mode\":\"lines\",\"opacity\":0.5,\"type\":\"scattergeo\"},{\"lat\":[44.3439,52.3888],\"line\":{\"color\":\"turquoise\",\"width\":1},\"lon\":[11.7167,4.54092],\"mode\":\"lines\",\"opacity\":0.5,\"type\":\"scattergeo\"},{\"lat\":[44.3439,36.1162],\"line\":{\"color\":\"turquoise\",\"width\":1},\"lon\":[11.7167,-115.174],\"mode\":\"lines\",\"opacity\":0.5,\"type\":\"scattergeo\"},{\"lat\":[44.3439,40.3725],\"line\":{\"color\":\"turquoise\",\"width\":1},\"lon\":[11.7167,49.8533],\"mode\":\"lines\",\"opacity\":0.5,\"type\":\"scattergeo\"},{\"lat\":[44.3439,21.6319],\"line\":{\"color\":\"turquoise\",\"width\":1},\"lon\":[11.7167,39.1044],\"mode\":\"lines\",\"opacity\":0.5,\"type\":\"scattergeo\"},{\"lat\":[44.3439,25.49],\"line\":{\"color\":\"turquoise\",\"width\":1},\"lon\":[11.7167,51.4542],\"mode\":\"lines\",\"opacity\":0.5,\"type\":\"scattergeo\"},{\"lat\":[44.3439,25.9581],\"line\":{\"color\":\"turquoise\",\"width\":1},\"lon\":[11.7167,-80.2389],\"mode\":\"lines\",\"opacity\":0.5,\"type\":\"scattergeo\"},{\"lat\":[34.8431,24.4672],\"line\":{\"color\":\"turquoise\",\"width\":1},\"lon\":[136.541,54.6031],\"mode\":\"lines\",\"opacity\":0.5,\"type\":\"scattergeo\"},{\"lat\":[34.8431,52.3888],\"line\":{\"color\":\"turquoise\",\"width\":1},\"lon\":[136.541,4.54092],\"mode\":\"lines\",\"opacity\":0.5,\"type\":\"scattergeo\"},{\"lat\":[34.8431,36.1162],\"line\":{\"color\":\"turquoise\",\"width\":1},\"lon\":[136.541,-115.174],\"mode\":\"lines\",\"opacity\":0.5,\"type\":\"scattergeo\"},{\"lat\":[34.8431,40.3725],\"line\":{\"color\":\"turquoise\",\"width\":1},\"lon\":[136.541,49.8533],\"mode\":\"lines\",\"opacity\":0.5,\"type\":\"scattergeo\"},{\"lat\":[34.8431,21.6319],\"line\":{\"color\":\"turquoise\",\"width\":1},\"lon\":[136.541,39.1044],\"mode\":\"lines\",\"opacity\":0.5,\"type\":\"scattergeo\"},{\"lat\":[34.8431,25.49],\"line\":{\"color\":\"turquoise\",\"width\":1},\"lon\":[136.541,51.4542],\"mode\":\"lines\",\"opacity\":0.5,\"type\":\"scattergeo\"},{\"lat\":[34.8431,25.9581],\"line\":{\"color\":\"turquoise\",\"width\":1},\"lon\":[136.541,-80.2389],\"mode\":\"lines\",\"opacity\":0.5,\"type\":\"scattergeo\"},{\"lat\":[24.4672,52.3888],\"line\":{\"color\":\"turquoise\",\"width\":1},\"lon\":[54.6031,4.54092],\"mode\":\"lines\",\"opacity\":0.5,\"type\":\"scattergeo\"},{\"lat\":[24.4672,36.1162],\"line\":{\"color\":\"turquoise\",\"width\":1},\"lon\":[54.6031,-115.174],\"mode\":\"lines\",\"opacity\":0.5,\"type\":\"scattergeo\"},{\"lat\":[24.4672,40.3725],\"line\":{\"color\":\"turquoise\",\"width\":1},\"lon\":[54.6031,49.8533],\"mode\":\"lines\",\"opacity\":0.5,\"type\":\"scattergeo\"},{\"lat\":[24.4672,21.6319],\"line\":{\"color\":\"turquoise\",\"width\":1},\"lon\":[54.6031,39.1044],\"mode\":\"lines\",\"opacity\":0.5,\"type\":\"scattergeo\"},{\"lat\":[24.4672,25.49],\"line\":{\"color\":\"turquoise\",\"width\":1},\"lon\":[54.6031,51.4542],\"mode\":\"lines\",\"opacity\":0.5,\"type\":\"scattergeo\"},{\"lat\":[24.4672,25.9581],\"line\":{\"color\":\"turquoise\",\"width\":1},\"lon\":[54.6031,-80.2389],\"mode\":\"lines\",\"opacity\":0.5,\"type\":\"scattergeo\"},{\"lat\":[52.3888,36.1162],\"line\":{\"color\":\"turquoise\",\"width\":1},\"lon\":[4.54092,-115.174],\"mode\":\"lines\",\"opacity\":0.5,\"type\":\"scattergeo\"},{\"lat\":[52.3888,40.3725],\"line\":{\"color\":\"turquoise\",\"width\":1},\"lon\":[4.54092,49.8533],\"mode\":\"lines\",\"opacity\":0.5,\"type\":\"scattergeo\"},{\"lat\":[52.3888,21.6319],\"line\":{\"color\":\"turquoise\",\"width\":1},\"lon\":[4.54092,39.1044],\"mode\":\"lines\",\"opacity\":0.5,\"type\":\"scattergeo\"},{\"lat\":[52.3888,25.49],\"line\":{\"color\":\"turquoise\",\"width\":1},\"lon\":[4.54092,51.4542],\"mode\":\"lines\",\"opacity\":0.5,\"type\":\"scattergeo\"},{\"lat\":[52.3888,25.9581],\"line\":{\"color\":\"turquoise\",\"width\":1},\"lon\":[4.54092,-80.2389],\"mode\":\"lines\",\"opacity\":0.5,\"type\":\"scattergeo\"},{\"lat\":[36.1162,40.3725],\"line\":{\"color\":\"turquoise\",\"width\":1},\"lon\":[-115.174,49.8533],\"mode\":\"lines\",\"opacity\":0.5,\"type\":\"scattergeo\"},{\"lat\":[36.1162,21.6319],\"line\":{\"color\":\"turquoise\",\"width\":1},\"lon\":[-115.174,39.1044],\"mode\":\"lines\",\"opacity\":0.5,\"type\":\"scattergeo\"},{\"lat\":[36.1162,25.49],\"line\":{\"color\":\"turquoise\",\"width\":1},\"lon\":[-115.174,51.4542],\"mode\":\"lines\",\"opacity\":0.5,\"type\":\"scattergeo\"},{\"lat\":[36.1162,25.9581],\"line\":{\"color\":\"turquoise\",\"width\":1},\"lon\":[-115.174,-80.2389],\"mode\":\"lines\",\"opacity\":0.5,\"type\":\"scattergeo\"},{\"lat\":[40.3725,21.6319],\"line\":{\"color\":\"turquoise\",\"width\":1},\"lon\":[49.8533,39.1044],\"mode\":\"lines\",\"opacity\":0.5,\"type\":\"scattergeo\"},{\"lat\":[40.3725,25.49],\"line\":{\"color\":\"turquoise\",\"width\":1},\"lon\":[49.8533,51.4542],\"mode\":\"lines\",\"opacity\":0.5,\"type\":\"scattergeo\"},{\"lat\":[40.3725,25.9581],\"line\":{\"color\":\"turquoise\",\"width\":1},\"lon\":[49.8533,-80.2389],\"mode\":\"lines\",\"opacity\":0.5,\"type\":\"scattergeo\"},{\"lat\":[21.6319,25.49],\"line\":{\"color\":\"turquoise\",\"width\":1},\"lon\":[39.1044,51.4542],\"mode\":\"lines\",\"opacity\":0.5,\"type\":\"scattergeo\"},{\"lat\":[21.6319,25.9581],\"line\":{\"color\":\"turquoise\",\"width\":1},\"lon\":[39.1044,-80.2389],\"mode\":\"lines\",\"opacity\":0.5,\"type\":\"scattergeo\"},{\"lat\":[25.49,25.9581],\"line\":{\"color\":\"turquoise\",\"width\":1},\"lon\":[51.4542,-80.2389],\"mode\":\"lines\",\"opacity\":0.5,\"type\":\"scattergeo\"},{\"hoverinfo\":\"text\",\"lat\":[-37.8497,26.0325,41.57,45.5,52.0786,47.5789,45.6156,1.2914,31.3389,-23.7036,44.3439,34.8431,24.4672,52.3888,36.1162,40.3725,21.6319,25.49,25.9581],\"lon\":[144.968,50.5106,2.26111,-73.5228,-1.01694,19.2486,9.28111,103.864,121.22,-46.6997,11.7167,136.541,54.6031,4.54092,-115.174,49.8533,39.1044,51.4542,-80.2389],\"marker\":{\"color\":\"crimson\",\"line\":{\"color\":\"rgba(68, 68, 68, 0)\",\"width\":3},\"size\":7},\"mode\":\"markers\",\"text\":[\"Albert Park Grand Prix Circuit\",\"Bahrain International Circuit\",\"Circuit de Barcelona-Catalunya\",\"Circuit Gilles Villeneuve\",\"Silverstone Circuit\",\"Hungaroring\",\"Autodromo Nazionale di Monza\",\"Marina Bay Street Circuit\",\"Shanghai International Circuit\",\"Aut\\u00f3dromo Jos\\u00e9 Carlos Pace\",\"Autodromo Enzo e Dino Ferrari\",\"Suzuka Circuit\",\"Yas Marina Circuit\",\"Circuit Park Zandvoort\",\"Las Vegas Street Circuit\",\"Baku City Circuit\",\"Jeddah Corniche Circuit\",\"Losail International Circuit\",\"Miami International Autodrome\"],\"type\":\"scattergeo\"}],                        {\"template\":{\"data\":{\"histogram2dcontour\":[{\"type\":\"histogram2dcontour\",\"colorbar\":{\"outlinewidth\":0,\"ticks\":\"\"},\"colorscale\":[[0.0,\"#0d0887\"],[0.1111111111111111,\"#46039f\"],[0.2222222222222222,\"#7201a8\"],[0.3333333333333333,\"#9c179e\"],[0.4444444444444444,\"#bd3786\"],[0.5555555555555556,\"#d8576b\"],[0.6666666666666666,\"#ed7953\"],[0.7777777777777778,\"#fb9f3a\"],[0.8888888888888888,\"#fdca26\"],[1.0,\"#f0f921\"]]}],\"choropleth\":[{\"type\":\"choropleth\",\"colorbar\":{\"outlinewidth\":0,\"ticks\":\"\"}}],\"histogram2d\":[{\"type\":\"histogram2d\",\"colorbar\":{\"outlinewidth\":0,\"ticks\":\"\"},\"colorscale\":[[0.0,\"#0d0887\"],[0.1111111111111111,\"#46039f\"],[0.2222222222222222,\"#7201a8\"],[0.3333333333333333,\"#9c179e\"],[0.4444444444444444,\"#bd3786\"],[0.5555555555555556,\"#d8576b\"],[0.6666666666666666,\"#ed7953\"],[0.7777777777777778,\"#fb9f3a\"],[0.8888888888888888,\"#fdca26\"],[1.0,\"#f0f921\"]]}],\"heatmap\":[{\"type\":\"heatmap\",\"colorbar\":{\"outlinewidth\":0,\"ticks\":\"\"},\"colorscale\":[[0.0,\"#0d0887\"],[0.1111111111111111,\"#46039f\"],[0.2222222222222222,\"#7201a8\"],[0.3333333333333333,\"#9c179e\"],[0.4444444444444444,\"#bd3786\"],[0.5555555555555556,\"#d8576b\"],[0.6666666666666666,\"#ed7953\"],[0.7777777777777778,\"#fb9f3a\"],[0.8888888888888888,\"#fdca26\"],[1.0,\"#f0f921\"]]}],\"heatmapgl\":[{\"type\":\"heatmapgl\",\"colorbar\":{\"outlinewidth\":0,\"ticks\":\"\"},\"colorscale\":[[0.0,\"#0d0887\"],[0.1111111111111111,\"#46039f\"],[0.2222222222222222,\"#7201a8\"],[0.3333333333333333,\"#9c179e\"],[0.4444444444444444,\"#bd3786\"],[0.5555555555555556,\"#d8576b\"],[0.6666666666666666,\"#ed7953\"],[0.7777777777777778,\"#fb9f3a\"],[0.8888888888888888,\"#fdca26\"],[1.0,\"#f0f921\"]]}],\"contourcarpet\":[{\"type\":\"contourcarpet\",\"colorbar\":{\"outlinewidth\":0,\"ticks\":\"\"}}],\"contour\":[{\"type\":\"contour\",\"colorbar\":{\"outlinewidth\":0,\"ticks\":\"\"},\"colorscale\":[[0.0,\"#0d0887\"],[0.1111111111111111,\"#46039f\"],[0.2222222222222222,\"#7201a8\"],[0.3333333333333333,\"#9c179e\"],[0.4444444444444444,\"#bd3786\"],[0.5555555555555556,\"#d8576b\"],[0.6666666666666666,\"#ed7953\"],[0.7777777777777778,\"#fb9f3a\"],[0.8888888888888888,\"#fdca26\"],[1.0,\"#f0f921\"]]}],\"surface\":[{\"type\":\"surface\",\"colorbar\":{\"outlinewidth\":0,\"ticks\":\"\"},\"colorscale\":[[0.0,\"#0d0887\"],[0.1111111111111111,\"#46039f\"],[0.2222222222222222,\"#7201a8\"],[0.3333333333333333,\"#9c179e\"],[0.4444444444444444,\"#bd3786\"],[0.5555555555555556,\"#d8576b\"],[0.6666666666666666,\"#ed7953\"],[0.7777777777777778,\"#fb9f3a\"],[0.8888888888888888,\"#fdca26\"],[1.0,\"#f0f921\"]]}],\"mesh3d\":[{\"type\":\"mesh3d\",\"colorbar\":{\"outlinewidth\":0,\"ticks\":\"\"}}],\"scatter\":[{\"fillpattern\":{\"fillmode\":\"overlay\",\"size\":10,\"solidity\":0.2},\"type\":\"scatter\"}],\"parcoords\":[{\"type\":\"parcoords\",\"line\":{\"colorbar\":{\"outlinewidth\":0,\"ticks\":\"\"}}}],\"scatterpolargl\":[{\"type\":\"scatterpolargl\",\"marker\":{\"colorbar\":{\"outlinewidth\":0,\"ticks\":\"\"}}}],\"bar\":[{\"error_x\":{\"color\":\"#2a3f5f\"},\"error_y\":{\"color\":\"#2a3f5f\"},\"marker\":{\"line\":{\"color\":\"#E5ECF6\",\"width\":0.5},\"pattern\":{\"fillmode\":\"overlay\",\"size\":10,\"solidity\":0.2}},\"type\":\"bar\"}],\"scattergeo\":[{\"type\":\"scattergeo\",\"marker\":{\"colorbar\":{\"outlinewidth\":0,\"ticks\":\"\"}}}],\"scatterpolar\":[{\"type\":\"scatterpolar\",\"marker\":{\"colorbar\":{\"outlinewidth\":0,\"ticks\":\"\"}}}],\"histogram\":[{\"marker\":{\"pattern\":{\"fillmode\":\"overlay\",\"size\":10,\"solidity\":0.2}},\"type\":\"histogram\"}],\"scattergl\":[{\"type\":\"scattergl\",\"marker\":{\"colorbar\":{\"outlinewidth\":0,\"ticks\":\"\"}}}],\"scatter3d\":[{\"type\":\"scatter3d\",\"line\":{\"colorbar\":{\"outlinewidth\":0,\"ticks\":\"\"}},\"marker\":{\"colorbar\":{\"outlinewidth\":0,\"ticks\":\"\"}}}],\"scattermapbox\":[{\"type\":\"scattermapbox\",\"marker\":{\"colorbar\":{\"outlinewidth\":0,\"ticks\":\"\"}}}],\"scatterternary\":[{\"type\":\"scatterternary\",\"marker\":{\"colorbar\":{\"outlinewidth\":0,\"ticks\":\"\"}}}],\"scattercarpet\":[{\"type\":\"scattercarpet\",\"marker\":{\"colorbar\":{\"outlinewidth\":0,\"ticks\":\"\"}}}],\"carpet\":[{\"aaxis\":{\"endlinecolor\":\"#2a3f5f\",\"gridcolor\":\"white\",\"linecolor\":\"white\",\"minorgridcolor\":\"white\",\"startlinecolor\":\"#2a3f5f\"},\"baxis\":{\"endlinecolor\":\"#2a3f5f\",\"gridcolor\":\"white\",\"linecolor\":\"white\",\"minorgridcolor\":\"white\",\"startlinecolor\":\"#2a3f5f\"},\"type\":\"carpet\"}],\"table\":[{\"cells\":{\"fill\":{\"color\":\"#EBF0F8\"},\"line\":{\"color\":\"white\"}},\"header\":{\"fill\":{\"color\":\"#C8D4E3\"},\"line\":{\"color\":\"white\"}},\"type\":\"table\"}],\"barpolar\":[{\"marker\":{\"line\":{\"color\":\"#E5ECF6\",\"width\":0.5},\"pattern\":{\"fillmode\":\"overlay\",\"size\":10,\"solidity\":0.2}},\"type\":\"barpolar\"}],\"pie\":[{\"automargin\":true,\"type\":\"pie\"}]},\"layout\":{\"autotypenumbers\":\"strict\",\"colorway\":[\"#636efa\",\"#EF553B\",\"#00cc96\",\"#ab63fa\",\"#FFA15A\",\"#19d3f3\",\"#FF6692\",\"#B6E880\",\"#FF97FF\",\"#FECB52\"],\"font\":{\"color\":\"#2a3f5f\"},\"hovermode\":\"closest\",\"hoverlabel\":{\"align\":\"left\"},\"paper_bgcolor\":\"white\",\"plot_bgcolor\":\"#E5ECF6\",\"polar\":{\"bgcolor\":\"#E5ECF6\",\"angularaxis\":{\"gridcolor\":\"white\",\"linecolor\":\"white\",\"ticks\":\"\"},\"radialaxis\":{\"gridcolor\":\"white\",\"linecolor\":\"white\",\"ticks\":\"\"}},\"ternary\":{\"bgcolor\":\"#E5ECF6\",\"aaxis\":{\"gridcolor\":\"white\",\"linecolor\":\"white\",\"ticks\":\"\"},\"baxis\":{\"gridcolor\":\"white\",\"linecolor\":\"white\",\"ticks\":\"\"},\"caxis\":{\"gridcolor\":\"white\",\"linecolor\":\"white\",\"ticks\":\"\"}},\"coloraxis\":{\"colorbar\":{\"outlinewidth\":0,\"ticks\":\"\"}},\"colorscale\":{\"sequential\":[[0.0,\"#0d0887\"],[0.1111111111111111,\"#46039f\"],[0.2222222222222222,\"#7201a8\"],[0.3333333333333333,\"#9c179e\"],[0.4444444444444444,\"#bd3786\"],[0.5555555555555556,\"#d8576b\"],[0.6666666666666666,\"#ed7953\"],[0.7777777777777778,\"#fb9f3a\"],[0.8888888888888888,\"#fdca26\"],[1.0,\"#f0f921\"]],\"sequentialminus\":[[0.0,\"#0d0887\"],[0.1111111111111111,\"#46039f\"],[0.2222222222222222,\"#7201a8\"],[0.3333333333333333,\"#9c179e\"],[0.4444444444444444,\"#bd3786\"],[0.5555555555555556,\"#d8576b\"],[0.6666666666666666,\"#ed7953\"],[0.7777777777777778,\"#fb9f3a\"],[0.8888888888888888,\"#fdca26\"],[1.0,\"#f0f921\"]],\"diverging\":[[0,\"#8e0152\"],[0.1,\"#c51b7d\"],[0.2,\"#de77ae\"],[0.3,\"#f1b6da\"],[0.4,\"#fde0ef\"],[0.5,\"#f7f7f7\"],[0.6,\"#e6f5d0\"],[0.7,\"#b8e186\"],[0.8,\"#7fbc41\"],[0.9,\"#4d9221\"],[1,\"#276419\"]]},\"xaxis\":{\"gridcolor\":\"white\",\"linecolor\":\"white\",\"ticks\":\"\",\"title\":{\"standoff\":15},\"zerolinecolor\":\"white\",\"automargin\":true,\"zerolinewidth\":2},\"yaxis\":{\"gridcolor\":\"white\",\"linecolor\":\"white\",\"ticks\":\"\",\"title\":{\"standoff\":15},\"zerolinecolor\":\"white\",\"automargin\":true,\"zerolinewidth\":2},\"scene\":{\"xaxis\":{\"backgroundcolor\":\"#E5ECF6\",\"gridcolor\":\"white\",\"linecolor\":\"white\",\"showbackground\":true,\"ticks\":\"\",\"zerolinecolor\":\"white\",\"gridwidth\":2},\"yaxis\":{\"backgroundcolor\":\"#E5ECF6\",\"gridcolor\":\"white\",\"linecolor\":\"white\",\"showbackground\":true,\"ticks\":\"\",\"zerolinecolor\":\"white\",\"gridwidth\":2},\"zaxis\":{\"backgroundcolor\":\"#E5ECF6\",\"gridcolor\":\"white\",\"linecolor\":\"white\",\"showbackground\":true,\"ticks\":\"\",\"zerolinecolor\":\"white\",\"gridwidth\":2}},\"shapedefaults\":{\"line\":{\"color\":\"#2a3f5f\"}},\"annotationdefaults\":{\"arrowcolor\":\"#2a3f5f\",\"arrowhead\":0,\"arrowwidth\":1},\"geo\":{\"bgcolor\":\"white\",\"landcolor\":\"#E5ECF6\",\"subunitcolor\":\"white\",\"showland\":true,\"showlakes\":true,\"lakecolor\":\"white\"},\"title\":{\"x\":0.05},\"mapbox\":{\"style\":\"light\"}}},\"title\":{\"text\":\"Flight Paths Between Confirmed 2023 Formula 1 Circuits\"},\"geo\":{\"projection\":{\"type\":\"orthographic\"},\"scope\":\"world\",\"showland\":true,\"showcountries\":true,\"countrycolor\":\"white\"},\"showlegend\":false},                        {\"responsive\": true}                    ).then(function(){\n",
       "                            \n",
       "var gd = document.getElementById('e7586b22-e858-4dd8-8a39-bf2d28bce1c4');\n",
       "var x = new MutationObserver(function (mutations, observer) {{\n",
       "        var display = window.getComputedStyle(gd).display;\n",
       "        if (!display || display === 'none') {{\n",
       "            console.log([gd, 'removed!']);\n",
       "            Plotly.purge(gd);\n",
       "            observer.disconnect();\n",
       "        }}\n",
       "}});\n",
       "\n",
       "// Listen for the removal of the full notebook cells\n",
       "var notebookContainer = gd.closest('#notebook-container');\n",
       "if (notebookContainer) {{\n",
       "    x.observe(notebookContainer, {childList: true});\n",
       "}}\n",
       "\n",
       "// Listen for the clearing of the current output cell\n",
       "var outputEl = gd.closest('.output');\n",
       "if (outputEl) {{\n",
       "    x.observe(outputEl, {childList: true});\n",
       "}}\n",
       "\n",
       "                        })                };                });            </script>        </div>"
      ]
     },
     "metadata": {},
     "output_type": "display_data"
    }
   ],
   "source": [
    "fig = go.Figure()\n",
    "\n",
    "# Draw every possible connection between circuits\n",
    "\n",
    "\n",
    "for i in range(len(combinations)):\n",
    "    circuit_id_1 = combinations[i][0],\n",
    "    circuit_id_2 = combinations[i][1],\n",
    "    fig.add_trace(\n",
    "        go.Scattergeo(\n",
    "            # for each combination, find longitude and latitude coordinates\n",
    "            lon = [float(circuits_2023[(circuits_2023['circuitId']==circuit_id_1)==True]['lng']), float(circuits_2023[(circuits_2023['circuitId']==circuit_id_2)==True]['lng'])],\n",
    "            lat = [float(circuits_2023[(circuits_2023['circuitId']==circuit_id_1)==True]['lat']), float(circuits_2023[(circuits_2023['circuitId']==circuit_id_2)==True]['lat'])],\n",
    "            mode = 'lines',\n",
    "            line = dict(width = 1,color = 'turquoise'),\n",
    "            opacity = 0.5\n",
    "                    )\n",
    "                )\n",
    "\n",
    "# Add points corresponding to circuit locations\n",
    "\n",
    "fig.add_trace(go.Scattergeo(\n",
    "    lon = circuits_2023['lng'],\n",
    "    lat = circuits_2023['lat'],\n",
    "    hoverinfo = 'text',\n",
    "    text = circuits_2023['name'],\n",
    "    mode = 'markers',\n",
    "    marker = dict(\n",
    "        size = 7,\n",
    "        color = 'crimson',\n",
    "        line = dict(\n",
    "            width = 3,\n",
    "            color = 'rgba(68, 68, 68, 0)'\n",
    "        )\n",
    "    )))\n",
    "\n",
    "# Format output\n",
    "\n",
    "fig.update_layout(\n",
    "    title_text = 'Flight Paths Between Confirmed 2023 Formula 1 Circuits',\n",
    "    showlegend = False,\n",
    "    geo = dict(\n",
    "        scope = 'world',\n",
    "        projection_type=\"orthographic\",\n",
    "        # projection_type = 'natural earth',\n",
    "        showland = True,\n",
    "        showcountries=True,\n",
    "        #landcolor = 'rgb(243, 243, 243)',\n",
    "        countrycolor = 'white',\n",
    "    ),\n",
    ")"
   ]
  },
  {
   "cell_type": "code",
   "execution_count": 659,
   "metadata": {},
   "outputs": [],
   "source": [
    "# Create list of distances between pairs of circuits\n",
    "\n",
    "dist_list = combinations\n",
    "\n",
    "for i in range(len(combinations)):\n",
    "    # (lat, lng)\n",
    "    coords_1 = (circuits_2023[circuits_2023['circuitId'] == combinations[i][0]]['lat'],\n",
    "                circuits_2023[circuits_2023['circuitId'] == combinations[i][0]]['lng'])\n",
    "    coords_2 = (circuits_2023[circuits_2023['circuitId'] == combinations[i][1]]['lat'],\n",
    "                circuits_2023[circuits_2023['circuitId'] == combinations[i][1]]['lng'])\n",
    "    \n",
    "    coords_1 = (float(coords_1[0]), float(coords_1[1]))\n",
    "    coords_2 = (float(coords_2[0]), float(coords_2[1]))\n",
    "    \n",
    "    # dist_list is a list of triples\n",
    "    \n",
    "    dist_list[i] = (combinations[i][0], combinations[i][1], geopy.distance.geodesic(coords_1, coords_2).km)\n",
    "    "
   ]
  },
  {
   "cell_type": "code",
   "execution_count": 660,
   "metadata": {},
   "outputs": [],
   "source": [
    "# dist_list"
   ]
  },
  {
   "cell_type": "code",
   "execution_count": 661,
   "metadata": {},
   "outputs": [],
   "source": [
    "import mlrose\n",
    "import numpy as np"
   ]
  },
  {
   "cell_type": "code",
   "execution_count": 662,
   "metadata": {},
   "outputs": [],
   "source": [
    "# Initialize fitness function object using dist_list\n",
    "fitness_dists = mlrose.TravellingSales(distances = dist_list)"
   ]
  },
  {
   "cell_type": "code",
   "execution_count": 663,
   "metadata": {},
   "outputs": [],
   "source": [
    "problem_fit = mlrose.TSPOpt(length = len(circuits_2023), fitness_fn = fitness_dists, maximize=False)"
   ]
  },
  {
   "cell_type": "code",
   "execution_count": 664,
   "metadata": {},
   "outputs": [
    {
     "name": "stdout",
     "output_type": "stream",
     "text": [
      "The best state found is:  [18  3  6 11  0  7 17  9  2  5  4 12  1 15  8 16 10 13 14]\n",
      "The fitness at the best state is:  100869.69473912234\n"
     ]
    }
   ],
   "source": [
    "# Solve problem using the genetic algorithm\n",
    "\n",
    "best_state, best_fitness = mlrose.genetic_alg(problem_fit)\n",
    "\n",
    "print('The best state found is: ', best_state)\n",
    "\n",
    "print('The fitness at the best state is: ', best_fitness)"
   ]
  },
  {
   "cell_type": "code",
   "execution_count": 665,
   "metadata": {},
   "outputs": [
    {
     "data": {
      "text/html": [
       "<div>\n",
       "<style scoped>\n",
       "    .dataframe tbody tr th:only-of-type {\n",
       "        vertical-align: middle;\n",
       "    }\n",
       "\n",
       "    .dataframe tbody tr th {\n",
       "        vertical-align: top;\n",
       "    }\n",
       "\n",
       "    .dataframe thead th {\n",
       "        text-align: right;\n",
       "    }\n",
       "</style>\n",
       "<table border=\"1\" class=\"dataframe\">\n",
       "  <thead>\n",
       "    <tr style=\"text-align: right;\">\n",
       "      <th></th>\n",
       "      <th>circuitId</th>\n",
       "      <th>circuitRef</th>\n",
       "      <th>name</th>\n",
       "      <th>location</th>\n",
       "      <th>country</th>\n",
       "      <th>lat</th>\n",
       "      <th>lng</th>\n",
       "    </tr>\n",
       "  </thead>\n",
       "  <tbody>\n",
       "    <tr>\n",
       "      <th>0</th>\n",
       "      <td>0</td>\n",
       "      <td>albert_park</td>\n",
       "      <td>Albert Park Grand Prix Circuit</td>\n",
       "      <td>Melbourne</td>\n",
       "      <td>Australia</td>\n",
       "      <td>-37.8497</td>\n",
       "      <td>144.96800</td>\n",
       "    </tr>\n",
       "    <tr>\n",
       "      <th>2</th>\n",
       "      <td>1</td>\n",
       "      <td>bahrain</td>\n",
       "      <td>Bahrain International Circuit</td>\n",
       "      <td>Sakhir</td>\n",
       "      <td>Bahrain</td>\n",
       "      <td>26.0325</td>\n",
       "      <td>50.51060</td>\n",
       "    </tr>\n",
       "    <tr>\n",
       "      <th>3</th>\n",
       "      <td>2</td>\n",
       "      <td>catalunya</td>\n",
       "      <td>Circuit de Barcelona-Catalunya</td>\n",
       "      <td>Montmeló</td>\n",
       "      <td>Spain</td>\n",
       "      <td>41.5700</td>\n",
       "      <td>2.26111</td>\n",
       "    </tr>\n",
       "    <tr>\n",
       "      <th>6</th>\n",
       "      <td>3</td>\n",
       "      <td>villeneuve</td>\n",
       "      <td>Circuit Gilles Villeneuve</td>\n",
       "      <td>Montreal</td>\n",
       "      <td>Canada</td>\n",
       "      <td>45.5000</td>\n",
       "      <td>-73.52280</td>\n",
       "    </tr>\n",
       "    <tr>\n",
       "      <th>8</th>\n",
       "      <td>4</td>\n",
       "      <td>silverstone</td>\n",
       "      <td>Silverstone Circuit</td>\n",
       "      <td>Silverstone</td>\n",
       "      <td>UK</td>\n",
       "      <td>52.0786</td>\n",
       "      <td>-1.01694</td>\n",
       "    </tr>\n",
       "    <tr>\n",
       "      <th>10</th>\n",
       "      <td>5</td>\n",
       "      <td>hungaroring</td>\n",
       "      <td>Hungaroring</td>\n",
       "      <td>Budapest</td>\n",
       "      <td>Hungary</td>\n",
       "      <td>47.5789</td>\n",
       "      <td>19.24860</td>\n",
       "    </tr>\n",
       "    <tr>\n",
       "      <th>13</th>\n",
       "      <td>6</td>\n",
       "      <td>monza</td>\n",
       "      <td>Autodromo Nazionale di Monza</td>\n",
       "      <td>Monza</td>\n",
       "      <td>Italy</td>\n",
       "      <td>45.6156</td>\n",
       "      <td>9.28111</td>\n",
       "    </tr>\n",
       "    <tr>\n",
       "      <th>14</th>\n",
       "      <td>7</td>\n",
       "      <td>marina_bay</td>\n",
       "      <td>Marina Bay Street Circuit</td>\n",
       "      <td>Marina Bay</td>\n",
       "      <td>Singapore</td>\n",
       "      <td>1.2914</td>\n",
       "      <td>103.86400</td>\n",
       "    </tr>\n",
       "    <tr>\n",
       "      <th>16</th>\n",
       "      <td>8</td>\n",
       "      <td>shanghai</td>\n",
       "      <td>Shanghai International Circuit</td>\n",
       "      <td>Shanghai</td>\n",
       "      <td>China</td>\n",
       "      <td>31.3389</td>\n",
       "      <td>121.22000</td>\n",
       "    </tr>\n",
       "    <tr>\n",
       "      <th>17</th>\n",
       "      <td>9</td>\n",
       "      <td>interlagos</td>\n",
       "      <td>Autódromo José Carlos Pace</td>\n",
       "      <td>São Paulo</td>\n",
       "      <td>Brazil</td>\n",
       "      <td>-23.7036</td>\n",
       "      <td>-46.69970</td>\n",
       "    </tr>\n",
       "    <tr>\n",
       "      <th>20</th>\n",
       "      <td>10</td>\n",
       "      <td>imola</td>\n",
       "      <td>Autodromo Enzo e Dino Ferrari</td>\n",
       "      <td>Imola</td>\n",
       "      <td>Italy</td>\n",
       "      <td>44.3439</td>\n",
       "      <td>11.71670</td>\n",
       "    </tr>\n",
       "    <tr>\n",
       "      <th>21</th>\n",
       "      <td>11</td>\n",
       "      <td>suzuka</td>\n",
       "      <td>Suzuka Circuit</td>\n",
       "      <td>Suzuka</td>\n",
       "      <td>Japan</td>\n",
       "      <td>34.8431</td>\n",
       "      <td>136.54100</td>\n",
       "    </tr>\n",
       "    <tr>\n",
       "      <th>23</th>\n",
       "      <td>12</td>\n",
       "      <td>yas_marina</td>\n",
       "      <td>Yas Marina Circuit</td>\n",
       "      <td>Abu Dhabi</td>\n",
       "      <td>UAE</td>\n",
       "      <td>24.4672</td>\n",
       "      <td>54.60310</td>\n",
       "    </tr>\n",
       "    <tr>\n",
       "      <th>38</th>\n",
       "      <td>13</td>\n",
       "      <td>zandvoort</td>\n",
       "      <td>Circuit Park Zandvoort</td>\n",
       "      <td>Zandvoort</td>\n",
       "      <td>Netherlands</td>\n",
       "      <td>52.3888</td>\n",
       "      <td>4.54092</td>\n",
       "    </tr>\n",
       "    <tr>\n",
       "      <th>43</th>\n",
       "      <td>14</td>\n",
       "      <td>las_vegas</td>\n",
       "      <td>Las Vegas Street Circuit</td>\n",
       "      <td>Nevada</td>\n",
       "      <td>USA</td>\n",
       "      <td>36.1162</td>\n",
       "      <td>-115.17400</td>\n",
       "    </tr>\n",
       "    <tr>\n",
       "      <th>72</th>\n",
       "      <td>15</td>\n",
       "      <td>BAK</td>\n",
       "      <td>Baku City Circuit</td>\n",
       "      <td>Baku</td>\n",
       "      <td>Azerbaijan</td>\n",
       "      <td>40.3725</td>\n",
       "      <td>49.85330</td>\n",
       "    </tr>\n",
       "    <tr>\n",
       "      <th>76</th>\n",
       "      <td>16</td>\n",
       "      <td>jeddah</td>\n",
       "      <td>Jeddah Corniche Circuit</td>\n",
       "      <td>Jeddah</td>\n",
       "      <td>Saudi Arabia</td>\n",
       "      <td>21.6319</td>\n",
       "      <td>39.10440</td>\n",
       "    </tr>\n",
       "    <tr>\n",
       "      <th>77</th>\n",
       "      <td>17</td>\n",
       "      <td>losail</td>\n",
       "      <td>Losail International Circuit</td>\n",
       "      <td>Al Daayen</td>\n",
       "      <td>Qatar</td>\n",
       "      <td>25.4900</td>\n",
       "      <td>51.45420</td>\n",
       "    </tr>\n",
       "    <tr>\n",
       "      <th>78</th>\n",
       "      <td>18</td>\n",
       "      <td>miami</td>\n",
       "      <td>Miami International Autodrome</td>\n",
       "      <td>Miami</td>\n",
       "      <td>USA</td>\n",
       "      <td>25.9581</td>\n",
       "      <td>-80.23890</td>\n",
       "    </tr>\n",
       "  </tbody>\n",
       "</table>\n",
       "</div>"
      ],
      "text/plain": [
       "    circuitId   circuitRef                            name     location  \\\n",
       "0           0  albert_park  Albert Park Grand Prix Circuit    Melbourne   \n",
       "2           1      bahrain   Bahrain International Circuit       Sakhir   \n",
       "3           2    catalunya  Circuit de Barcelona-Catalunya     Montmeló   \n",
       "6           3   villeneuve       Circuit Gilles Villeneuve     Montreal   \n",
       "8           4  silverstone             Silverstone Circuit  Silverstone   \n",
       "10          5  hungaroring                     Hungaroring     Budapest   \n",
       "13          6        monza    Autodromo Nazionale di Monza        Monza   \n",
       "14          7   marina_bay       Marina Bay Street Circuit   Marina Bay   \n",
       "16          8     shanghai  Shanghai International Circuit     Shanghai   \n",
       "17          9   interlagos      Autódromo José Carlos Pace    São Paulo   \n",
       "20         10        imola   Autodromo Enzo e Dino Ferrari        Imola   \n",
       "21         11       suzuka                  Suzuka Circuit       Suzuka   \n",
       "23         12   yas_marina              Yas Marina Circuit    Abu Dhabi   \n",
       "38         13    zandvoort          Circuit Park Zandvoort    Zandvoort   \n",
       "43         14    las_vegas        Las Vegas Street Circuit       Nevada   \n",
       "72         15          BAK               Baku City Circuit         Baku   \n",
       "76         16       jeddah         Jeddah Corniche Circuit       Jeddah   \n",
       "77         17       losail    Losail International Circuit    Al Daayen   \n",
       "78         18        miami   Miami International Autodrome        Miami   \n",
       "\n",
       "         country      lat        lng  \n",
       "0      Australia -37.8497  144.96800  \n",
       "2        Bahrain  26.0325   50.51060  \n",
       "3          Spain  41.5700    2.26111  \n",
       "6         Canada  45.5000  -73.52280  \n",
       "8             UK  52.0786   -1.01694  \n",
       "10       Hungary  47.5789   19.24860  \n",
       "13         Italy  45.6156    9.28111  \n",
       "14     Singapore   1.2914  103.86400  \n",
       "16         China  31.3389  121.22000  \n",
       "17        Brazil -23.7036  -46.69970  \n",
       "20         Italy  44.3439   11.71670  \n",
       "21         Japan  34.8431  136.54100  \n",
       "23           UAE  24.4672   54.60310  \n",
       "38   Netherlands  52.3888    4.54092  \n",
       "43           USA  36.1162 -115.17400  \n",
       "72    Azerbaijan  40.3725   49.85330  \n",
       "76  Saudi Arabia  21.6319   39.10440  \n",
       "77         Qatar  25.4900   51.45420  \n",
       "78           USA  25.9581  -80.23890  "
      ]
     },
     "execution_count": 665,
     "metadata": {},
     "output_type": "execute_result"
    }
   ],
   "source": [
    "circuits_2023"
   ]
  },
  {
   "cell_type": "code",
   "execution_count": 666,
   "metadata": {},
   "outputs": [
    {
     "data": {
      "application/vnd.plotly.v1+json": {
       "config": {
        "plotlyServerURL": "https://plot.ly"
       },
       "data": [
        {
         "lat": [
          -37.8497,
          26.0325
         ],
         "line": {
          "color": "turquoise",
          "width": 1
         },
         "lon": [
          144.968,
          50.5106
         ],
         "mode": "lines",
         "opacity": 0.5,
         "type": "scattergeo"
        },
        {
         "lat": [
          -37.8497,
          41.57
         ],
         "line": {
          "color": "turquoise",
          "width": 1
         },
         "lon": [
          144.968,
          2.26111
         ],
         "mode": "lines",
         "opacity": 0.5,
         "type": "scattergeo"
        },
        {
         "lat": [
          -37.8497,
          45.5
         ],
         "line": {
          "color": "turquoise",
          "width": 1
         },
         "lon": [
          144.968,
          -73.5228
         ],
         "mode": "lines",
         "opacity": 0.5,
         "type": "scattergeo"
        },
        {
         "lat": [
          -37.8497,
          52.0786
         ],
         "line": {
          "color": "turquoise",
          "width": 1
         },
         "lon": [
          144.968,
          -1.01694
         ],
         "mode": "lines",
         "opacity": 0.5,
         "type": "scattergeo"
        },
        {
         "lat": [
          -37.8497,
          47.5789
         ],
         "line": {
          "color": "turquoise",
          "width": 1
         },
         "lon": [
          144.968,
          19.2486
         ],
         "mode": "lines",
         "opacity": 0.5,
         "type": "scattergeo"
        },
        {
         "lat": [
          -37.8497,
          45.6156
         ],
         "line": {
          "color": "turquoise",
          "width": 1
         },
         "lon": [
          144.968,
          9.28111
         ],
         "mode": "lines",
         "opacity": 0.5,
         "type": "scattergeo"
        },
        {
         "lat": [
          -37.8497,
          1.2914
         ],
         "line": {
          "color": "turquoise",
          "width": 1
         },
         "lon": [
          144.968,
          103.864
         ],
         "mode": "lines",
         "opacity": 0.5,
         "type": "scattergeo"
        },
        {
         "lat": [
          -37.8497,
          31.3389
         ],
         "line": {
          "color": "turquoise",
          "width": 1
         },
         "lon": [
          144.968,
          121.22
         ],
         "mode": "lines",
         "opacity": 0.5,
         "type": "scattergeo"
        },
        {
         "lat": [
          -37.8497,
          -23.7036
         ],
         "line": {
          "color": "turquoise",
          "width": 1
         },
         "lon": [
          144.968,
          -46.6997
         ],
         "mode": "lines",
         "opacity": 0.5,
         "type": "scattergeo"
        },
        {
         "lat": [
          -37.8497,
          44.3439
         ],
         "line": {
          "color": "turquoise",
          "width": 1
         },
         "lon": [
          144.968,
          11.7167
         ],
         "mode": "lines",
         "opacity": 0.5,
         "type": "scattergeo"
        },
        {
         "lat": [
          -37.8497,
          34.8431
         ],
         "line": {
          "color": "turquoise",
          "width": 1
         },
         "lon": [
          144.968,
          136.541
         ],
         "mode": "lines",
         "opacity": 0.5,
         "type": "scattergeo"
        },
        {
         "lat": [
          -37.8497,
          24.4672
         ],
         "line": {
          "color": "turquoise",
          "width": 1
         },
         "lon": [
          144.968,
          54.6031
         ],
         "mode": "lines",
         "opacity": 0.5,
         "type": "scattergeo"
        },
        {
         "lat": [
          -37.8497,
          52.3888
         ],
         "line": {
          "color": "turquoise",
          "width": 1
         },
         "lon": [
          144.968,
          4.54092
         ],
         "mode": "lines",
         "opacity": 0.5,
         "type": "scattergeo"
        },
        {
         "lat": [
          -37.8497,
          36.1162
         ],
         "line": {
          "color": "turquoise",
          "width": 1
         },
         "lon": [
          144.968,
          -115.174
         ],
         "mode": "lines",
         "opacity": 0.5,
         "type": "scattergeo"
        },
        {
         "lat": [
          -37.8497,
          40.3725
         ],
         "line": {
          "color": "turquoise",
          "width": 1
         },
         "lon": [
          144.968,
          49.8533
         ],
         "mode": "lines",
         "opacity": 0.5,
         "type": "scattergeo"
        },
        {
         "lat": [
          -37.8497,
          21.6319
         ],
         "line": {
          "color": "turquoise",
          "width": 1
         },
         "lon": [
          144.968,
          39.1044
         ],
         "mode": "lines",
         "opacity": 0.5,
         "type": "scattergeo"
        },
        {
         "lat": [
          -37.8497,
          25.49
         ],
         "line": {
          "color": "turquoise",
          "width": 1
         },
         "lon": [
          144.968,
          51.4542
         ],
         "mode": "lines",
         "opacity": 0.5,
         "type": "scattergeo"
        },
        {
         "lat": [
          -37.8497,
          25.9581
         ],
         "line": {
          "color": "turquoise",
          "width": 1
         },
         "lon": [
          144.968,
          -80.2389
         ],
         "mode": "lines",
         "opacity": 0.5,
         "type": "scattergeo"
        },
        {
         "lat": [
          26.0325,
          41.57
         ],
         "line": {
          "color": "turquoise",
          "width": 1
         },
         "lon": [
          50.5106,
          2.26111
         ],
         "mode": "lines",
         "opacity": 0.5,
         "type": "scattergeo"
        },
        {
         "lat": [
          26.0325,
          45.5
         ],
         "line": {
          "color": "turquoise",
          "width": 1
         },
         "lon": [
          50.5106,
          -73.5228
         ],
         "mode": "lines",
         "opacity": 0.5,
         "type": "scattergeo"
        },
        {
         "lat": [
          26.0325,
          52.0786
         ],
         "line": {
          "color": "turquoise",
          "width": 1
         },
         "lon": [
          50.5106,
          -1.01694
         ],
         "mode": "lines",
         "opacity": 0.5,
         "type": "scattergeo"
        },
        {
         "lat": [
          26.0325,
          47.5789
         ],
         "line": {
          "color": "turquoise",
          "width": 1
         },
         "lon": [
          50.5106,
          19.2486
         ],
         "mode": "lines",
         "opacity": 0.5,
         "type": "scattergeo"
        },
        {
         "lat": [
          26.0325,
          45.6156
         ],
         "line": {
          "color": "turquoise",
          "width": 1
         },
         "lon": [
          50.5106,
          9.28111
         ],
         "mode": "lines",
         "opacity": 0.5,
         "type": "scattergeo"
        },
        {
         "lat": [
          26.0325,
          1.2914
         ],
         "line": {
          "color": "turquoise",
          "width": 1
         },
         "lon": [
          50.5106,
          103.864
         ],
         "mode": "lines",
         "opacity": 0.5,
         "type": "scattergeo"
        },
        {
         "lat": [
          26.0325,
          31.3389
         ],
         "line": {
          "color": "turquoise",
          "width": 1
         },
         "lon": [
          50.5106,
          121.22
         ],
         "mode": "lines",
         "opacity": 0.5,
         "type": "scattergeo"
        },
        {
         "lat": [
          26.0325,
          -23.7036
         ],
         "line": {
          "color": "turquoise",
          "width": 1
         },
         "lon": [
          50.5106,
          -46.6997
         ],
         "mode": "lines",
         "opacity": 0.5,
         "type": "scattergeo"
        },
        {
         "lat": [
          26.0325,
          44.3439
         ],
         "line": {
          "color": "turquoise",
          "width": 1
         },
         "lon": [
          50.5106,
          11.7167
         ],
         "mode": "lines",
         "opacity": 0.5,
         "type": "scattergeo"
        },
        {
         "lat": [
          26.0325,
          34.8431
         ],
         "line": {
          "color": "turquoise",
          "width": 1
         },
         "lon": [
          50.5106,
          136.541
         ],
         "mode": "lines",
         "opacity": 0.5,
         "type": "scattergeo"
        },
        {
         "lat": [
          26.0325,
          24.4672
         ],
         "line": {
          "color": "turquoise",
          "width": 1
         },
         "lon": [
          50.5106,
          54.6031
         ],
         "mode": "lines",
         "opacity": 0.5,
         "type": "scattergeo"
        },
        {
         "lat": [
          26.0325,
          52.3888
         ],
         "line": {
          "color": "turquoise",
          "width": 1
         },
         "lon": [
          50.5106,
          4.54092
         ],
         "mode": "lines",
         "opacity": 0.5,
         "type": "scattergeo"
        },
        {
         "lat": [
          26.0325,
          36.1162
         ],
         "line": {
          "color": "turquoise",
          "width": 1
         },
         "lon": [
          50.5106,
          -115.174
         ],
         "mode": "lines",
         "opacity": 0.5,
         "type": "scattergeo"
        },
        {
         "lat": [
          26.0325,
          40.3725
         ],
         "line": {
          "color": "turquoise",
          "width": 1
         },
         "lon": [
          50.5106,
          49.8533
         ],
         "mode": "lines",
         "opacity": 0.5,
         "type": "scattergeo"
        },
        {
         "lat": [
          26.0325,
          21.6319
         ],
         "line": {
          "color": "turquoise",
          "width": 1
         },
         "lon": [
          50.5106,
          39.1044
         ],
         "mode": "lines",
         "opacity": 0.5,
         "type": "scattergeo"
        },
        {
         "lat": [
          26.0325,
          25.49
         ],
         "line": {
          "color": "turquoise",
          "width": 1
         },
         "lon": [
          50.5106,
          51.4542
         ],
         "mode": "lines",
         "opacity": 0.5,
         "type": "scattergeo"
        },
        {
         "lat": [
          26.0325,
          25.9581
         ],
         "line": {
          "color": "turquoise",
          "width": 1
         },
         "lon": [
          50.5106,
          -80.2389
         ],
         "mode": "lines",
         "opacity": 0.5,
         "type": "scattergeo"
        },
        {
         "lat": [
          41.57,
          45.5
         ],
         "line": {
          "color": "turquoise",
          "width": 1
         },
         "lon": [
          2.26111,
          -73.5228
         ],
         "mode": "lines",
         "opacity": 0.5,
         "type": "scattergeo"
        },
        {
         "lat": [
          41.57,
          52.0786
         ],
         "line": {
          "color": "turquoise",
          "width": 1
         },
         "lon": [
          2.26111,
          -1.01694
         ],
         "mode": "lines",
         "opacity": 0.5,
         "type": "scattergeo"
        },
        {
         "lat": [
          41.57,
          47.5789
         ],
         "line": {
          "color": "turquoise",
          "width": 1
         },
         "lon": [
          2.26111,
          19.2486
         ],
         "mode": "lines",
         "opacity": 0.5,
         "type": "scattergeo"
        },
        {
         "lat": [
          41.57,
          45.6156
         ],
         "line": {
          "color": "turquoise",
          "width": 1
         },
         "lon": [
          2.26111,
          9.28111
         ],
         "mode": "lines",
         "opacity": 0.5,
         "type": "scattergeo"
        },
        {
         "lat": [
          41.57,
          1.2914
         ],
         "line": {
          "color": "turquoise",
          "width": 1
         },
         "lon": [
          2.26111,
          103.864
         ],
         "mode": "lines",
         "opacity": 0.5,
         "type": "scattergeo"
        },
        {
         "lat": [
          41.57,
          31.3389
         ],
         "line": {
          "color": "turquoise",
          "width": 1
         },
         "lon": [
          2.26111,
          121.22
         ],
         "mode": "lines",
         "opacity": 0.5,
         "type": "scattergeo"
        },
        {
         "lat": [
          41.57,
          -23.7036
         ],
         "line": {
          "color": "turquoise",
          "width": 1
         },
         "lon": [
          2.26111,
          -46.6997
         ],
         "mode": "lines",
         "opacity": 0.5,
         "type": "scattergeo"
        },
        {
         "lat": [
          41.57,
          44.3439
         ],
         "line": {
          "color": "turquoise",
          "width": 1
         },
         "lon": [
          2.26111,
          11.7167
         ],
         "mode": "lines",
         "opacity": 0.5,
         "type": "scattergeo"
        },
        {
         "lat": [
          41.57,
          34.8431
         ],
         "line": {
          "color": "turquoise",
          "width": 1
         },
         "lon": [
          2.26111,
          136.541
         ],
         "mode": "lines",
         "opacity": 0.5,
         "type": "scattergeo"
        },
        {
         "lat": [
          41.57,
          24.4672
         ],
         "line": {
          "color": "turquoise",
          "width": 1
         },
         "lon": [
          2.26111,
          54.6031
         ],
         "mode": "lines",
         "opacity": 0.5,
         "type": "scattergeo"
        },
        {
         "lat": [
          41.57,
          52.3888
         ],
         "line": {
          "color": "turquoise",
          "width": 1
         },
         "lon": [
          2.26111,
          4.54092
         ],
         "mode": "lines",
         "opacity": 0.5,
         "type": "scattergeo"
        },
        {
         "lat": [
          41.57,
          36.1162
         ],
         "line": {
          "color": "turquoise",
          "width": 1
         },
         "lon": [
          2.26111,
          -115.174
         ],
         "mode": "lines",
         "opacity": 0.5,
         "type": "scattergeo"
        },
        {
         "lat": [
          41.57,
          40.3725
         ],
         "line": {
          "color": "turquoise",
          "width": 1
         },
         "lon": [
          2.26111,
          49.8533
         ],
         "mode": "lines",
         "opacity": 0.5,
         "type": "scattergeo"
        },
        {
         "lat": [
          41.57,
          21.6319
         ],
         "line": {
          "color": "turquoise",
          "width": 1
         },
         "lon": [
          2.26111,
          39.1044
         ],
         "mode": "lines",
         "opacity": 0.5,
         "type": "scattergeo"
        },
        {
         "lat": [
          41.57,
          25.49
         ],
         "line": {
          "color": "turquoise",
          "width": 1
         },
         "lon": [
          2.26111,
          51.4542
         ],
         "mode": "lines",
         "opacity": 0.5,
         "type": "scattergeo"
        },
        {
         "lat": [
          41.57,
          25.9581
         ],
         "line": {
          "color": "turquoise",
          "width": 1
         },
         "lon": [
          2.26111,
          -80.2389
         ],
         "mode": "lines",
         "opacity": 0.5,
         "type": "scattergeo"
        },
        {
         "lat": [
          45.5,
          52.0786
         ],
         "line": {
          "color": "turquoise",
          "width": 1
         },
         "lon": [
          -73.5228,
          -1.01694
         ],
         "mode": "lines",
         "opacity": 0.5,
         "type": "scattergeo"
        },
        {
         "lat": [
          45.5,
          47.5789
         ],
         "line": {
          "color": "turquoise",
          "width": 1
         },
         "lon": [
          -73.5228,
          19.2486
         ],
         "mode": "lines",
         "opacity": 0.5,
         "type": "scattergeo"
        },
        {
         "lat": [
          45.5,
          45.6156
         ],
         "line": {
          "color": "turquoise",
          "width": 1
         },
         "lon": [
          -73.5228,
          9.28111
         ],
         "mode": "lines",
         "opacity": 0.5,
         "type": "scattergeo"
        },
        {
         "lat": [
          45.5,
          1.2914
         ],
         "line": {
          "color": "turquoise",
          "width": 1
         },
         "lon": [
          -73.5228,
          103.864
         ],
         "mode": "lines",
         "opacity": 0.5,
         "type": "scattergeo"
        },
        {
         "lat": [
          45.5,
          31.3389
         ],
         "line": {
          "color": "turquoise",
          "width": 1
         },
         "lon": [
          -73.5228,
          121.22
         ],
         "mode": "lines",
         "opacity": 0.5,
         "type": "scattergeo"
        },
        {
         "lat": [
          45.5,
          -23.7036
         ],
         "line": {
          "color": "turquoise",
          "width": 1
         },
         "lon": [
          -73.5228,
          -46.6997
         ],
         "mode": "lines",
         "opacity": 0.5,
         "type": "scattergeo"
        },
        {
         "lat": [
          45.5,
          44.3439
         ],
         "line": {
          "color": "turquoise",
          "width": 1
         },
         "lon": [
          -73.5228,
          11.7167
         ],
         "mode": "lines",
         "opacity": 0.5,
         "type": "scattergeo"
        },
        {
         "lat": [
          45.5,
          34.8431
         ],
         "line": {
          "color": "turquoise",
          "width": 1
         },
         "lon": [
          -73.5228,
          136.541
         ],
         "mode": "lines",
         "opacity": 0.5,
         "type": "scattergeo"
        },
        {
         "lat": [
          45.5,
          24.4672
         ],
         "line": {
          "color": "turquoise",
          "width": 1
         },
         "lon": [
          -73.5228,
          54.6031
         ],
         "mode": "lines",
         "opacity": 0.5,
         "type": "scattergeo"
        },
        {
         "lat": [
          45.5,
          52.3888
         ],
         "line": {
          "color": "turquoise",
          "width": 1
         },
         "lon": [
          -73.5228,
          4.54092
         ],
         "mode": "lines",
         "opacity": 0.5,
         "type": "scattergeo"
        },
        {
         "lat": [
          45.5,
          36.1162
         ],
         "line": {
          "color": "turquoise",
          "width": 1
         },
         "lon": [
          -73.5228,
          -115.174
         ],
         "mode": "lines",
         "opacity": 0.5,
         "type": "scattergeo"
        },
        {
         "lat": [
          45.5,
          40.3725
         ],
         "line": {
          "color": "turquoise",
          "width": 1
         },
         "lon": [
          -73.5228,
          49.8533
         ],
         "mode": "lines",
         "opacity": 0.5,
         "type": "scattergeo"
        },
        {
         "lat": [
          45.5,
          21.6319
         ],
         "line": {
          "color": "turquoise",
          "width": 1
         },
         "lon": [
          -73.5228,
          39.1044
         ],
         "mode": "lines",
         "opacity": 0.5,
         "type": "scattergeo"
        },
        {
         "lat": [
          45.5,
          25.49
         ],
         "line": {
          "color": "turquoise",
          "width": 1
         },
         "lon": [
          -73.5228,
          51.4542
         ],
         "mode": "lines",
         "opacity": 0.5,
         "type": "scattergeo"
        },
        {
         "lat": [
          45.5,
          25.9581
         ],
         "line": {
          "color": "turquoise",
          "width": 1
         },
         "lon": [
          -73.5228,
          -80.2389
         ],
         "mode": "lines",
         "opacity": 0.5,
         "type": "scattergeo"
        },
        {
         "lat": [
          52.0786,
          47.5789
         ],
         "line": {
          "color": "turquoise",
          "width": 1
         },
         "lon": [
          -1.01694,
          19.2486
         ],
         "mode": "lines",
         "opacity": 0.5,
         "type": "scattergeo"
        },
        {
         "lat": [
          52.0786,
          45.6156
         ],
         "line": {
          "color": "turquoise",
          "width": 1
         },
         "lon": [
          -1.01694,
          9.28111
         ],
         "mode": "lines",
         "opacity": 0.5,
         "type": "scattergeo"
        },
        {
         "lat": [
          52.0786,
          1.2914
         ],
         "line": {
          "color": "turquoise",
          "width": 1
         },
         "lon": [
          -1.01694,
          103.864
         ],
         "mode": "lines",
         "opacity": 0.5,
         "type": "scattergeo"
        },
        {
         "lat": [
          52.0786,
          31.3389
         ],
         "line": {
          "color": "turquoise",
          "width": 1
         },
         "lon": [
          -1.01694,
          121.22
         ],
         "mode": "lines",
         "opacity": 0.5,
         "type": "scattergeo"
        },
        {
         "lat": [
          52.0786,
          -23.7036
         ],
         "line": {
          "color": "turquoise",
          "width": 1
         },
         "lon": [
          -1.01694,
          -46.6997
         ],
         "mode": "lines",
         "opacity": 0.5,
         "type": "scattergeo"
        },
        {
         "lat": [
          52.0786,
          44.3439
         ],
         "line": {
          "color": "turquoise",
          "width": 1
         },
         "lon": [
          -1.01694,
          11.7167
         ],
         "mode": "lines",
         "opacity": 0.5,
         "type": "scattergeo"
        },
        {
         "lat": [
          52.0786,
          34.8431
         ],
         "line": {
          "color": "turquoise",
          "width": 1
         },
         "lon": [
          -1.01694,
          136.541
         ],
         "mode": "lines",
         "opacity": 0.5,
         "type": "scattergeo"
        },
        {
         "lat": [
          52.0786,
          24.4672
         ],
         "line": {
          "color": "turquoise",
          "width": 1
         },
         "lon": [
          -1.01694,
          54.6031
         ],
         "mode": "lines",
         "opacity": 0.5,
         "type": "scattergeo"
        },
        {
         "lat": [
          52.0786,
          52.3888
         ],
         "line": {
          "color": "turquoise",
          "width": 1
         },
         "lon": [
          -1.01694,
          4.54092
         ],
         "mode": "lines",
         "opacity": 0.5,
         "type": "scattergeo"
        },
        {
         "lat": [
          52.0786,
          36.1162
         ],
         "line": {
          "color": "turquoise",
          "width": 1
         },
         "lon": [
          -1.01694,
          -115.174
         ],
         "mode": "lines",
         "opacity": 0.5,
         "type": "scattergeo"
        },
        {
         "lat": [
          52.0786,
          40.3725
         ],
         "line": {
          "color": "turquoise",
          "width": 1
         },
         "lon": [
          -1.01694,
          49.8533
         ],
         "mode": "lines",
         "opacity": 0.5,
         "type": "scattergeo"
        },
        {
         "lat": [
          52.0786,
          21.6319
         ],
         "line": {
          "color": "turquoise",
          "width": 1
         },
         "lon": [
          -1.01694,
          39.1044
         ],
         "mode": "lines",
         "opacity": 0.5,
         "type": "scattergeo"
        },
        {
         "lat": [
          52.0786,
          25.49
         ],
         "line": {
          "color": "turquoise",
          "width": 1
         },
         "lon": [
          -1.01694,
          51.4542
         ],
         "mode": "lines",
         "opacity": 0.5,
         "type": "scattergeo"
        },
        {
         "lat": [
          52.0786,
          25.9581
         ],
         "line": {
          "color": "turquoise",
          "width": 1
         },
         "lon": [
          -1.01694,
          -80.2389
         ],
         "mode": "lines",
         "opacity": 0.5,
         "type": "scattergeo"
        },
        {
         "lat": [
          47.5789,
          45.6156
         ],
         "line": {
          "color": "turquoise",
          "width": 1
         },
         "lon": [
          19.2486,
          9.28111
         ],
         "mode": "lines",
         "opacity": 0.5,
         "type": "scattergeo"
        },
        {
         "lat": [
          47.5789,
          1.2914
         ],
         "line": {
          "color": "turquoise",
          "width": 1
         },
         "lon": [
          19.2486,
          103.864
         ],
         "mode": "lines",
         "opacity": 0.5,
         "type": "scattergeo"
        },
        {
         "lat": [
          47.5789,
          31.3389
         ],
         "line": {
          "color": "turquoise",
          "width": 1
         },
         "lon": [
          19.2486,
          121.22
         ],
         "mode": "lines",
         "opacity": 0.5,
         "type": "scattergeo"
        },
        {
         "lat": [
          47.5789,
          -23.7036
         ],
         "line": {
          "color": "turquoise",
          "width": 1
         },
         "lon": [
          19.2486,
          -46.6997
         ],
         "mode": "lines",
         "opacity": 0.5,
         "type": "scattergeo"
        },
        {
         "lat": [
          47.5789,
          44.3439
         ],
         "line": {
          "color": "turquoise",
          "width": 1
         },
         "lon": [
          19.2486,
          11.7167
         ],
         "mode": "lines",
         "opacity": 0.5,
         "type": "scattergeo"
        },
        {
         "lat": [
          47.5789,
          34.8431
         ],
         "line": {
          "color": "turquoise",
          "width": 1
         },
         "lon": [
          19.2486,
          136.541
         ],
         "mode": "lines",
         "opacity": 0.5,
         "type": "scattergeo"
        },
        {
         "lat": [
          47.5789,
          24.4672
         ],
         "line": {
          "color": "turquoise",
          "width": 1
         },
         "lon": [
          19.2486,
          54.6031
         ],
         "mode": "lines",
         "opacity": 0.5,
         "type": "scattergeo"
        },
        {
         "lat": [
          47.5789,
          52.3888
         ],
         "line": {
          "color": "turquoise",
          "width": 1
         },
         "lon": [
          19.2486,
          4.54092
         ],
         "mode": "lines",
         "opacity": 0.5,
         "type": "scattergeo"
        },
        {
         "lat": [
          47.5789,
          36.1162
         ],
         "line": {
          "color": "turquoise",
          "width": 1
         },
         "lon": [
          19.2486,
          -115.174
         ],
         "mode": "lines",
         "opacity": 0.5,
         "type": "scattergeo"
        },
        {
         "lat": [
          47.5789,
          40.3725
         ],
         "line": {
          "color": "turquoise",
          "width": 1
         },
         "lon": [
          19.2486,
          49.8533
         ],
         "mode": "lines",
         "opacity": 0.5,
         "type": "scattergeo"
        },
        {
         "lat": [
          47.5789,
          21.6319
         ],
         "line": {
          "color": "turquoise",
          "width": 1
         },
         "lon": [
          19.2486,
          39.1044
         ],
         "mode": "lines",
         "opacity": 0.5,
         "type": "scattergeo"
        },
        {
         "lat": [
          47.5789,
          25.49
         ],
         "line": {
          "color": "turquoise",
          "width": 1
         },
         "lon": [
          19.2486,
          51.4542
         ],
         "mode": "lines",
         "opacity": 0.5,
         "type": "scattergeo"
        },
        {
         "lat": [
          47.5789,
          25.9581
         ],
         "line": {
          "color": "turquoise",
          "width": 1
         },
         "lon": [
          19.2486,
          -80.2389
         ],
         "mode": "lines",
         "opacity": 0.5,
         "type": "scattergeo"
        },
        {
         "lat": [
          45.6156,
          1.2914
         ],
         "line": {
          "color": "turquoise",
          "width": 1
         },
         "lon": [
          9.28111,
          103.864
         ],
         "mode": "lines",
         "opacity": 0.5,
         "type": "scattergeo"
        },
        {
         "lat": [
          45.6156,
          31.3389
         ],
         "line": {
          "color": "turquoise",
          "width": 1
         },
         "lon": [
          9.28111,
          121.22
         ],
         "mode": "lines",
         "opacity": 0.5,
         "type": "scattergeo"
        },
        {
         "lat": [
          45.6156,
          -23.7036
         ],
         "line": {
          "color": "turquoise",
          "width": 1
         },
         "lon": [
          9.28111,
          -46.6997
         ],
         "mode": "lines",
         "opacity": 0.5,
         "type": "scattergeo"
        },
        {
         "lat": [
          45.6156,
          44.3439
         ],
         "line": {
          "color": "turquoise",
          "width": 1
         },
         "lon": [
          9.28111,
          11.7167
         ],
         "mode": "lines",
         "opacity": 0.5,
         "type": "scattergeo"
        },
        {
         "lat": [
          45.6156,
          34.8431
         ],
         "line": {
          "color": "turquoise",
          "width": 1
         },
         "lon": [
          9.28111,
          136.541
         ],
         "mode": "lines",
         "opacity": 0.5,
         "type": "scattergeo"
        },
        {
         "lat": [
          45.6156,
          24.4672
         ],
         "line": {
          "color": "turquoise",
          "width": 1
         },
         "lon": [
          9.28111,
          54.6031
         ],
         "mode": "lines",
         "opacity": 0.5,
         "type": "scattergeo"
        },
        {
         "lat": [
          45.6156,
          52.3888
         ],
         "line": {
          "color": "turquoise",
          "width": 1
         },
         "lon": [
          9.28111,
          4.54092
         ],
         "mode": "lines",
         "opacity": 0.5,
         "type": "scattergeo"
        },
        {
         "lat": [
          45.6156,
          36.1162
         ],
         "line": {
          "color": "turquoise",
          "width": 1
         },
         "lon": [
          9.28111,
          -115.174
         ],
         "mode": "lines",
         "opacity": 0.5,
         "type": "scattergeo"
        },
        {
         "lat": [
          45.6156,
          40.3725
         ],
         "line": {
          "color": "turquoise",
          "width": 1
         },
         "lon": [
          9.28111,
          49.8533
         ],
         "mode": "lines",
         "opacity": 0.5,
         "type": "scattergeo"
        },
        {
         "lat": [
          45.6156,
          21.6319
         ],
         "line": {
          "color": "turquoise",
          "width": 1
         },
         "lon": [
          9.28111,
          39.1044
         ],
         "mode": "lines",
         "opacity": 0.5,
         "type": "scattergeo"
        },
        {
         "lat": [
          45.6156,
          25.49
         ],
         "line": {
          "color": "turquoise",
          "width": 1
         },
         "lon": [
          9.28111,
          51.4542
         ],
         "mode": "lines",
         "opacity": 0.5,
         "type": "scattergeo"
        },
        {
         "lat": [
          45.6156,
          25.9581
         ],
         "line": {
          "color": "turquoise",
          "width": 1
         },
         "lon": [
          9.28111,
          -80.2389
         ],
         "mode": "lines",
         "opacity": 0.5,
         "type": "scattergeo"
        },
        {
         "lat": [
          1.2914,
          31.3389
         ],
         "line": {
          "color": "turquoise",
          "width": 1
         },
         "lon": [
          103.864,
          121.22
         ],
         "mode": "lines",
         "opacity": 0.5,
         "type": "scattergeo"
        },
        {
         "lat": [
          1.2914,
          -23.7036
         ],
         "line": {
          "color": "turquoise",
          "width": 1
         },
         "lon": [
          103.864,
          -46.6997
         ],
         "mode": "lines",
         "opacity": 0.5,
         "type": "scattergeo"
        },
        {
         "lat": [
          1.2914,
          44.3439
         ],
         "line": {
          "color": "turquoise",
          "width": 1
         },
         "lon": [
          103.864,
          11.7167
         ],
         "mode": "lines",
         "opacity": 0.5,
         "type": "scattergeo"
        },
        {
         "lat": [
          1.2914,
          34.8431
         ],
         "line": {
          "color": "turquoise",
          "width": 1
         },
         "lon": [
          103.864,
          136.541
         ],
         "mode": "lines",
         "opacity": 0.5,
         "type": "scattergeo"
        },
        {
         "lat": [
          1.2914,
          24.4672
         ],
         "line": {
          "color": "turquoise",
          "width": 1
         },
         "lon": [
          103.864,
          54.6031
         ],
         "mode": "lines",
         "opacity": 0.5,
         "type": "scattergeo"
        },
        {
         "lat": [
          1.2914,
          52.3888
         ],
         "line": {
          "color": "turquoise",
          "width": 1
         },
         "lon": [
          103.864,
          4.54092
         ],
         "mode": "lines",
         "opacity": 0.5,
         "type": "scattergeo"
        },
        {
         "lat": [
          1.2914,
          36.1162
         ],
         "line": {
          "color": "turquoise",
          "width": 1
         },
         "lon": [
          103.864,
          -115.174
         ],
         "mode": "lines",
         "opacity": 0.5,
         "type": "scattergeo"
        },
        {
         "lat": [
          1.2914,
          40.3725
         ],
         "line": {
          "color": "turquoise",
          "width": 1
         },
         "lon": [
          103.864,
          49.8533
         ],
         "mode": "lines",
         "opacity": 0.5,
         "type": "scattergeo"
        },
        {
         "lat": [
          1.2914,
          21.6319
         ],
         "line": {
          "color": "turquoise",
          "width": 1
         },
         "lon": [
          103.864,
          39.1044
         ],
         "mode": "lines",
         "opacity": 0.5,
         "type": "scattergeo"
        },
        {
         "lat": [
          1.2914,
          25.49
         ],
         "line": {
          "color": "turquoise",
          "width": 1
         },
         "lon": [
          103.864,
          51.4542
         ],
         "mode": "lines",
         "opacity": 0.5,
         "type": "scattergeo"
        },
        {
         "lat": [
          1.2914,
          25.9581
         ],
         "line": {
          "color": "turquoise",
          "width": 1
         },
         "lon": [
          103.864,
          -80.2389
         ],
         "mode": "lines",
         "opacity": 0.5,
         "type": "scattergeo"
        },
        {
         "lat": [
          31.3389,
          -23.7036
         ],
         "line": {
          "color": "turquoise",
          "width": 1
         },
         "lon": [
          121.22,
          -46.6997
         ],
         "mode": "lines",
         "opacity": 0.5,
         "type": "scattergeo"
        },
        {
         "lat": [
          31.3389,
          44.3439
         ],
         "line": {
          "color": "turquoise",
          "width": 1
         },
         "lon": [
          121.22,
          11.7167
         ],
         "mode": "lines",
         "opacity": 0.5,
         "type": "scattergeo"
        },
        {
         "lat": [
          31.3389,
          34.8431
         ],
         "line": {
          "color": "turquoise",
          "width": 1
         },
         "lon": [
          121.22,
          136.541
         ],
         "mode": "lines",
         "opacity": 0.5,
         "type": "scattergeo"
        },
        {
         "lat": [
          31.3389,
          24.4672
         ],
         "line": {
          "color": "turquoise",
          "width": 1
         },
         "lon": [
          121.22,
          54.6031
         ],
         "mode": "lines",
         "opacity": 0.5,
         "type": "scattergeo"
        },
        {
         "lat": [
          31.3389,
          52.3888
         ],
         "line": {
          "color": "turquoise",
          "width": 1
         },
         "lon": [
          121.22,
          4.54092
         ],
         "mode": "lines",
         "opacity": 0.5,
         "type": "scattergeo"
        },
        {
         "lat": [
          31.3389,
          36.1162
         ],
         "line": {
          "color": "turquoise",
          "width": 1
         },
         "lon": [
          121.22,
          -115.174
         ],
         "mode": "lines",
         "opacity": 0.5,
         "type": "scattergeo"
        },
        {
         "lat": [
          31.3389,
          40.3725
         ],
         "line": {
          "color": "turquoise",
          "width": 1
         },
         "lon": [
          121.22,
          49.8533
         ],
         "mode": "lines",
         "opacity": 0.5,
         "type": "scattergeo"
        },
        {
         "lat": [
          31.3389,
          21.6319
         ],
         "line": {
          "color": "turquoise",
          "width": 1
         },
         "lon": [
          121.22,
          39.1044
         ],
         "mode": "lines",
         "opacity": 0.5,
         "type": "scattergeo"
        },
        {
         "lat": [
          31.3389,
          25.49
         ],
         "line": {
          "color": "turquoise",
          "width": 1
         },
         "lon": [
          121.22,
          51.4542
         ],
         "mode": "lines",
         "opacity": 0.5,
         "type": "scattergeo"
        },
        {
         "lat": [
          31.3389,
          25.9581
         ],
         "line": {
          "color": "turquoise",
          "width": 1
         },
         "lon": [
          121.22,
          -80.2389
         ],
         "mode": "lines",
         "opacity": 0.5,
         "type": "scattergeo"
        },
        {
         "lat": [
          -23.7036,
          44.3439
         ],
         "line": {
          "color": "turquoise",
          "width": 1
         },
         "lon": [
          -46.6997,
          11.7167
         ],
         "mode": "lines",
         "opacity": 0.5,
         "type": "scattergeo"
        },
        {
         "lat": [
          -23.7036,
          34.8431
         ],
         "line": {
          "color": "turquoise",
          "width": 1
         },
         "lon": [
          -46.6997,
          136.541
         ],
         "mode": "lines",
         "opacity": 0.5,
         "type": "scattergeo"
        },
        {
         "lat": [
          -23.7036,
          24.4672
         ],
         "line": {
          "color": "turquoise",
          "width": 1
         },
         "lon": [
          -46.6997,
          54.6031
         ],
         "mode": "lines",
         "opacity": 0.5,
         "type": "scattergeo"
        },
        {
         "lat": [
          -23.7036,
          52.3888
         ],
         "line": {
          "color": "turquoise",
          "width": 1
         },
         "lon": [
          -46.6997,
          4.54092
         ],
         "mode": "lines",
         "opacity": 0.5,
         "type": "scattergeo"
        },
        {
         "lat": [
          -23.7036,
          36.1162
         ],
         "line": {
          "color": "turquoise",
          "width": 1
         },
         "lon": [
          -46.6997,
          -115.174
         ],
         "mode": "lines",
         "opacity": 0.5,
         "type": "scattergeo"
        },
        {
         "lat": [
          -23.7036,
          40.3725
         ],
         "line": {
          "color": "turquoise",
          "width": 1
         },
         "lon": [
          -46.6997,
          49.8533
         ],
         "mode": "lines",
         "opacity": 0.5,
         "type": "scattergeo"
        },
        {
         "lat": [
          -23.7036,
          21.6319
         ],
         "line": {
          "color": "turquoise",
          "width": 1
         },
         "lon": [
          -46.6997,
          39.1044
         ],
         "mode": "lines",
         "opacity": 0.5,
         "type": "scattergeo"
        },
        {
         "lat": [
          -23.7036,
          25.49
         ],
         "line": {
          "color": "turquoise",
          "width": 1
         },
         "lon": [
          -46.6997,
          51.4542
         ],
         "mode": "lines",
         "opacity": 0.5,
         "type": "scattergeo"
        },
        {
         "lat": [
          -23.7036,
          25.9581
         ],
         "line": {
          "color": "turquoise",
          "width": 1
         },
         "lon": [
          -46.6997,
          -80.2389
         ],
         "mode": "lines",
         "opacity": 0.5,
         "type": "scattergeo"
        },
        {
         "lat": [
          44.3439,
          34.8431
         ],
         "line": {
          "color": "turquoise",
          "width": 1
         },
         "lon": [
          11.7167,
          136.541
         ],
         "mode": "lines",
         "opacity": 0.5,
         "type": "scattergeo"
        },
        {
         "lat": [
          44.3439,
          24.4672
         ],
         "line": {
          "color": "turquoise",
          "width": 1
         },
         "lon": [
          11.7167,
          54.6031
         ],
         "mode": "lines",
         "opacity": 0.5,
         "type": "scattergeo"
        },
        {
         "lat": [
          44.3439,
          52.3888
         ],
         "line": {
          "color": "turquoise",
          "width": 1
         },
         "lon": [
          11.7167,
          4.54092
         ],
         "mode": "lines",
         "opacity": 0.5,
         "type": "scattergeo"
        },
        {
         "lat": [
          44.3439,
          36.1162
         ],
         "line": {
          "color": "turquoise",
          "width": 1
         },
         "lon": [
          11.7167,
          -115.174
         ],
         "mode": "lines",
         "opacity": 0.5,
         "type": "scattergeo"
        },
        {
         "lat": [
          44.3439,
          40.3725
         ],
         "line": {
          "color": "turquoise",
          "width": 1
         },
         "lon": [
          11.7167,
          49.8533
         ],
         "mode": "lines",
         "opacity": 0.5,
         "type": "scattergeo"
        },
        {
         "lat": [
          44.3439,
          21.6319
         ],
         "line": {
          "color": "turquoise",
          "width": 1
         },
         "lon": [
          11.7167,
          39.1044
         ],
         "mode": "lines",
         "opacity": 0.5,
         "type": "scattergeo"
        },
        {
         "lat": [
          44.3439,
          25.49
         ],
         "line": {
          "color": "turquoise",
          "width": 1
         },
         "lon": [
          11.7167,
          51.4542
         ],
         "mode": "lines",
         "opacity": 0.5,
         "type": "scattergeo"
        },
        {
         "lat": [
          44.3439,
          25.9581
         ],
         "line": {
          "color": "turquoise",
          "width": 1
         },
         "lon": [
          11.7167,
          -80.2389
         ],
         "mode": "lines",
         "opacity": 0.5,
         "type": "scattergeo"
        },
        {
         "lat": [
          34.8431,
          24.4672
         ],
         "line": {
          "color": "turquoise",
          "width": 1
         },
         "lon": [
          136.541,
          54.6031
         ],
         "mode": "lines",
         "opacity": 0.5,
         "type": "scattergeo"
        },
        {
         "lat": [
          34.8431,
          52.3888
         ],
         "line": {
          "color": "turquoise",
          "width": 1
         },
         "lon": [
          136.541,
          4.54092
         ],
         "mode": "lines",
         "opacity": 0.5,
         "type": "scattergeo"
        },
        {
         "lat": [
          34.8431,
          36.1162
         ],
         "line": {
          "color": "turquoise",
          "width": 1
         },
         "lon": [
          136.541,
          -115.174
         ],
         "mode": "lines",
         "opacity": 0.5,
         "type": "scattergeo"
        },
        {
         "lat": [
          34.8431,
          40.3725
         ],
         "line": {
          "color": "turquoise",
          "width": 1
         },
         "lon": [
          136.541,
          49.8533
         ],
         "mode": "lines",
         "opacity": 0.5,
         "type": "scattergeo"
        },
        {
         "lat": [
          34.8431,
          21.6319
         ],
         "line": {
          "color": "turquoise",
          "width": 1
         },
         "lon": [
          136.541,
          39.1044
         ],
         "mode": "lines",
         "opacity": 0.5,
         "type": "scattergeo"
        },
        {
         "lat": [
          34.8431,
          25.49
         ],
         "line": {
          "color": "turquoise",
          "width": 1
         },
         "lon": [
          136.541,
          51.4542
         ],
         "mode": "lines",
         "opacity": 0.5,
         "type": "scattergeo"
        },
        {
         "lat": [
          34.8431,
          25.9581
         ],
         "line": {
          "color": "turquoise",
          "width": 1
         },
         "lon": [
          136.541,
          -80.2389
         ],
         "mode": "lines",
         "opacity": 0.5,
         "type": "scattergeo"
        },
        {
         "lat": [
          24.4672,
          52.3888
         ],
         "line": {
          "color": "turquoise",
          "width": 1
         },
         "lon": [
          54.6031,
          4.54092
         ],
         "mode": "lines",
         "opacity": 0.5,
         "type": "scattergeo"
        },
        {
         "lat": [
          24.4672,
          36.1162
         ],
         "line": {
          "color": "turquoise",
          "width": 1
         },
         "lon": [
          54.6031,
          -115.174
         ],
         "mode": "lines",
         "opacity": 0.5,
         "type": "scattergeo"
        },
        {
         "lat": [
          24.4672,
          40.3725
         ],
         "line": {
          "color": "turquoise",
          "width": 1
         },
         "lon": [
          54.6031,
          49.8533
         ],
         "mode": "lines",
         "opacity": 0.5,
         "type": "scattergeo"
        },
        {
         "lat": [
          24.4672,
          21.6319
         ],
         "line": {
          "color": "turquoise",
          "width": 1
         },
         "lon": [
          54.6031,
          39.1044
         ],
         "mode": "lines",
         "opacity": 0.5,
         "type": "scattergeo"
        },
        {
         "lat": [
          24.4672,
          25.49
         ],
         "line": {
          "color": "turquoise",
          "width": 1
         },
         "lon": [
          54.6031,
          51.4542
         ],
         "mode": "lines",
         "opacity": 0.5,
         "type": "scattergeo"
        },
        {
         "lat": [
          24.4672,
          25.9581
         ],
         "line": {
          "color": "turquoise",
          "width": 1
         },
         "lon": [
          54.6031,
          -80.2389
         ],
         "mode": "lines",
         "opacity": 0.5,
         "type": "scattergeo"
        },
        {
         "lat": [
          52.3888,
          36.1162
         ],
         "line": {
          "color": "turquoise",
          "width": 1
         },
         "lon": [
          4.54092,
          -115.174
         ],
         "mode": "lines",
         "opacity": 0.5,
         "type": "scattergeo"
        },
        {
         "lat": [
          52.3888,
          40.3725
         ],
         "line": {
          "color": "turquoise",
          "width": 1
         },
         "lon": [
          4.54092,
          49.8533
         ],
         "mode": "lines",
         "opacity": 0.5,
         "type": "scattergeo"
        },
        {
         "lat": [
          52.3888,
          21.6319
         ],
         "line": {
          "color": "turquoise",
          "width": 1
         },
         "lon": [
          4.54092,
          39.1044
         ],
         "mode": "lines",
         "opacity": 0.5,
         "type": "scattergeo"
        },
        {
         "lat": [
          52.3888,
          25.49
         ],
         "line": {
          "color": "turquoise",
          "width": 1
         },
         "lon": [
          4.54092,
          51.4542
         ],
         "mode": "lines",
         "opacity": 0.5,
         "type": "scattergeo"
        },
        {
         "lat": [
          52.3888,
          25.9581
         ],
         "line": {
          "color": "turquoise",
          "width": 1
         },
         "lon": [
          4.54092,
          -80.2389
         ],
         "mode": "lines",
         "opacity": 0.5,
         "type": "scattergeo"
        },
        {
         "lat": [
          36.1162,
          40.3725
         ],
         "line": {
          "color": "turquoise",
          "width": 1
         },
         "lon": [
          -115.174,
          49.8533
         ],
         "mode": "lines",
         "opacity": 0.5,
         "type": "scattergeo"
        },
        {
         "lat": [
          36.1162,
          21.6319
         ],
         "line": {
          "color": "turquoise",
          "width": 1
         },
         "lon": [
          -115.174,
          39.1044
         ],
         "mode": "lines",
         "opacity": 0.5,
         "type": "scattergeo"
        },
        {
         "lat": [
          36.1162,
          25.49
         ],
         "line": {
          "color": "turquoise",
          "width": 1
         },
         "lon": [
          -115.174,
          51.4542
         ],
         "mode": "lines",
         "opacity": 0.5,
         "type": "scattergeo"
        },
        {
         "lat": [
          36.1162,
          25.9581
         ],
         "line": {
          "color": "turquoise",
          "width": 1
         },
         "lon": [
          -115.174,
          -80.2389
         ],
         "mode": "lines",
         "opacity": 0.5,
         "type": "scattergeo"
        },
        {
         "lat": [
          40.3725,
          21.6319
         ],
         "line": {
          "color": "turquoise",
          "width": 1
         },
         "lon": [
          49.8533,
          39.1044
         ],
         "mode": "lines",
         "opacity": 0.5,
         "type": "scattergeo"
        },
        {
         "lat": [
          40.3725,
          25.49
         ],
         "line": {
          "color": "turquoise",
          "width": 1
         },
         "lon": [
          49.8533,
          51.4542
         ],
         "mode": "lines",
         "opacity": 0.5,
         "type": "scattergeo"
        },
        {
         "lat": [
          40.3725,
          25.9581
         ],
         "line": {
          "color": "turquoise",
          "width": 1
         },
         "lon": [
          49.8533,
          -80.2389
         ],
         "mode": "lines",
         "opacity": 0.5,
         "type": "scattergeo"
        },
        {
         "lat": [
          21.6319,
          25.49
         ],
         "line": {
          "color": "turquoise",
          "width": 1
         },
         "lon": [
          39.1044,
          51.4542
         ],
         "mode": "lines",
         "opacity": 0.5,
         "type": "scattergeo"
        },
        {
         "lat": [
          21.6319,
          25.9581
         ],
         "line": {
          "color": "turquoise",
          "width": 1
         },
         "lon": [
          39.1044,
          -80.2389
         ],
         "mode": "lines",
         "opacity": 0.5,
         "type": "scattergeo"
        },
        {
         "lat": [
          25.49,
          25.9581
         ],
         "line": {
          "color": "turquoise",
          "width": 1
         },
         "lon": [
          51.4542,
          -80.2389
         ],
         "mode": "lines",
         "opacity": 0.5,
         "type": "scattergeo"
        },
        {
         "hoverinfo": "text",
         "lat": [
          -37.8497,
          26.0325,
          41.57,
          45.5,
          52.0786,
          47.5789,
          45.6156,
          1.2914,
          31.3389,
          -23.7036,
          44.3439,
          34.8431,
          24.4672,
          52.3888,
          36.1162,
          40.3725,
          21.6319,
          25.49,
          25.9581
         ],
         "lon": [
          144.968,
          50.5106,
          2.26111,
          -73.5228,
          -1.01694,
          19.2486,
          9.28111,
          103.864,
          121.22,
          -46.6997,
          11.7167,
          136.541,
          54.6031,
          4.54092,
          -115.174,
          49.8533,
          39.1044,
          51.4542,
          -80.2389
         ],
         "marker": {
          "color": "crimson",
          "line": {
           "color": "rgba(68, 68, 68, 0)",
           "width": 3
          },
          "size": 7
         },
         "mode": "markers",
         "text": [
          "Albert Park Grand Prix Circuit",
          "Bahrain International Circuit",
          "Circuit de Barcelona-Catalunya",
          "Circuit Gilles Villeneuve",
          "Silverstone Circuit",
          "Hungaroring",
          "Autodromo Nazionale di Monza",
          "Marina Bay Street Circuit",
          "Shanghai International Circuit",
          "Autódromo José Carlos Pace",
          "Autodromo Enzo e Dino Ferrari",
          "Suzuka Circuit",
          "Yas Marina Circuit",
          "Circuit Park Zandvoort",
          "Las Vegas Street Circuit",
          "Baku City Circuit",
          "Jeddah Corniche Circuit",
          "Losail International Circuit",
          "Miami International Autodrome"
         ],
         "type": "scattergeo"
        },
        {
         "lat": [
          25.9581,
          45.5
         ],
         "line": {
          "color": "red",
          "width": 1
         },
         "lon": [
          -80.2389,
          -73.5228
         ],
         "mode": "lines",
         "opacity": 1,
         "type": "scattergeo"
        },
        {
         "lat": [
          45.5,
          45.6156
         ],
         "line": {
          "color": "red",
          "width": 1
         },
         "lon": [
          -73.5228,
          9.28111
         ],
         "mode": "lines",
         "opacity": 1,
         "type": "scattergeo"
        },
        {
         "lat": [
          45.6156,
          34.8431
         ],
         "line": {
          "color": "red",
          "width": 1
         },
         "lon": [
          9.28111,
          136.541
         ],
         "mode": "lines",
         "opacity": 1,
         "type": "scattergeo"
        },
        {
         "lat": [
          34.8431,
          -37.8497
         ],
         "line": {
          "color": "red",
          "width": 1
         },
         "lon": [
          136.541,
          144.968
         ],
         "mode": "lines",
         "opacity": 1,
         "type": "scattergeo"
        },
        {
         "lat": [
          -37.8497,
          1.2914
         ],
         "line": {
          "color": "red",
          "width": 1
         },
         "lon": [
          144.968,
          103.864
         ],
         "mode": "lines",
         "opacity": 1,
         "type": "scattergeo"
        },
        {
         "lat": [
          1.2914,
          25.49
         ],
         "line": {
          "color": "red",
          "width": 1
         },
         "lon": [
          103.864,
          51.4542
         ],
         "mode": "lines",
         "opacity": 1,
         "type": "scattergeo"
        },
        {
         "lat": [
          25.49,
          -23.7036
         ],
         "line": {
          "color": "red",
          "width": 1
         },
         "lon": [
          51.4542,
          -46.6997
         ],
         "mode": "lines",
         "opacity": 1,
         "type": "scattergeo"
        },
        {
         "lat": [
          -23.7036,
          41.57
         ],
         "line": {
          "color": "red",
          "width": 1
         },
         "lon": [
          -46.6997,
          2.26111
         ],
         "mode": "lines",
         "opacity": 1,
         "type": "scattergeo"
        },
        {
         "lat": [
          41.57,
          47.5789
         ],
         "line": {
          "color": "red",
          "width": 1
         },
         "lon": [
          2.26111,
          19.2486
         ],
         "mode": "lines",
         "opacity": 1,
         "type": "scattergeo"
        },
        {
         "lat": [
          47.5789,
          52.0786
         ],
         "line": {
          "color": "red",
          "width": 1
         },
         "lon": [
          19.2486,
          -1.01694
         ],
         "mode": "lines",
         "opacity": 1,
         "type": "scattergeo"
        },
        {
         "lat": [
          52.0786,
          24.4672
         ],
         "line": {
          "color": "red",
          "width": 1
         },
         "lon": [
          -1.01694,
          54.6031
         ],
         "mode": "lines",
         "opacity": 1,
         "type": "scattergeo"
        },
        {
         "lat": [
          24.4672,
          26.0325
         ],
         "line": {
          "color": "red",
          "width": 1
         },
         "lon": [
          54.6031,
          50.5106
         ],
         "mode": "lines",
         "opacity": 1,
         "type": "scattergeo"
        },
        {
         "lat": [
          26.0325,
          40.3725
         ],
         "line": {
          "color": "red",
          "width": 1
         },
         "lon": [
          50.5106,
          49.8533
         ],
         "mode": "lines",
         "opacity": 1,
         "type": "scattergeo"
        },
        {
         "lat": [
          40.3725,
          31.3389
         ],
         "line": {
          "color": "red",
          "width": 1
         },
         "lon": [
          49.8533,
          121.22
         ],
         "mode": "lines",
         "opacity": 1,
         "type": "scattergeo"
        },
        {
         "lat": [
          31.3389,
          21.6319
         ],
         "line": {
          "color": "red",
          "width": 1
         },
         "lon": [
          121.22,
          39.1044
         ],
         "mode": "lines",
         "opacity": 1,
         "type": "scattergeo"
        },
        {
         "lat": [
          21.6319,
          44.3439
         ],
         "line": {
          "color": "red",
          "width": 1
         },
         "lon": [
          39.1044,
          11.7167
         ],
         "mode": "lines",
         "opacity": 1,
         "type": "scattergeo"
        },
        {
         "lat": [
          44.3439,
          52.3888
         ],
         "line": {
          "color": "red",
          "width": 1
         },
         "lon": [
          11.7167,
          4.54092
         ],
         "mode": "lines",
         "opacity": 1,
         "type": "scattergeo"
        },
        {
         "lat": [
          52.3888,
          36.1162
         ],
         "line": {
          "color": "red",
          "width": 1
         },
         "lon": [
          4.54092,
          -115.174
         ],
         "mode": "lines",
         "opacity": 1,
         "type": "scattergeo"
        },
        {
         "hoverinfo": "text",
         "lat": [
          -37.8497,
          26.0325,
          41.57,
          45.5,
          52.0786,
          47.5789,
          45.6156,
          1.2914,
          31.3389,
          -23.7036,
          44.3439,
          34.8431,
          24.4672,
          52.3888,
          36.1162,
          40.3725,
          21.6319,
          25.49,
          25.9581
         ],
         "lon": [
          144.968,
          50.5106,
          2.26111,
          -73.5228,
          -1.01694,
          19.2486,
          9.28111,
          103.864,
          121.22,
          -46.6997,
          11.7167,
          136.541,
          54.6031,
          4.54092,
          -115.174,
          49.8533,
          39.1044,
          51.4542,
          -80.2389
         ],
         "marker": {
          "color": "crimson",
          "line": {
           "color": "rgba(68, 68, 68, 0)",
           "width": 3
          },
          "size": 7
         },
         "mode": "markers",
         "text": [
          "Albert Park Grand Prix Circuit",
          "Bahrain International Circuit",
          "Circuit de Barcelona-Catalunya",
          "Circuit Gilles Villeneuve",
          "Silverstone Circuit",
          "Hungaroring",
          "Autodromo Nazionale di Monza",
          "Marina Bay Street Circuit",
          "Shanghai International Circuit",
          "Autódromo José Carlos Pace",
          "Autodromo Enzo e Dino Ferrari",
          "Suzuka Circuit",
          "Yas Marina Circuit",
          "Circuit Park Zandvoort",
          "Las Vegas Street Circuit",
          "Baku City Circuit",
          "Jeddah Corniche Circuit",
          "Losail International Circuit",
          "Miami International Autodrome"
         ],
         "type": "scattergeo"
        }
       ],
       "layout": {
        "geo": {
         "countrycolor": "white",
         "projection": {
          "type": "natural earth"
         },
         "scope": "world",
         "showcountries": true,
         "showland": true
        },
        "showlegend": false,
        "template": {
         "data": {
          "bar": [
           {
            "error_x": {
             "color": "#2a3f5f"
            },
            "error_y": {
             "color": "#2a3f5f"
            },
            "marker": {
             "line": {
              "color": "#E5ECF6",
              "width": 0.5
             },
             "pattern": {
              "fillmode": "overlay",
              "size": 10,
              "solidity": 0.2
             }
            },
            "type": "bar"
           }
          ],
          "barpolar": [
           {
            "marker": {
             "line": {
              "color": "#E5ECF6",
              "width": 0.5
             },
             "pattern": {
              "fillmode": "overlay",
              "size": 10,
              "solidity": 0.2
             }
            },
            "type": "barpolar"
           }
          ],
          "carpet": [
           {
            "aaxis": {
             "endlinecolor": "#2a3f5f",
             "gridcolor": "white",
             "linecolor": "white",
             "minorgridcolor": "white",
             "startlinecolor": "#2a3f5f"
            },
            "baxis": {
             "endlinecolor": "#2a3f5f",
             "gridcolor": "white",
             "linecolor": "white",
             "minorgridcolor": "white",
             "startlinecolor": "#2a3f5f"
            },
            "type": "carpet"
           }
          ],
          "choropleth": [
           {
            "colorbar": {
             "outlinewidth": 0,
             "ticks": ""
            },
            "type": "choropleth"
           }
          ],
          "contour": [
           {
            "colorbar": {
             "outlinewidth": 0,
             "ticks": ""
            },
            "colorscale": [
             [
              0,
              "#0d0887"
             ],
             [
              0.1111111111111111,
              "#46039f"
             ],
             [
              0.2222222222222222,
              "#7201a8"
             ],
             [
              0.3333333333333333,
              "#9c179e"
             ],
             [
              0.4444444444444444,
              "#bd3786"
             ],
             [
              0.5555555555555556,
              "#d8576b"
             ],
             [
              0.6666666666666666,
              "#ed7953"
             ],
             [
              0.7777777777777778,
              "#fb9f3a"
             ],
             [
              0.8888888888888888,
              "#fdca26"
             ],
             [
              1,
              "#f0f921"
             ]
            ],
            "type": "contour"
           }
          ],
          "contourcarpet": [
           {
            "colorbar": {
             "outlinewidth": 0,
             "ticks": ""
            },
            "type": "contourcarpet"
           }
          ],
          "heatmap": [
           {
            "colorbar": {
             "outlinewidth": 0,
             "ticks": ""
            },
            "colorscale": [
             [
              0,
              "#0d0887"
             ],
             [
              0.1111111111111111,
              "#46039f"
             ],
             [
              0.2222222222222222,
              "#7201a8"
             ],
             [
              0.3333333333333333,
              "#9c179e"
             ],
             [
              0.4444444444444444,
              "#bd3786"
             ],
             [
              0.5555555555555556,
              "#d8576b"
             ],
             [
              0.6666666666666666,
              "#ed7953"
             ],
             [
              0.7777777777777778,
              "#fb9f3a"
             ],
             [
              0.8888888888888888,
              "#fdca26"
             ],
             [
              1,
              "#f0f921"
             ]
            ],
            "type": "heatmap"
           }
          ],
          "heatmapgl": [
           {
            "colorbar": {
             "outlinewidth": 0,
             "ticks": ""
            },
            "colorscale": [
             [
              0,
              "#0d0887"
             ],
             [
              0.1111111111111111,
              "#46039f"
             ],
             [
              0.2222222222222222,
              "#7201a8"
             ],
             [
              0.3333333333333333,
              "#9c179e"
             ],
             [
              0.4444444444444444,
              "#bd3786"
             ],
             [
              0.5555555555555556,
              "#d8576b"
             ],
             [
              0.6666666666666666,
              "#ed7953"
             ],
             [
              0.7777777777777778,
              "#fb9f3a"
             ],
             [
              0.8888888888888888,
              "#fdca26"
             ],
             [
              1,
              "#f0f921"
             ]
            ],
            "type": "heatmapgl"
           }
          ],
          "histogram": [
           {
            "marker": {
             "pattern": {
              "fillmode": "overlay",
              "size": 10,
              "solidity": 0.2
             }
            },
            "type": "histogram"
           }
          ],
          "histogram2d": [
           {
            "colorbar": {
             "outlinewidth": 0,
             "ticks": ""
            },
            "colorscale": [
             [
              0,
              "#0d0887"
             ],
             [
              0.1111111111111111,
              "#46039f"
             ],
             [
              0.2222222222222222,
              "#7201a8"
             ],
             [
              0.3333333333333333,
              "#9c179e"
             ],
             [
              0.4444444444444444,
              "#bd3786"
             ],
             [
              0.5555555555555556,
              "#d8576b"
             ],
             [
              0.6666666666666666,
              "#ed7953"
             ],
             [
              0.7777777777777778,
              "#fb9f3a"
             ],
             [
              0.8888888888888888,
              "#fdca26"
             ],
             [
              1,
              "#f0f921"
             ]
            ],
            "type": "histogram2d"
           }
          ],
          "histogram2dcontour": [
           {
            "colorbar": {
             "outlinewidth": 0,
             "ticks": ""
            },
            "colorscale": [
             [
              0,
              "#0d0887"
             ],
             [
              0.1111111111111111,
              "#46039f"
             ],
             [
              0.2222222222222222,
              "#7201a8"
             ],
             [
              0.3333333333333333,
              "#9c179e"
             ],
             [
              0.4444444444444444,
              "#bd3786"
             ],
             [
              0.5555555555555556,
              "#d8576b"
             ],
             [
              0.6666666666666666,
              "#ed7953"
             ],
             [
              0.7777777777777778,
              "#fb9f3a"
             ],
             [
              0.8888888888888888,
              "#fdca26"
             ],
             [
              1,
              "#f0f921"
             ]
            ],
            "type": "histogram2dcontour"
           }
          ],
          "mesh3d": [
           {
            "colorbar": {
             "outlinewidth": 0,
             "ticks": ""
            },
            "type": "mesh3d"
           }
          ],
          "parcoords": [
           {
            "line": {
             "colorbar": {
              "outlinewidth": 0,
              "ticks": ""
             }
            },
            "type": "parcoords"
           }
          ],
          "pie": [
           {
            "automargin": true,
            "type": "pie"
           }
          ],
          "scatter": [
           {
            "fillpattern": {
             "fillmode": "overlay",
             "size": 10,
             "solidity": 0.2
            },
            "type": "scatter"
           }
          ],
          "scatter3d": [
           {
            "line": {
             "colorbar": {
              "outlinewidth": 0,
              "ticks": ""
             }
            },
            "marker": {
             "colorbar": {
              "outlinewidth": 0,
              "ticks": ""
             }
            },
            "type": "scatter3d"
           }
          ],
          "scattercarpet": [
           {
            "marker": {
             "colorbar": {
              "outlinewidth": 0,
              "ticks": ""
             }
            },
            "type": "scattercarpet"
           }
          ],
          "scattergeo": [
           {
            "marker": {
             "colorbar": {
              "outlinewidth": 0,
              "ticks": ""
             }
            },
            "type": "scattergeo"
           }
          ],
          "scattergl": [
           {
            "marker": {
             "colorbar": {
              "outlinewidth": 0,
              "ticks": ""
             }
            },
            "type": "scattergl"
           }
          ],
          "scattermapbox": [
           {
            "marker": {
             "colorbar": {
              "outlinewidth": 0,
              "ticks": ""
             }
            },
            "type": "scattermapbox"
           }
          ],
          "scatterpolar": [
           {
            "marker": {
             "colorbar": {
              "outlinewidth": 0,
              "ticks": ""
             }
            },
            "type": "scatterpolar"
           }
          ],
          "scatterpolargl": [
           {
            "marker": {
             "colorbar": {
              "outlinewidth": 0,
              "ticks": ""
             }
            },
            "type": "scatterpolargl"
           }
          ],
          "scatterternary": [
           {
            "marker": {
             "colorbar": {
              "outlinewidth": 0,
              "ticks": ""
             }
            },
            "type": "scatterternary"
           }
          ],
          "surface": [
           {
            "colorbar": {
             "outlinewidth": 0,
             "ticks": ""
            },
            "colorscale": [
             [
              0,
              "#0d0887"
             ],
             [
              0.1111111111111111,
              "#46039f"
             ],
             [
              0.2222222222222222,
              "#7201a8"
             ],
             [
              0.3333333333333333,
              "#9c179e"
             ],
             [
              0.4444444444444444,
              "#bd3786"
             ],
             [
              0.5555555555555556,
              "#d8576b"
             ],
             [
              0.6666666666666666,
              "#ed7953"
             ],
             [
              0.7777777777777778,
              "#fb9f3a"
             ],
             [
              0.8888888888888888,
              "#fdca26"
             ],
             [
              1,
              "#f0f921"
             ]
            ],
            "type": "surface"
           }
          ],
          "table": [
           {
            "cells": {
             "fill": {
              "color": "#EBF0F8"
             },
             "line": {
              "color": "white"
             }
            },
            "header": {
             "fill": {
              "color": "#C8D4E3"
             },
             "line": {
              "color": "white"
             }
            },
            "type": "table"
           }
          ]
         },
         "layout": {
          "annotationdefaults": {
           "arrowcolor": "#2a3f5f",
           "arrowhead": 0,
           "arrowwidth": 1
          },
          "autotypenumbers": "strict",
          "coloraxis": {
           "colorbar": {
            "outlinewidth": 0,
            "ticks": ""
           }
          },
          "colorscale": {
           "diverging": [
            [
             0,
             "#8e0152"
            ],
            [
             0.1,
             "#c51b7d"
            ],
            [
             0.2,
             "#de77ae"
            ],
            [
             0.3,
             "#f1b6da"
            ],
            [
             0.4,
             "#fde0ef"
            ],
            [
             0.5,
             "#f7f7f7"
            ],
            [
             0.6,
             "#e6f5d0"
            ],
            [
             0.7,
             "#b8e186"
            ],
            [
             0.8,
             "#7fbc41"
            ],
            [
             0.9,
             "#4d9221"
            ],
            [
             1,
             "#276419"
            ]
           ],
           "sequential": [
            [
             0,
             "#0d0887"
            ],
            [
             0.1111111111111111,
             "#46039f"
            ],
            [
             0.2222222222222222,
             "#7201a8"
            ],
            [
             0.3333333333333333,
             "#9c179e"
            ],
            [
             0.4444444444444444,
             "#bd3786"
            ],
            [
             0.5555555555555556,
             "#d8576b"
            ],
            [
             0.6666666666666666,
             "#ed7953"
            ],
            [
             0.7777777777777778,
             "#fb9f3a"
            ],
            [
             0.8888888888888888,
             "#fdca26"
            ],
            [
             1,
             "#f0f921"
            ]
           ],
           "sequentialminus": [
            [
             0,
             "#0d0887"
            ],
            [
             0.1111111111111111,
             "#46039f"
            ],
            [
             0.2222222222222222,
             "#7201a8"
            ],
            [
             0.3333333333333333,
             "#9c179e"
            ],
            [
             0.4444444444444444,
             "#bd3786"
            ],
            [
             0.5555555555555556,
             "#d8576b"
            ],
            [
             0.6666666666666666,
             "#ed7953"
            ],
            [
             0.7777777777777778,
             "#fb9f3a"
            ],
            [
             0.8888888888888888,
             "#fdca26"
            ],
            [
             1,
             "#f0f921"
            ]
           ]
          },
          "colorway": [
           "#636efa",
           "#EF553B",
           "#00cc96",
           "#ab63fa",
           "#FFA15A",
           "#19d3f3",
           "#FF6692",
           "#B6E880",
           "#FF97FF",
           "#FECB52"
          ],
          "font": {
           "color": "#2a3f5f"
          },
          "geo": {
           "bgcolor": "white",
           "lakecolor": "white",
           "landcolor": "#E5ECF6",
           "showlakes": true,
           "showland": true,
           "subunitcolor": "white"
          },
          "hoverlabel": {
           "align": "left"
          },
          "hovermode": "closest",
          "mapbox": {
           "style": "light"
          },
          "paper_bgcolor": "white",
          "plot_bgcolor": "#E5ECF6",
          "polar": {
           "angularaxis": {
            "gridcolor": "white",
            "linecolor": "white",
            "ticks": ""
           },
           "bgcolor": "#E5ECF6",
           "radialaxis": {
            "gridcolor": "white",
            "linecolor": "white",
            "ticks": ""
           }
          },
          "scene": {
           "xaxis": {
            "backgroundcolor": "#E5ECF6",
            "gridcolor": "white",
            "gridwidth": 2,
            "linecolor": "white",
            "showbackground": true,
            "ticks": "",
            "zerolinecolor": "white"
           },
           "yaxis": {
            "backgroundcolor": "#E5ECF6",
            "gridcolor": "white",
            "gridwidth": 2,
            "linecolor": "white",
            "showbackground": true,
            "ticks": "",
            "zerolinecolor": "white"
           },
           "zaxis": {
            "backgroundcolor": "#E5ECF6",
            "gridcolor": "white",
            "gridwidth": 2,
            "linecolor": "white",
            "showbackground": true,
            "ticks": "",
            "zerolinecolor": "white"
           }
          },
          "shapedefaults": {
           "line": {
            "color": "#2a3f5f"
           }
          },
          "ternary": {
           "aaxis": {
            "gridcolor": "white",
            "linecolor": "white",
            "ticks": ""
           },
           "baxis": {
            "gridcolor": "white",
            "linecolor": "white",
            "ticks": ""
           },
           "bgcolor": "#E5ECF6",
           "caxis": {
            "gridcolor": "white",
            "linecolor": "white",
            "ticks": ""
           }
          },
          "title": {
           "x": 0.05
          },
          "xaxis": {
           "automargin": true,
           "gridcolor": "white",
           "linecolor": "white",
           "ticks": "",
           "title": {
            "standoff": 15
           },
           "zerolinecolor": "white",
           "zerolinewidth": 2
          },
          "yaxis": {
           "automargin": true,
           "gridcolor": "white",
           "linecolor": "white",
           "ticks": "",
           "title": {
            "standoff": 15
           },
           "zerolinecolor": "white",
           "zerolinewidth": 2
          }
         }
        },
        "title": {
         "text": "Flight Paths Between Confirmed 2023 Formula 1 Circuits"
        }
       }
      },
      "text/html": [
       "<div>                            <div id=\"5d185276-7b2a-4ea0-a9fa-43e9be85d237\" class=\"plotly-graph-div\" style=\"height:525px; width:100%;\"></div>            <script type=\"text/javascript\">                require([\"plotly\"], function(Plotly) {                    window.PLOTLYENV=window.PLOTLYENV || {};                                    if (document.getElementById(\"5d185276-7b2a-4ea0-a9fa-43e9be85d237\")) {                    Plotly.newPlot(                        \"5d185276-7b2a-4ea0-a9fa-43e9be85d237\",                        [{\"lat\":[-37.8497,26.0325],\"line\":{\"color\":\"turquoise\",\"width\":1},\"lon\":[144.968,50.5106],\"mode\":\"lines\",\"opacity\":0.5,\"type\":\"scattergeo\"},{\"lat\":[-37.8497,41.57],\"line\":{\"color\":\"turquoise\",\"width\":1},\"lon\":[144.968,2.26111],\"mode\":\"lines\",\"opacity\":0.5,\"type\":\"scattergeo\"},{\"lat\":[-37.8497,45.5],\"line\":{\"color\":\"turquoise\",\"width\":1},\"lon\":[144.968,-73.5228],\"mode\":\"lines\",\"opacity\":0.5,\"type\":\"scattergeo\"},{\"lat\":[-37.8497,52.0786],\"line\":{\"color\":\"turquoise\",\"width\":1},\"lon\":[144.968,-1.01694],\"mode\":\"lines\",\"opacity\":0.5,\"type\":\"scattergeo\"},{\"lat\":[-37.8497,47.5789],\"line\":{\"color\":\"turquoise\",\"width\":1},\"lon\":[144.968,19.2486],\"mode\":\"lines\",\"opacity\":0.5,\"type\":\"scattergeo\"},{\"lat\":[-37.8497,45.6156],\"line\":{\"color\":\"turquoise\",\"width\":1},\"lon\":[144.968,9.28111],\"mode\":\"lines\",\"opacity\":0.5,\"type\":\"scattergeo\"},{\"lat\":[-37.8497,1.2914],\"line\":{\"color\":\"turquoise\",\"width\":1},\"lon\":[144.968,103.864],\"mode\":\"lines\",\"opacity\":0.5,\"type\":\"scattergeo\"},{\"lat\":[-37.8497,31.3389],\"line\":{\"color\":\"turquoise\",\"width\":1},\"lon\":[144.968,121.22],\"mode\":\"lines\",\"opacity\":0.5,\"type\":\"scattergeo\"},{\"lat\":[-37.8497,-23.7036],\"line\":{\"color\":\"turquoise\",\"width\":1},\"lon\":[144.968,-46.6997],\"mode\":\"lines\",\"opacity\":0.5,\"type\":\"scattergeo\"},{\"lat\":[-37.8497,44.3439],\"line\":{\"color\":\"turquoise\",\"width\":1},\"lon\":[144.968,11.7167],\"mode\":\"lines\",\"opacity\":0.5,\"type\":\"scattergeo\"},{\"lat\":[-37.8497,34.8431],\"line\":{\"color\":\"turquoise\",\"width\":1},\"lon\":[144.968,136.541],\"mode\":\"lines\",\"opacity\":0.5,\"type\":\"scattergeo\"},{\"lat\":[-37.8497,24.4672],\"line\":{\"color\":\"turquoise\",\"width\":1},\"lon\":[144.968,54.6031],\"mode\":\"lines\",\"opacity\":0.5,\"type\":\"scattergeo\"},{\"lat\":[-37.8497,52.3888],\"line\":{\"color\":\"turquoise\",\"width\":1},\"lon\":[144.968,4.54092],\"mode\":\"lines\",\"opacity\":0.5,\"type\":\"scattergeo\"},{\"lat\":[-37.8497,36.1162],\"line\":{\"color\":\"turquoise\",\"width\":1},\"lon\":[144.968,-115.174],\"mode\":\"lines\",\"opacity\":0.5,\"type\":\"scattergeo\"},{\"lat\":[-37.8497,40.3725],\"line\":{\"color\":\"turquoise\",\"width\":1},\"lon\":[144.968,49.8533],\"mode\":\"lines\",\"opacity\":0.5,\"type\":\"scattergeo\"},{\"lat\":[-37.8497,21.6319],\"line\":{\"color\":\"turquoise\",\"width\":1},\"lon\":[144.968,39.1044],\"mode\":\"lines\",\"opacity\":0.5,\"type\":\"scattergeo\"},{\"lat\":[-37.8497,25.49],\"line\":{\"color\":\"turquoise\",\"width\":1},\"lon\":[144.968,51.4542],\"mode\":\"lines\",\"opacity\":0.5,\"type\":\"scattergeo\"},{\"lat\":[-37.8497,25.9581],\"line\":{\"color\":\"turquoise\",\"width\":1},\"lon\":[144.968,-80.2389],\"mode\":\"lines\",\"opacity\":0.5,\"type\":\"scattergeo\"},{\"lat\":[26.0325,41.57],\"line\":{\"color\":\"turquoise\",\"width\":1},\"lon\":[50.5106,2.26111],\"mode\":\"lines\",\"opacity\":0.5,\"type\":\"scattergeo\"},{\"lat\":[26.0325,45.5],\"line\":{\"color\":\"turquoise\",\"width\":1},\"lon\":[50.5106,-73.5228],\"mode\":\"lines\",\"opacity\":0.5,\"type\":\"scattergeo\"},{\"lat\":[26.0325,52.0786],\"line\":{\"color\":\"turquoise\",\"width\":1},\"lon\":[50.5106,-1.01694],\"mode\":\"lines\",\"opacity\":0.5,\"type\":\"scattergeo\"},{\"lat\":[26.0325,47.5789],\"line\":{\"color\":\"turquoise\",\"width\":1},\"lon\":[50.5106,19.2486],\"mode\":\"lines\",\"opacity\":0.5,\"type\":\"scattergeo\"},{\"lat\":[26.0325,45.6156],\"line\":{\"color\":\"turquoise\",\"width\":1},\"lon\":[50.5106,9.28111],\"mode\":\"lines\",\"opacity\":0.5,\"type\":\"scattergeo\"},{\"lat\":[26.0325,1.2914],\"line\":{\"color\":\"turquoise\",\"width\":1},\"lon\":[50.5106,103.864],\"mode\":\"lines\",\"opacity\":0.5,\"type\":\"scattergeo\"},{\"lat\":[26.0325,31.3389],\"line\":{\"color\":\"turquoise\",\"width\":1},\"lon\":[50.5106,121.22],\"mode\":\"lines\",\"opacity\":0.5,\"type\":\"scattergeo\"},{\"lat\":[26.0325,-23.7036],\"line\":{\"color\":\"turquoise\",\"width\":1},\"lon\":[50.5106,-46.6997],\"mode\":\"lines\",\"opacity\":0.5,\"type\":\"scattergeo\"},{\"lat\":[26.0325,44.3439],\"line\":{\"color\":\"turquoise\",\"width\":1},\"lon\":[50.5106,11.7167],\"mode\":\"lines\",\"opacity\":0.5,\"type\":\"scattergeo\"},{\"lat\":[26.0325,34.8431],\"line\":{\"color\":\"turquoise\",\"width\":1},\"lon\":[50.5106,136.541],\"mode\":\"lines\",\"opacity\":0.5,\"type\":\"scattergeo\"},{\"lat\":[26.0325,24.4672],\"line\":{\"color\":\"turquoise\",\"width\":1},\"lon\":[50.5106,54.6031],\"mode\":\"lines\",\"opacity\":0.5,\"type\":\"scattergeo\"},{\"lat\":[26.0325,52.3888],\"line\":{\"color\":\"turquoise\",\"width\":1},\"lon\":[50.5106,4.54092],\"mode\":\"lines\",\"opacity\":0.5,\"type\":\"scattergeo\"},{\"lat\":[26.0325,36.1162],\"line\":{\"color\":\"turquoise\",\"width\":1},\"lon\":[50.5106,-115.174],\"mode\":\"lines\",\"opacity\":0.5,\"type\":\"scattergeo\"},{\"lat\":[26.0325,40.3725],\"line\":{\"color\":\"turquoise\",\"width\":1},\"lon\":[50.5106,49.8533],\"mode\":\"lines\",\"opacity\":0.5,\"type\":\"scattergeo\"},{\"lat\":[26.0325,21.6319],\"line\":{\"color\":\"turquoise\",\"width\":1},\"lon\":[50.5106,39.1044],\"mode\":\"lines\",\"opacity\":0.5,\"type\":\"scattergeo\"},{\"lat\":[26.0325,25.49],\"line\":{\"color\":\"turquoise\",\"width\":1},\"lon\":[50.5106,51.4542],\"mode\":\"lines\",\"opacity\":0.5,\"type\":\"scattergeo\"},{\"lat\":[26.0325,25.9581],\"line\":{\"color\":\"turquoise\",\"width\":1},\"lon\":[50.5106,-80.2389],\"mode\":\"lines\",\"opacity\":0.5,\"type\":\"scattergeo\"},{\"lat\":[41.57,45.5],\"line\":{\"color\":\"turquoise\",\"width\":1},\"lon\":[2.26111,-73.5228],\"mode\":\"lines\",\"opacity\":0.5,\"type\":\"scattergeo\"},{\"lat\":[41.57,52.0786],\"line\":{\"color\":\"turquoise\",\"width\":1},\"lon\":[2.26111,-1.01694],\"mode\":\"lines\",\"opacity\":0.5,\"type\":\"scattergeo\"},{\"lat\":[41.57,47.5789],\"line\":{\"color\":\"turquoise\",\"width\":1},\"lon\":[2.26111,19.2486],\"mode\":\"lines\",\"opacity\":0.5,\"type\":\"scattergeo\"},{\"lat\":[41.57,45.6156],\"line\":{\"color\":\"turquoise\",\"width\":1},\"lon\":[2.26111,9.28111],\"mode\":\"lines\",\"opacity\":0.5,\"type\":\"scattergeo\"},{\"lat\":[41.57,1.2914],\"line\":{\"color\":\"turquoise\",\"width\":1},\"lon\":[2.26111,103.864],\"mode\":\"lines\",\"opacity\":0.5,\"type\":\"scattergeo\"},{\"lat\":[41.57,31.3389],\"line\":{\"color\":\"turquoise\",\"width\":1},\"lon\":[2.26111,121.22],\"mode\":\"lines\",\"opacity\":0.5,\"type\":\"scattergeo\"},{\"lat\":[41.57,-23.7036],\"line\":{\"color\":\"turquoise\",\"width\":1},\"lon\":[2.26111,-46.6997],\"mode\":\"lines\",\"opacity\":0.5,\"type\":\"scattergeo\"},{\"lat\":[41.57,44.3439],\"line\":{\"color\":\"turquoise\",\"width\":1},\"lon\":[2.26111,11.7167],\"mode\":\"lines\",\"opacity\":0.5,\"type\":\"scattergeo\"},{\"lat\":[41.57,34.8431],\"line\":{\"color\":\"turquoise\",\"width\":1},\"lon\":[2.26111,136.541],\"mode\":\"lines\",\"opacity\":0.5,\"type\":\"scattergeo\"},{\"lat\":[41.57,24.4672],\"line\":{\"color\":\"turquoise\",\"width\":1},\"lon\":[2.26111,54.6031],\"mode\":\"lines\",\"opacity\":0.5,\"type\":\"scattergeo\"},{\"lat\":[41.57,52.3888],\"line\":{\"color\":\"turquoise\",\"width\":1},\"lon\":[2.26111,4.54092],\"mode\":\"lines\",\"opacity\":0.5,\"type\":\"scattergeo\"},{\"lat\":[41.57,36.1162],\"line\":{\"color\":\"turquoise\",\"width\":1},\"lon\":[2.26111,-115.174],\"mode\":\"lines\",\"opacity\":0.5,\"type\":\"scattergeo\"},{\"lat\":[41.57,40.3725],\"line\":{\"color\":\"turquoise\",\"width\":1},\"lon\":[2.26111,49.8533],\"mode\":\"lines\",\"opacity\":0.5,\"type\":\"scattergeo\"},{\"lat\":[41.57,21.6319],\"line\":{\"color\":\"turquoise\",\"width\":1},\"lon\":[2.26111,39.1044],\"mode\":\"lines\",\"opacity\":0.5,\"type\":\"scattergeo\"},{\"lat\":[41.57,25.49],\"line\":{\"color\":\"turquoise\",\"width\":1},\"lon\":[2.26111,51.4542],\"mode\":\"lines\",\"opacity\":0.5,\"type\":\"scattergeo\"},{\"lat\":[41.57,25.9581],\"line\":{\"color\":\"turquoise\",\"width\":1},\"lon\":[2.26111,-80.2389],\"mode\":\"lines\",\"opacity\":0.5,\"type\":\"scattergeo\"},{\"lat\":[45.5,52.0786],\"line\":{\"color\":\"turquoise\",\"width\":1},\"lon\":[-73.5228,-1.01694],\"mode\":\"lines\",\"opacity\":0.5,\"type\":\"scattergeo\"},{\"lat\":[45.5,47.5789],\"line\":{\"color\":\"turquoise\",\"width\":1},\"lon\":[-73.5228,19.2486],\"mode\":\"lines\",\"opacity\":0.5,\"type\":\"scattergeo\"},{\"lat\":[45.5,45.6156],\"line\":{\"color\":\"turquoise\",\"width\":1},\"lon\":[-73.5228,9.28111],\"mode\":\"lines\",\"opacity\":0.5,\"type\":\"scattergeo\"},{\"lat\":[45.5,1.2914],\"line\":{\"color\":\"turquoise\",\"width\":1},\"lon\":[-73.5228,103.864],\"mode\":\"lines\",\"opacity\":0.5,\"type\":\"scattergeo\"},{\"lat\":[45.5,31.3389],\"line\":{\"color\":\"turquoise\",\"width\":1},\"lon\":[-73.5228,121.22],\"mode\":\"lines\",\"opacity\":0.5,\"type\":\"scattergeo\"},{\"lat\":[45.5,-23.7036],\"line\":{\"color\":\"turquoise\",\"width\":1},\"lon\":[-73.5228,-46.6997],\"mode\":\"lines\",\"opacity\":0.5,\"type\":\"scattergeo\"},{\"lat\":[45.5,44.3439],\"line\":{\"color\":\"turquoise\",\"width\":1},\"lon\":[-73.5228,11.7167],\"mode\":\"lines\",\"opacity\":0.5,\"type\":\"scattergeo\"},{\"lat\":[45.5,34.8431],\"line\":{\"color\":\"turquoise\",\"width\":1},\"lon\":[-73.5228,136.541],\"mode\":\"lines\",\"opacity\":0.5,\"type\":\"scattergeo\"},{\"lat\":[45.5,24.4672],\"line\":{\"color\":\"turquoise\",\"width\":1},\"lon\":[-73.5228,54.6031],\"mode\":\"lines\",\"opacity\":0.5,\"type\":\"scattergeo\"},{\"lat\":[45.5,52.3888],\"line\":{\"color\":\"turquoise\",\"width\":1},\"lon\":[-73.5228,4.54092],\"mode\":\"lines\",\"opacity\":0.5,\"type\":\"scattergeo\"},{\"lat\":[45.5,36.1162],\"line\":{\"color\":\"turquoise\",\"width\":1},\"lon\":[-73.5228,-115.174],\"mode\":\"lines\",\"opacity\":0.5,\"type\":\"scattergeo\"},{\"lat\":[45.5,40.3725],\"line\":{\"color\":\"turquoise\",\"width\":1},\"lon\":[-73.5228,49.8533],\"mode\":\"lines\",\"opacity\":0.5,\"type\":\"scattergeo\"},{\"lat\":[45.5,21.6319],\"line\":{\"color\":\"turquoise\",\"width\":1},\"lon\":[-73.5228,39.1044],\"mode\":\"lines\",\"opacity\":0.5,\"type\":\"scattergeo\"},{\"lat\":[45.5,25.49],\"line\":{\"color\":\"turquoise\",\"width\":1},\"lon\":[-73.5228,51.4542],\"mode\":\"lines\",\"opacity\":0.5,\"type\":\"scattergeo\"},{\"lat\":[45.5,25.9581],\"line\":{\"color\":\"turquoise\",\"width\":1},\"lon\":[-73.5228,-80.2389],\"mode\":\"lines\",\"opacity\":0.5,\"type\":\"scattergeo\"},{\"lat\":[52.0786,47.5789],\"line\":{\"color\":\"turquoise\",\"width\":1},\"lon\":[-1.01694,19.2486],\"mode\":\"lines\",\"opacity\":0.5,\"type\":\"scattergeo\"},{\"lat\":[52.0786,45.6156],\"line\":{\"color\":\"turquoise\",\"width\":1},\"lon\":[-1.01694,9.28111],\"mode\":\"lines\",\"opacity\":0.5,\"type\":\"scattergeo\"},{\"lat\":[52.0786,1.2914],\"line\":{\"color\":\"turquoise\",\"width\":1},\"lon\":[-1.01694,103.864],\"mode\":\"lines\",\"opacity\":0.5,\"type\":\"scattergeo\"},{\"lat\":[52.0786,31.3389],\"line\":{\"color\":\"turquoise\",\"width\":1},\"lon\":[-1.01694,121.22],\"mode\":\"lines\",\"opacity\":0.5,\"type\":\"scattergeo\"},{\"lat\":[52.0786,-23.7036],\"line\":{\"color\":\"turquoise\",\"width\":1},\"lon\":[-1.01694,-46.6997],\"mode\":\"lines\",\"opacity\":0.5,\"type\":\"scattergeo\"},{\"lat\":[52.0786,44.3439],\"line\":{\"color\":\"turquoise\",\"width\":1},\"lon\":[-1.01694,11.7167],\"mode\":\"lines\",\"opacity\":0.5,\"type\":\"scattergeo\"},{\"lat\":[52.0786,34.8431],\"line\":{\"color\":\"turquoise\",\"width\":1},\"lon\":[-1.01694,136.541],\"mode\":\"lines\",\"opacity\":0.5,\"type\":\"scattergeo\"},{\"lat\":[52.0786,24.4672],\"line\":{\"color\":\"turquoise\",\"width\":1},\"lon\":[-1.01694,54.6031],\"mode\":\"lines\",\"opacity\":0.5,\"type\":\"scattergeo\"},{\"lat\":[52.0786,52.3888],\"line\":{\"color\":\"turquoise\",\"width\":1},\"lon\":[-1.01694,4.54092],\"mode\":\"lines\",\"opacity\":0.5,\"type\":\"scattergeo\"},{\"lat\":[52.0786,36.1162],\"line\":{\"color\":\"turquoise\",\"width\":1},\"lon\":[-1.01694,-115.174],\"mode\":\"lines\",\"opacity\":0.5,\"type\":\"scattergeo\"},{\"lat\":[52.0786,40.3725],\"line\":{\"color\":\"turquoise\",\"width\":1},\"lon\":[-1.01694,49.8533],\"mode\":\"lines\",\"opacity\":0.5,\"type\":\"scattergeo\"},{\"lat\":[52.0786,21.6319],\"line\":{\"color\":\"turquoise\",\"width\":1},\"lon\":[-1.01694,39.1044],\"mode\":\"lines\",\"opacity\":0.5,\"type\":\"scattergeo\"},{\"lat\":[52.0786,25.49],\"line\":{\"color\":\"turquoise\",\"width\":1},\"lon\":[-1.01694,51.4542],\"mode\":\"lines\",\"opacity\":0.5,\"type\":\"scattergeo\"},{\"lat\":[52.0786,25.9581],\"line\":{\"color\":\"turquoise\",\"width\":1},\"lon\":[-1.01694,-80.2389],\"mode\":\"lines\",\"opacity\":0.5,\"type\":\"scattergeo\"},{\"lat\":[47.5789,45.6156],\"line\":{\"color\":\"turquoise\",\"width\":1},\"lon\":[19.2486,9.28111],\"mode\":\"lines\",\"opacity\":0.5,\"type\":\"scattergeo\"},{\"lat\":[47.5789,1.2914],\"line\":{\"color\":\"turquoise\",\"width\":1},\"lon\":[19.2486,103.864],\"mode\":\"lines\",\"opacity\":0.5,\"type\":\"scattergeo\"},{\"lat\":[47.5789,31.3389],\"line\":{\"color\":\"turquoise\",\"width\":1},\"lon\":[19.2486,121.22],\"mode\":\"lines\",\"opacity\":0.5,\"type\":\"scattergeo\"},{\"lat\":[47.5789,-23.7036],\"line\":{\"color\":\"turquoise\",\"width\":1},\"lon\":[19.2486,-46.6997],\"mode\":\"lines\",\"opacity\":0.5,\"type\":\"scattergeo\"},{\"lat\":[47.5789,44.3439],\"line\":{\"color\":\"turquoise\",\"width\":1},\"lon\":[19.2486,11.7167],\"mode\":\"lines\",\"opacity\":0.5,\"type\":\"scattergeo\"},{\"lat\":[47.5789,34.8431],\"line\":{\"color\":\"turquoise\",\"width\":1},\"lon\":[19.2486,136.541],\"mode\":\"lines\",\"opacity\":0.5,\"type\":\"scattergeo\"},{\"lat\":[47.5789,24.4672],\"line\":{\"color\":\"turquoise\",\"width\":1},\"lon\":[19.2486,54.6031],\"mode\":\"lines\",\"opacity\":0.5,\"type\":\"scattergeo\"},{\"lat\":[47.5789,52.3888],\"line\":{\"color\":\"turquoise\",\"width\":1},\"lon\":[19.2486,4.54092],\"mode\":\"lines\",\"opacity\":0.5,\"type\":\"scattergeo\"},{\"lat\":[47.5789,36.1162],\"line\":{\"color\":\"turquoise\",\"width\":1},\"lon\":[19.2486,-115.174],\"mode\":\"lines\",\"opacity\":0.5,\"type\":\"scattergeo\"},{\"lat\":[47.5789,40.3725],\"line\":{\"color\":\"turquoise\",\"width\":1},\"lon\":[19.2486,49.8533],\"mode\":\"lines\",\"opacity\":0.5,\"type\":\"scattergeo\"},{\"lat\":[47.5789,21.6319],\"line\":{\"color\":\"turquoise\",\"width\":1},\"lon\":[19.2486,39.1044],\"mode\":\"lines\",\"opacity\":0.5,\"type\":\"scattergeo\"},{\"lat\":[47.5789,25.49],\"line\":{\"color\":\"turquoise\",\"width\":1},\"lon\":[19.2486,51.4542],\"mode\":\"lines\",\"opacity\":0.5,\"type\":\"scattergeo\"},{\"lat\":[47.5789,25.9581],\"line\":{\"color\":\"turquoise\",\"width\":1},\"lon\":[19.2486,-80.2389],\"mode\":\"lines\",\"opacity\":0.5,\"type\":\"scattergeo\"},{\"lat\":[45.6156,1.2914],\"line\":{\"color\":\"turquoise\",\"width\":1},\"lon\":[9.28111,103.864],\"mode\":\"lines\",\"opacity\":0.5,\"type\":\"scattergeo\"},{\"lat\":[45.6156,31.3389],\"line\":{\"color\":\"turquoise\",\"width\":1},\"lon\":[9.28111,121.22],\"mode\":\"lines\",\"opacity\":0.5,\"type\":\"scattergeo\"},{\"lat\":[45.6156,-23.7036],\"line\":{\"color\":\"turquoise\",\"width\":1},\"lon\":[9.28111,-46.6997],\"mode\":\"lines\",\"opacity\":0.5,\"type\":\"scattergeo\"},{\"lat\":[45.6156,44.3439],\"line\":{\"color\":\"turquoise\",\"width\":1},\"lon\":[9.28111,11.7167],\"mode\":\"lines\",\"opacity\":0.5,\"type\":\"scattergeo\"},{\"lat\":[45.6156,34.8431],\"line\":{\"color\":\"turquoise\",\"width\":1},\"lon\":[9.28111,136.541],\"mode\":\"lines\",\"opacity\":0.5,\"type\":\"scattergeo\"},{\"lat\":[45.6156,24.4672],\"line\":{\"color\":\"turquoise\",\"width\":1},\"lon\":[9.28111,54.6031],\"mode\":\"lines\",\"opacity\":0.5,\"type\":\"scattergeo\"},{\"lat\":[45.6156,52.3888],\"line\":{\"color\":\"turquoise\",\"width\":1},\"lon\":[9.28111,4.54092],\"mode\":\"lines\",\"opacity\":0.5,\"type\":\"scattergeo\"},{\"lat\":[45.6156,36.1162],\"line\":{\"color\":\"turquoise\",\"width\":1},\"lon\":[9.28111,-115.174],\"mode\":\"lines\",\"opacity\":0.5,\"type\":\"scattergeo\"},{\"lat\":[45.6156,40.3725],\"line\":{\"color\":\"turquoise\",\"width\":1},\"lon\":[9.28111,49.8533],\"mode\":\"lines\",\"opacity\":0.5,\"type\":\"scattergeo\"},{\"lat\":[45.6156,21.6319],\"line\":{\"color\":\"turquoise\",\"width\":1},\"lon\":[9.28111,39.1044],\"mode\":\"lines\",\"opacity\":0.5,\"type\":\"scattergeo\"},{\"lat\":[45.6156,25.49],\"line\":{\"color\":\"turquoise\",\"width\":1},\"lon\":[9.28111,51.4542],\"mode\":\"lines\",\"opacity\":0.5,\"type\":\"scattergeo\"},{\"lat\":[45.6156,25.9581],\"line\":{\"color\":\"turquoise\",\"width\":1},\"lon\":[9.28111,-80.2389],\"mode\":\"lines\",\"opacity\":0.5,\"type\":\"scattergeo\"},{\"lat\":[1.2914,31.3389],\"line\":{\"color\":\"turquoise\",\"width\":1},\"lon\":[103.864,121.22],\"mode\":\"lines\",\"opacity\":0.5,\"type\":\"scattergeo\"},{\"lat\":[1.2914,-23.7036],\"line\":{\"color\":\"turquoise\",\"width\":1},\"lon\":[103.864,-46.6997],\"mode\":\"lines\",\"opacity\":0.5,\"type\":\"scattergeo\"},{\"lat\":[1.2914,44.3439],\"line\":{\"color\":\"turquoise\",\"width\":1},\"lon\":[103.864,11.7167],\"mode\":\"lines\",\"opacity\":0.5,\"type\":\"scattergeo\"},{\"lat\":[1.2914,34.8431],\"line\":{\"color\":\"turquoise\",\"width\":1},\"lon\":[103.864,136.541],\"mode\":\"lines\",\"opacity\":0.5,\"type\":\"scattergeo\"},{\"lat\":[1.2914,24.4672],\"line\":{\"color\":\"turquoise\",\"width\":1},\"lon\":[103.864,54.6031],\"mode\":\"lines\",\"opacity\":0.5,\"type\":\"scattergeo\"},{\"lat\":[1.2914,52.3888],\"line\":{\"color\":\"turquoise\",\"width\":1},\"lon\":[103.864,4.54092],\"mode\":\"lines\",\"opacity\":0.5,\"type\":\"scattergeo\"},{\"lat\":[1.2914,36.1162],\"line\":{\"color\":\"turquoise\",\"width\":1},\"lon\":[103.864,-115.174],\"mode\":\"lines\",\"opacity\":0.5,\"type\":\"scattergeo\"},{\"lat\":[1.2914,40.3725],\"line\":{\"color\":\"turquoise\",\"width\":1},\"lon\":[103.864,49.8533],\"mode\":\"lines\",\"opacity\":0.5,\"type\":\"scattergeo\"},{\"lat\":[1.2914,21.6319],\"line\":{\"color\":\"turquoise\",\"width\":1},\"lon\":[103.864,39.1044],\"mode\":\"lines\",\"opacity\":0.5,\"type\":\"scattergeo\"},{\"lat\":[1.2914,25.49],\"line\":{\"color\":\"turquoise\",\"width\":1},\"lon\":[103.864,51.4542],\"mode\":\"lines\",\"opacity\":0.5,\"type\":\"scattergeo\"},{\"lat\":[1.2914,25.9581],\"line\":{\"color\":\"turquoise\",\"width\":1},\"lon\":[103.864,-80.2389],\"mode\":\"lines\",\"opacity\":0.5,\"type\":\"scattergeo\"},{\"lat\":[31.3389,-23.7036],\"line\":{\"color\":\"turquoise\",\"width\":1},\"lon\":[121.22,-46.6997],\"mode\":\"lines\",\"opacity\":0.5,\"type\":\"scattergeo\"},{\"lat\":[31.3389,44.3439],\"line\":{\"color\":\"turquoise\",\"width\":1},\"lon\":[121.22,11.7167],\"mode\":\"lines\",\"opacity\":0.5,\"type\":\"scattergeo\"},{\"lat\":[31.3389,34.8431],\"line\":{\"color\":\"turquoise\",\"width\":1},\"lon\":[121.22,136.541],\"mode\":\"lines\",\"opacity\":0.5,\"type\":\"scattergeo\"},{\"lat\":[31.3389,24.4672],\"line\":{\"color\":\"turquoise\",\"width\":1},\"lon\":[121.22,54.6031],\"mode\":\"lines\",\"opacity\":0.5,\"type\":\"scattergeo\"},{\"lat\":[31.3389,52.3888],\"line\":{\"color\":\"turquoise\",\"width\":1},\"lon\":[121.22,4.54092],\"mode\":\"lines\",\"opacity\":0.5,\"type\":\"scattergeo\"},{\"lat\":[31.3389,36.1162],\"line\":{\"color\":\"turquoise\",\"width\":1},\"lon\":[121.22,-115.174],\"mode\":\"lines\",\"opacity\":0.5,\"type\":\"scattergeo\"},{\"lat\":[31.3389,40.3725],\"line\":{\"color\":\"turquoise\",\"width\":1},\"lon\":[121.22,49.8533],\"mode\":\"lines\",\"opacity\":0.5,\"type\":\"scattergeo\"},{\"lat\":[31.3389,21.6319],\"line\":{\"color\":\"turquoise\",\"width\":1},\"lon\":[121.22,39.1044],\"mode\":\"lines\",\"opacity\":0.5,\"type\":\"scattergeo\"},{\"lat\":[31.3389,25.49],\"line\":{\"color\":\"turquoise\",\"width\":1},\"lon\":[121.22,51.4542],\"mode\":\"lines\",\"opacity\":0.5,\"type\":\"scattergeo\"},{\"lat\":[31.3389,25.9581],\"line\":{\"color\":\"turquoise\",\"width\":1},\"lon\":[121.22,-80.2389],\"mode\":\"lines\",\"opacity\":0.5,\"type\":\"scattergeo\"},{\"lat\":[-23.7036,44.3439],\"line\":{\"color\":\"turquoise\",\"width\":1},\"lon\":[-46.6997,11.7167],\"mode\":\"lines\",\"opacity\":0.5,\"type\":\"scattergeo\"},{\"lat\":[-23.7036,34.8431],\"line\":{\"color\":\"turquoise\",\"width\":1},\"lon\":[-46.6997,136.541],\"mode\":\"lines\",\"opacity\":0.5,\"type\":\"scattergeo\"},{\"lat\":[-23.7036,24.4672],\"line\":{\"color\":\"turquoise\",\"width\":1},\"lon\":[-46.6997,54.6031],\"mode\":\"lines\",\"opacity\":0.5,\"type\":\"scattergeo\"},{\"lat\":[-23.7036,52.3888],\"line\":{\"color\":\"turquoise\",\"width\":1},\"lon\":[-46.6997,4.54092],\"mode\":\"lines\",\"opacity\":0.5,\"type\":\"scattergeo\"},{\"lat\":[-23.7036,36.1162],\"line\":{\"color\":\"turquoise\",\"width\":1},\"lon\":[-46.6997,-115.174],\"mode\":\"lines\",\"opacity\":0.5,\"type\":\"scattergeo\"},{\"lat\":[-23.7036,40.3725],\"line\":{\"color\":\"turquoise\",\"width\":1},\"lon\":[-46.6997,49.8533],\"mode\":\"lines\",\"opacity\":0.5,\"type\":\"scattergeo\"},{\"lat\":[-23.7036,21.6319],\"line\":{\"color\":\"turquoise\",\"width\":1},\"lon\":[-46.6997,39.1044],\"mode\":\"lines\",\"opacity\":0.5,\"type\":\"scattergeo\"},{\"lat\":[-23.7036,25.49],\"line\":{\"color\":\"turquoise\",\"width\":1},\"lon\":[-46.6997,51.4542],\"mode\":\"lines\",\"opacity\":0.5,\"type\":\"scattergeo\"},{\"lat\":[-23.7036,25.9581],\"line\":{\"color\":\"turquoise\",\"width\":1},\"lon\":[-46.6997,-80.2389],\"mode\":\"lines\",\"opacity\":0.5,\"type\":\"scattergeo\"},{\"lat\":[44.3439,34.8431],\"line\":{\"color\":\"turquoise\",\"width\":1},\"lon\":[11.7167,136.541],\"mode\":\"lines\",\"opacity\":0.5,\"type\":\"scattergeo\"},{\"lat\":[44.3439,24.4672],\"line\":{\"color\":\"turquoise\",\"width\":1},\"lon\":[11.7167,54.6031],\"mode\":\"lines\",\"opacity\":0.5,\"type\":\"scattergeo\"},{\"lat\":[44.3439,52.3888],\"line\":{\"color\":\"turquoise\",\"width\":1},\"lon\":[11.7167,4.54092],\"mode\":\"lines\",\"opacity\":0.5,\"type\":\"scattergeo\"},{\"lat\":[44.3439,36.1162],\"line\":{\"color\":\"turquoise\",\"width\":1},\"lon\":[11.7167,-115.174],\"mode\":\"lines\",\"opacity\":0.5,\"type\":\"scattergeo\"},{\"lat\":[44.3439,40.3725],\"line\":{\"color\":\"turquoise\",\"width\":1},\"lon\":[11.7167,49.8533],\"mode\":\"lines\",\"opacity\":0.5,\"type\":\"scattergeo\"},{\"lat\":[44.3439,21.6319],\"line\":{\"color\":\"turquoise\",\"width\":1},\"lon\":[11.7167,39.1044],\"mode\":\"lines\",\"opacity\":0.5,\"type\":\"scattergeo\"},{\"lat\":[44.3439,25.49],\"line\":{\"color\":\"turquoise\",\"width\":1},\"lon\":[11.7167,51.4542],\"mode\":\"lines\",\"opacity\":0.5,\"type\":\"scattergeo\"},{\"lat\":[44.3439,25.9581],\"line\":{\"color\":\"turquoise\",\"width\":1},\"lon\":[11.7167,-80.2389],\"mode\":\"lines\",\"opacity\":0.5,\"type\":\"scattergeo\"},{\"lat\":[34.8431,24.4672],\"line\":{\"color\":\"turquoise\",\"width\":1},\"lon\":[136.541,54.6031],\"mode\":\"lines\",\"opacity\":0.5,\"type\":\"scattergeo\"},{\"lat\":[34.8431,52.3888],\"line\":{\"color\":\"turquoise\",\"width\":1},\"lon\":[136.541,4.54092],\"mode\":\"lines\",\"opacity\":0.5,\"type\":\"scattergeo\"},{\"lat\":[34.8431,36.1162],\"line\":{\"color\":\"turquoise\",\"width\":1},\"lon\":[136.541,-115.174],\"mode\":\"lines\",\"opacity\":0.5,\"type\":\"scattergeo\"},{\"lat\":[34.8431,40.3725],\"line\":{\"color\":\"turquoise\",\"width\":1},\"lon\":[136.541,49.8533],\"mode\":\"lines\",\"opacity\":0.5,\"type\":\"scattergeo\"},{\"lat\":[34.8431,21.6319],\"line\":{\"color\":\"turquoise\",\"width\":1},\"lon\":[136.541,39.1044],\"mode\":\"lines\",\"opacity\":0.5,\"type\":\"scattergeo\"},{\"lat\":[34.8431,25.49],\"line\":{\"color\":\"turquoise\",\"width\":1},\"lon\":[136.541,51.4542],\"mode\":\"lines\",\"opacity\":0.5,\"type\":\"scattergeo\"},{\"lat\":[34.8431,25.9581],\"line\":{\"color\":\"turquoise\",\"width\":1},\"lon\":[136.541,-80.2389],\"mode\":\"lines\",\"opacity\":0.5,\"type\":\"scattergeo\"},{\"lat\":[24.4672,52.3888],\"line\":{\"color\":\"turquoise\",\"width\":1},\"lon\":[54.6031,4.54092],\"mode\":\"lines\",\"opacity\":0.5,\"type\":\"scattergeo\"},{\"lat\":[24.4672,36.1162],\"line\":{\"color\":\"turquoise\",\"width\":1},\"lon\":[54.6031,-115.174],\"mode\":\"lines\",\"opacity\":0.5,\"type\":\"scattergeo\"},{\"lat\":[24.4672,40.3725],\"line\":{\"color\":\"turquoise\",\"width\":1},\"lon\":[54.6031,49.8533],\"mode\":\"lines\",\"opacity\":0.5,\"type\":\"scattergeo\"},{\"lat\":[24.4672,21.6319],\"line\":{\"color\":\"turquoise\",\"width\":1},\"lon\":[54.6031,39.1044],\"mode\":\"lines\",\"opacity\":0.5,\"type\":\"scattergeo\"},{\"lat\":[24.4672,25.49],\"line\":{\"color\":\"turquoise\",\"width\":1},\"lon\":[54.6031,51.4542],\"mode\":\"lines\",\"opacity\":0.5,\"type\":\"scattergeo\"},{\"lat\":[24.4672,25.9581],\"line\":{\"color\":\"turquoise\",\"width\":1},\"lon\":[54.6031,-80.2389],\"mode\":\"lines\",\"opacity\":0.5,\"type\":\"scattergeo\"},{\"lat\":[52.3888,36.1162],\"line\":{\"color\":\"turquoise\",\"width\":1},\"lon\":[4.54092,-115.174],\"mode\":\"lines\",\"opacity\":0.5,\"type\":\"scattergeo\"},{\"lat\":[52.3888,40.3725],\"line\":{\"color\":\"turquoise\",\"width\":1},\"lon\":[4.54092,49.8533],\"mode\":\"lines\",\"opacity\":0.5,\"type\":\"scattergeo\"},{\"lat\":[52.3888,21.6319],\"line\":{\"color\":\"turquoise\",\"width\":1},\"lon\":[4.54092,39.1044],\"mode\":\"lines\",\"opacity\":0.5,\"type\":\"scattergeo\"},{\"lat\":[52.3888,25.49],\"line\":{\"color\":\"turquoise\",\"width\":1},\"lon\":[4.54092,51.4542],\"mode\":\"lines\",\"opacity\":0.5,\"type\":\"scattergeo\"},{\"lat\":[52.3888,25.9581],\"line\":{\"color\":\"turquoise\",\"width\":1},\"lon\":[4.54092,-80.2389],\"mode\":\"lines\",\"opacity\":0.5,\"type\":\"scattergeo\"},{\"lat\":[36.1162,40.3725],\"line\":{\"color\":\"turquoise\",\"width\":1},\"lon\":[-115.174,49.8533],\"mode\":\"lines\",\"opacity\":0.5,\"type\":\"scattergeo\"},{\"lat\":[36.1162,21.6319],\"line\":{\"color\":\"turquoise\",\"width\":1},\"lon\":[-115.174,39.1044],\"mode\":\"lines\",\"opacity\":0.5,\"type\":\"scattergeo\"},{\"lat\":[36.1162,25.49],\"line\":{\"color\":\"turquoise\",\"width\":1},\"lon\":[-115.174,51.4542],\"mode\":\"lines\",\"opacity\":0.5,\"type\":\"scattergeo\"},{\"lat\":[36.1162,25.9581],\"line\":{\"color\":\"turquoise\",\"width\":1},\"lon\":[-115.174,-80.2389],\"mode\":\"lines\",\"opacity\":0.5,\"type\":\"scattergeo\"},{\"lat\":[40.3725,21.6319],\"line\":{\"color\":\"turquoise\",\"width\":1},\"lon\":[49.8533,39.1044],\"mode\":\"lines\",\"opacity\":0.5,\"type\":\"scattergeo\"},{\"lat\":[40.3725,25.49],\"line\":{\"color\":\"turquoise\",\"width\":1},\"lon\":[49.8533,51.4542],\"mode\":\"lines\",\"opacity\":0.5,\"type\":\"scattergeo\"},{\"lat\":[40.3725,25.9581],\"line\":{\"color\":\"turquoise\",\"width\":1},\"lon\":[49.8533,-80.2389],\"mode\":\"lines\",\"opacity\":0.5,\"type\":\"scattergeo\"},{\"lat\":[21.6319,25.49],\"line\":{\"color\":\"turquoise\",\"width\":1},\"lon\":[39.1044,51.4542],\"mode\":\"lines\",\"opacity\":0.5,\"type\":\"scattergeo\"},{\"lat\":[21.6319,25.9581],\"line\":{\"color\":\"turquoise\",\"width\":1},\"lon\":[39.1044,-80.2389],\"mode\":\"lines\",\"opacity\":0.5,\"type\":\"scattergeo\"},{\"lat\":[25.49,25.9581],\"line\":{\"color\":\"turquoise\",\"width\":1},\"lon\":[51.4542,-80.2389],\"mode\":\"lines\",\"opacity\":0.5,\"type\":\"scattergeo\"},{\"hoverinfo\":\"text\",\"lat\":[-37.8497,26.0325,41.57,45.5,52.0786,47.5789,45.6156,1.2914,31.3389,-23.7036,44.3439,34.8431,24.4672,52.3888,36.1162,40.3725,21.6319,25.49,25.9581],\"lon\":[144.968,50.5106,2.26111,-73.5228,-1.01694,19.2486,9.28111,103.864,121.22,-46.6997,11.7167,136.541,54.6031,4.54092,-115.174,49.8533,39.1044,51.4542,-80.2389],\"marker\":{\"color\":\"crimson\",\"line\":{\"color\":\"rgba(68, 68, 68, 0)\",\"width\":3},\"size\":7},\"mode\":\"markers\",\"text\":[\"Albert Park Grand Prix Circuit\",\"Bahrain International Circuit\",\"Circuit de Barcelona-Catalunya\",\"Circuit Gilles Villeneuve\",\"Silverstone Circuit\",\"Hungaroring\",\"Autodromo Nazionale di Monza\",\"Marina Bay Street Circuit\",\"Shanghai International Circuit\",\"Aut\\u00f3dromo Jos\\u00e9 Carlos Pace\",\"Autodromo Enzo e Dino Ferrari\",\"Suzuka Circuit\",\"Yas Marina Circuit\",\"Circuit Park Zandvoort\",\"Las Vegas Street Circuit\",\"Baku City Circuit\",\"Jeddah Corniche Circuit\",\"Losail International Circuit\",\"Miami International Autodrome\"],\"type\":\"scattergeo\"},{\"lat\":[25.9581,45.5],\"line\":{\"color\":\"red\",\"width\":1},\"lon\":[-80.2389,-73.5228],\"mode\":\"lines\",\"opacity\":1,\"type\":\"scattergeo\"},{\"lat\":[45.5,45.6156],\"line\":{\"color\":\"red\",\"width\":1},\"lon\":[-73.5228,9.28111],\"mode\":\"lines\",\"opacity\":1,\"type\":\"scattergeo\"},{\"lat\":[45.6156,34.8431],\"line\":{\"color\":\"red\",\"width\":1},\"lon\":[9.28111,136.541],\"mode\":\"lines\",\"opacity\":1,\"type\":\"scattergeo\"},{\"lat\":[34.8431,-37.8497],\"line\":{\"color\":\"red\",\"width\":1},\"lon\":[136.541,144.968],\"mode\":\"lines\",\"opacity\":1,\"type\":\"scattergeo\"},{\"lat\":[-37.8497,1.2914],\"line\":{\"color\":\"red\",\"width\":1},\"lon\":[144.968,103.864],\"mode\":\"lines\",\"opacity\":1,\"type\":\"scattergeo\"},{\"lat\":[1.2914,25.49],\"line\":{\"color\":\"red\",\"width\":1},\"lon\":[103.864,51.4542],\"mode\":\"lines\",\"opacity\":1,\"type\":\"scattergeo\"},{\"lat\":[25.49,-23.7036],\"line\":{\"color\":\"red\",\"width\":1},\"lon\":[51.4542,-46.6997],\"mode\":\"lines\",\"opacity\":1,\"type\":\"scattergeo\"},{\"lat\":[-23.7036,41.57],\"line\":{\"color\":\"red\",\"width\":1},\"lon\":[-46.6997,2.26111],\"mode\":\"lines\",\"opacity\":1,\"type\":\"scattergeo\"},{\"lat\":[41.57,47.5789],\"line\":{\"color\":\"red\",\"width\":1},\"lon\":[2.26111,19.2486],\"mode\":\"lines\",\"opacity\":1,\"type\":\"scattergeo\"},{\"lat\":[47.5789,52.0786],\"line\":{\"color\":\"red\",\"width\":1},\"lon\":[19.2486,-1.01694],\"mode\":\"lines\",\"opacity\":1,\"type\":\"scattergeo\"},{\"lat\":[52.0786,24.4672],\"line\":{\"color\":\"red\",\"width\":1},\"lon\":[-1.01694,54.6031],\"mode\":\"lines\",\"opacity\":1,\"type\":\"scattergeo\"},{\"lat\":[24.4672,26.0325],\"line\":{\"color\":\"red\",\"width\":1},\"lon\":[54.6031,50.5106],\"mode\":\"lines\",\"opacity\":1,\"type\":\"scattergeo\"},{\"lat\":[26.0325,40.3725],\"line\":{\"color\":\"red\",\"width\":1},\"lon\":[50.5106,49.8533],\"mode\":\"lines\",\"opacity\":1,\"type\":\"scattergeo\"},{\"lat\":[40.3725,31.3389],\"line\":{\"color\":\"red\",\"width\":1},\"lon\":[49.8533,121.22],\"mode\":\"lines\",\"opacity\":1,\"type\":\"scattergeo\"},{\"lat\":[31.3389,21.6319],\"line\":{\"color\":\"red\",\"width\":1},\"lon\":[121.22,39.1044],\"mode\":\"lines\",\"opacity\":1,\"type\":\"scattergeo\"},{\"lat\":[21.6319,44.3439],\"line\":{\"color\":\"red\",\"width\":1},\"lon\":[39.1044,11.7167],\"mode\":\"lines\",\"opacity\":1,\"type\":\"scattergeo\"},{\"lat\":[44.3439,52.3888],\"line\":{\"color\":\"red\",\"width\":1},\"lon\":[11.7167,4.54092],\"mode\":\"lines\",\"opacity\":1,\"type\":\"scattergeo\"},{\"lat\":[52.3888,36.1162],\"line\":{\"color\":\"red\",\"width\":1},\"lon\":[4.54092,-115.174],\"mode\":\"lines\",\"opacity\":1,\"type\":\"scattergeo\"},{\"hoverinfo\":\"text\",\"lat\":[-37.8497,26.0325,41.57,45.5,52.0786,47.5789,45.6156,1.2914,31.3389,-23.7036,44.3439,34.8431,24.4672,52.3888,36.1162,40.3725,21.6319,25.49,25.9581],\"lon\":[144.968,50.5106,2.26111,-73.5228,-1.01694,19.2486,9.28111,103.864,121.22,-46.6997,11.7167,136.541,54.6031,4.54092,-115.174,49.8533,39.1044,51.4542,-80.2389],\"marker\":{\"color\":\"crimson\",\"line\":{\"color\":\"rgba(68, 68, 68, 0)\",\"width\":3},\"size\":7},\"mode\":\"markers\",\"text\":[\"Albert Park Grand Prix Circuit\",\"Bahrain International Circuit\",\"Circuit de Barcelona-Catalunya\",\"Circuit Gilles Villeneuve\",\"Silverstone Circuit\",\"Hungaroring\",\"Autodromo Nazionale di Monza\",\"Marina Bay Street Circuit\",\"Shanghai International Circuit\",\"Aut\\u00f3dromo Jos\\u00e9 Carlos Pace\",\"Autodromo Enzo e Dino Ferrari\",\"Suzuka Circuit\",\"Yas Marina Circuit\",\"Circuit Park Zandvoort\",\"Las Vegas Street Circuit\",\"Baku City Circuit\",\"Jeddah Corniche Circuit\",\"Losail International Circuit\",\"Miami International Autodrome\"],\"type\":\"scattergeo\"}],                        {\"template\":{\"data\":{\"histogram2dcontour\":[{\"type\":\"histogram2dcontour\",\"colorbar\":{\"outlinewidth\":0,\"ticks\":\"\"},\"colorscale\":[[0.0,\"#0d0887\"],[0.1111111111111111,\"#46039f\"],[0.2222222222222222,\"#7201a8\"],[0.3333333333333333,\"#9c179e\"],[0.4444444444444444,\"#bd3786\"],[0.5555555555555556,\"#d8576b\"],[0.6666666666666666,\"#ed7953\"],[0.7777777777777778,\"#fb9f3a\"],[0.8888888888888888,\"#fdca26\"],[1.0,\"#f0f921\"]]}],\"choropleth\":[{\"type\":\"choropleth\",\"colorbar\":{\"outlinewidth\":0,\"ticks\":\"\"}}],\"histogram2d\":[{\"type\":\"histogram2d\",\"colorbar\":{\"outlinewidth\":0,\"ticks\":\"\"},\"colorscale\":[[0.0,\"#0d0887\"],[0.1111111111111111,\"#46039f\"],[0.2222222222222222,\"#7201a8\"],[0.3333333333333333,\"#9c179e\"],[0.4444444444444444,\"#bd3786\"],[0.5555555555555556,\"#d8576b\"],[0.6666666666666666,\"#ed7953\"],[0.7777777777777778,\"#fb9f3a\"],[0.8888888888888888,\"#fdca26\"],[1.0,\"#f0f921\"]]}],\"heatmap\":[{\"type\":\"heatmap\",\"colorbar\":{\"outlinewidth\":0,\"ticks\":\"\"},\"colorscale\":[[0.0,\"#0d0887\"],[0.1111111111111111,\"#46039f\"],[0.2222222222222222,\"#7201a8\"],[0.3333333333333333,\"#9c179e\"],[0.4444444444444444,\"#bd3786\"],[0.5555555555555556,\"#d8576b\"],[0.6666666666666666,\"#ed7953\"],[0.7777777777777778,\"#fb9f3a\"],[0.8888888888888888,\"#fdca26\"],[1.0,\"#f0f921\"]]}],\"heatmapgl\":[{\"type\":\"heatmapgl\",\"colorbar\":{\"outlinewidth\":0,\"ticks\":\"\"},\"colorscale\":[[0.0,\"#0d0887\"],[0.1111111111111111,\"#46039f\"],[0.2222222222222222,\"#7201a8\"],[0.3333333333333333,\"#9c179e\"],[0.4444444444444444,\"#bd3786\"],[0.5555555555555556,\"#d8576b\"],[0.6666666666666666,\"#ed7953\"],[0.7777777777777778,\"#fb9f3a\"],[0.8888888888888888,\"#fdca26\"],[1.0,\"#f0f921\"]]}],\"contourcarpet\":[{\"type\":\"contourcarpet\",\"colorbar\":{\"outlinewidth\":0,\"ticks\":\"\"}}],\"contour\":[{\"type\":\"contour\",\"colorbar\":{\"outlinewidth\":0,\"ticks\":\"\"},\"colorscale\":[[0.0,\"#0d0887\"],[0.1111111111111111,\"#46039f\"],[0.2222222222222222,\"#7201a8\"],[0.3333333333333333,\"#9c179e\"],[0.4444444444444444,\"#bd3786\"],[0.5555555555555556,\"#d8576b\"],[0.6666666666666666,\"#ed7953\"],[0.7777777777777778,\"#fb9f3a\"],[0.8888888888888888,\"#fdca26\"],[1.0,\"#f0f921\"]]}],\"surface\":[{\"type\":\"surface\",\"colorbar\":{\"outlinewidth\":0,\"ticks\":\"\"},\"colorscale\":[[0.0,\"#0d0887\"],[0.1111111111111111,\"#46039f\"],[0.2222222222222222,\"#7201a8\"],[0.3333333333333333,\"#9c179e\"],[0.4444444444444444,\"#bd3786\"],[0.5555555555555556,\"#d8576b\"],[0.6666666666666666,\"#ed7953\"],[0.7777777777777778,\"#fb9f3a\"],[0.8888888888888888,\"#fdca26\"],[1.0,\"#f0f921\"]]}],\"mesh3d\":[{\"type\":\"mesh3d\",\"colorbar\":{\"outlinewidth\":0,\"ticks\":\"\"}}],\"scatter\":[{\"fillpattern\":{\"fillmode\":\"overlay\",\"size\":10,\"solidity\":0.2},\"type\":\"scatter\"}],\"parcoords\":[{\"type\":\"parcoords\",\"line\":{\"colorbar\":{\"outlinewidth\":0,\"ticks\":\"\"}}}],\"scatterpolargl\":[{\"type\":\"scatterpolargl\",\"marker\":{\"colorbar\":{\"outlinewidth\":0,\"ticks\":\"\"}}}],\"bar\":[{\"error_x\":{\"color\":\"#2a3f5f\"},\"error_y\":{\"color\":\"#2a3f5f\"},\"marker\":{\"line\":{\"color\":\"#E5ECF6\",\"width\":0.5},\"pattern\":{\"fillmode\":\"overlay\",\"size\":10,\"solidity\":0.2}},\"type\":\"bar\"}],\"scattergeo\":[{\"type\":\"scattergeo\",\"marker\":{\"colorbar\":{\"outlinewidth\":0,\"ticks\":\"\"}}}],\"scatterpolar\":[{\"type\":\"scatterpolar\",\"marker\":{\"colorbar\":{\"outlinewidth\":0,\"ticks\":\"\"}}}],\"histogram\":[{\"marker\":{\"pattern\":{\"fillmode\":\"overlay\",\"size\":10,\"solidity\":0.2}},\"type\":\"histogram\"}],\"scattergl\":[{\"type\":\"scattergl\",\"marker\":{\"colorbar\":{\"outlinewidth\":0,\"ticks\":\"\"}}}],\"scatter3d\":[{\"type\":\"scatter3d\",\"line\":{\"colorbar\":{\"outlinewidth\":0,\"ticks\":\"\"}},\"marker\":{\"colorbar\":{\"outlinewidth\":0,\"ticks\":\"\"}}}],\"scattermapbox\":[{\"type\":\"scattermapbox\",\"marker\":{\"colorbar\":{\"outlinewidth\":0,\"ticks\":\"\"}}}],\"scatterternary\":[{\"type\":\"scatterternary\",\"marker\":{\"colorbar\":{\"outlinewidth\":0,\"ticks\":\"\"}}}],\"scattercarpet\":[{\"type\":\"scattercarpet\",\"marker\":{\"colorbar\":{\"outlinewidth\":0,\"ticks\":\"\"}}}],\"carpet\":[{\"aaxis\":{\"endlinecolor\":\"#2a3f5f\",\"gridcolor\":\"white\",\"linecolor\":\"white\",\"minorgridcolor\":\"white\",\"startlinecolor\":\"#2a3f5f\"},\"baxis\":{\"endlinecolor\":\"#2a3f5f\",\"gridcolor\":\"white\",\"linecolor\":\"white\",\"minorgridcolor\":\"white\",\"startlinecolor\":\"#2a3f5f\"},\"type\":\"carpet\"}],\"table\":[{\"cells\":{\"fill\":{\"color\":\"#EBF0F8\"},\"line\":{\"color\":\"white\"}},\"header\":{\"fill\":{\"color\":\"#C8D4E3\"},\"line\":{\"color\":\"white\"}},\"type\":\"table\"}],\"barpolar\":[{\"marker\":{\"line\":{\"color\":\"#E5ECF6\",\"width\":0.5},\"pattern\":{\"fillmode\":\"overlay\",\"size\":10,\"solidity\":0.2}},\"type\":\"barpolar\"}],\"pie\":[{\"automargin\":true,\"type\":\"pie\"}]},\"layout\":{\"autotypenumbers\":\"strict\",\"colorway\":[\"#636efa\",\"#EF553B\",\"#00cc96\",\"#ab63fa\",\"#FFA15A\",\"#19d3f3\",\"#FF6692\",\"#B6E880\",\"#FF97FF\",\"#FECB52\"],\"font\":{\"color\":\"#2a3f5f\"},\"hovermode\":\"closest\",\"hoverlabel\":{\"align\":\"left\"},\"paper_bgcolor\":\"white\",\"plot_bgcolor\":\"#E5ECF6\",\"polar\":{\"bgcolor\":\"#E5ECF6\",\"angularaxis\":{\"gridcolor\":\"white\",\"linecolor\":\"white\",\"ticks\":\"\"},\"radialaxis\":{\"gridcolor\":\"white\",\"linecolor\":\"white\",\"ticks\":\"\"}},\"ternary\":{\"bgcolor\":\"#E5ECF6\",\"aaxis\":{\"gridcolor\":\"white\",\"linecolor\":\"white\",\"ticks\":\"\"},\"baxis\":{\"gridcolor\":\"white\",\"linecolor\":\"white\",\"ticks\":\"\"},\"caxis\":{\"gridcolor\":\"white\",\"linecolor\":\"white\",\"ticks\":\"\"}},\"coloraxis\":{\"colorbar\":{\"outlinewidth\":0,\"ticks\":\"\"}},\"colorscale\":{\"sequential\":[[0.0,\"#0d0887\"],[0.1111111111111111,\"#46039f\"],[0.2222222222222222,\"#7201a8\"],[0.3333333333333333,\"#9c179e\"],[0.4444444444444444,\"#bd3786\"],[0.5555555555555556,\"#d8576b\"],[0.6666666666666666,\"#ed7953\"],[0.7777777777777778,\"#fb9f3a\"],[0.8888888888888888,\"#fdca26\"],[1.0,\"#f0f921\"]],\"sequentialminus\":[[0.0,\"#0d0887\"],[0.1111111111111111,\"#46039f\"],[0.2222222222222222,\"#7201a8\"],[0.3333333333333333,\"#9c179e\"],[0.4444444444444444,\"#bd3786\"],[0.5555555555555556,\"#d8576b\"],[0.6666666666666666,\"#ed7953\"],[0.7777777777777778,\"#fb9f3a\"],[0.8888888888888888,\"#fdca26\"],[1.0,\"#f0f921\"]],\"diverging\":[[0,\"#8e0152\"],[0.1,\"#c51b7d\"],[0.2,\"#de77ae\"],[0.3,\"#f1b6da\"],[0.4,\"#fde0ef\"],[0.5,\"#f7f7f7\"],[0.6,\"#e6f5d0\"],[0.7,\"#b8e186\"],[0.8,\"#7fbc41\"],[0.9,\"#4d9221\"],[1,\"#276419\"]]},\"xaxis\":{\"gridcolor\":\"white\",\"linecolor\":\"white\",\"ticks\":\"\",\"title\":{\"standoff\":15},\"zerolinecolor\":\"white\",\"automargin\":true,\"zerolinewidth\":2},\"yaxis\":{\"gridcolor\":\"white\",\"linecolor\":\"white\",\"ticks\":\"\",\"title\":{\"standoff\":15},\"zerolinecolor\":\"white\",\"automargin\":true,\"zerolinewidth\":2},\"scene\":{\"xaxis\":{\"backgroundcolor\":\"#E5ECF6\",\"gridcolor\":\"white\",\"linecolor\":\"white\",\"showbackground\":true,\"ticks\":\"\",\"zerolinecolor\":\"white\",\"gridwidth\":2},\"yaxis\":{\"backgroundcolor\":\"#E5ECF6\",\"gridcolor\":\"white\",\"linecolor\":\"white\",\"showbackground\":true,\"ticks\":\"\",\"zerolinecolor\":\"white\",\"gridwidth\":2},\"zaxis\":{\"backgroundcolor\":\"#E5ECF6\",\"gridcolor\":\"white\",\"linecolor\":\"white\",\"showbackground\":true,\"ticks\":\"\",\"zerolinecolor\":\"white\",\"gridwidth\":2}},\"shapedefaults\":{\"line\":{\"color\":\"#2a3f5f\"}},\"annotationdefaults\":{\"arrowcolor\":\"#2a3f5f\",\"arrowhead\":0,\"arrowwidth\":1},\"geo\":{\"bgcolor\":\"white\",\"landcolor\":\"#E5ECF6\",\"subunitcolor\":\"white\",\"showland\":true,\"showlakes\":true,\"lakecolor\":\"white\"},\"title\":{\"x\":0.05},\"mapbox\":{\"style\":\"light\"}}},\"title\":{\"text\":\"Flight Paths Between Confirmed 2023 Formula 1 Circuits\"},\"geo\":{\"projection\":{\"type\":\"natural earth\"},\"scope\":\"world\",\"showland\":true,\"showcountries\":true,\"countrycolor\":\"white\"},\"showlegend\":false},                        {\"responsive\": true}                    ).then(function(){\n",
       "                            \n",
       "var gd = document.getElementById('5d185276-7b2a-4ea0-a9fa-43e9be85d237');\n",
       "var x = new MutationObserver(function (mutations, observer) {{\n",
       "        var display = window.getComputedStyle(gd).display;\n",
       "        if (!display || display === 'none') {{\n",
       "            console.log([gd, 'removed!']);\n",
       "            Plotly.purge(gd);\n",
       "            observer.disconnect();\n",
       "        }}\n",
       "}});\n",
       "\n",
       "// Listen for the removal of the full notebook cells\n",
       "var notebookContainer = gd.closest('#notebook-container');\n",
       "if (notebookContainer) {{\n",
       "    x.observe(notebookContainer, {childList: true});\n",
       "}}\n",
       "\n",
       "// Listen for the clearing of the current output cell\n",
       "var outputEl = gd.closest('.output');\n",
       "if (outputEl) {{\n",
       "    x.observe(outputEl, {childList: true});\n",
       "}}\n",
       "\n",
       "                        })                };                });            </script>        </div>"
      ]
     },
     "metadata": {},
     "output_type": "display_data"
    }
   ],
   "source": [
    "for i in range((len(best_state)-1)):\n",
    "    circuit_id_1 = int(best_state[i]),\n",
    "    circuit_id_2 = int(best_state[i+1]),\n",
    "    fig.add_trace(\n",
    "        go.Scattergeo(\n",
    "            # for each combination, find longitude and latitude coordinates\n",
    "            lon = [float(circuits_2023[(circuits_2023['circuitId']==circuit_id_1)==True]['lng']), float(circuits_2023[(circuits_2023['circuitId']==circuit_id_2)==True]['lng'])],\n",
    "            lat = [float(circuits_2023[(circuits_2023['circuitId']==circuit_id_1)==True]['lat']), float(circuits_2023[(circuits_2023['circuitId']==circuit_id_2)==True]['lat'])],\n",
    "            mode = 'lines',\n",
    "            line = dict(width = 1,color = 'red'),\n",
    "            opacity = 1\n",
    "                    )\n",
    "                )\n",
    "    \n",
    "# Add points corresponding to circuit locations\n",
    "\n",
    "fig.add_trace(go.Scattergeo(\n",
    "    lon = circuits_2023['lng'],\n",
    "    lat = circuits_2023['lat'],\n",
    "    hoverinfo = 'text',\n",
    "    text = circuits_2023['name'],\n",
    "    mode = 'markers',\n",
    "    marker = dict(\n",
    "        size = 7,\n",
    "        color = 'crimson',\n",
    "        line = dict(\n",
    "            width = 3,\n",
    "            color = 'rgba(68, 68, 68, 0)'\n",
    "        )\n",
    "    )))\n",
    "    \n",
    "fig.update_layout(\n",
    "    title_text = 'Flight Paths Between Confirmed 2023 Formula 1 Circuits',\n",
    "    showlegend = False,\n",
    "    geo = dict(\n",
    "        scope = 'world',\n",
    "        projection_type=\"natural earth\",\n",
    "        showland = True,\n",
    "        showcountries=True,\n",
    "        #landcolor = 'rgb(243, 243, 243)',\n",
    "        countrycolor = 'white',\n",
    "    ),\n",
    ")\n",
    "fig.show()"
   ]
  },
  {
   "cell_type": "code",
   "execution_count": 689,
   "metadata": {},
   "outputs": [
    {
     "data": {
      "text/plain": [
       "'38    zandvoort\\nName: circuitRef, dtype: object'"
      ]
     },
     "execution_count": 689,
     "metadata": {},
     "output_type": "execute_result"
    }
   ],
   "source": [
    "len(best_state)\n",
    "a = circuits_2023[circuits_2023['circuitId'] == best_state[i]]['circuitRef']\n",
    "str(a)"
   ]
  },
  {
   "cell_type": "code",
   "execution_count": 673,
   "metadata": {},
   "outputs": [
    {
     "ename": "TypeError",
     "evalue": "'int' object is not iterable",
     "output_type": "error",
     "traceback": [
      "\u001b[0;31m---------------------------------------------------------------------------\u001b[0m",
      "\u001b[0;31mTypeError\u001b[0m                                 Traceback (most recent call last)",
      "\u001b[0;32m<ipython-input-673-3e1e1bcf4aa0>\u001b[0m in \u001b[0;36m<module>\u001b[0;34m\u001b[0m\n\u001b[0;32m----> 1\u001b[0;31m \u001b[0;32mfor\u001b[0m \u001b[0mi\u001b[0m \u001b[0;32min\u001b[0m \u001b[0mlen\u001b[0m\u001b[0;34m(\u001b[0m\u001b[0mbest_state\u001b[0m\u001b[0;34m)\u001b[0m\u001b[0;34m:\u001b[0m\u001b[0;34m\u001b[0m\u001b[0;34m\u001b[0m\u001b[0m\n\u001b[0m\u001b[1;32m      2\u001b[0m     \u001b[0mcircuits_2023\u001b[0m\u001b[0;34m[\u001b[0m\u001b[0mcircuits_2023\u001b[0m\u001b[0;34m[\u001b[0m\u001b[0;34m'circuitId'\u001b[0m\u001b[0;34m]\u001b[0m\u001b[0;34m==\u001b[0m\u001b[0mbest_state\u001b[0m\u001b[0;34m[\u001b[0m\u001b[0mi\u001b[0m\u001b[0;34m]\u001b[0m\u001b[0;34m]\u001b[0m\u001b[0;34m\u001b[0m\u001b[0;34m\u001b[0m\u001b[0m\n",
      "\u001b[0;31mTypeError\u001b[0m: 'int' object is not iterable"
     ]
    }
   ],
   "source": [
    "for i in len(best_state):\n",
    "    circuits_2023[circuits_2023['circuitId'] == best_state[i]]"
   ]
  },
  {
   "cell_type": "code",
   "execution_count": null,
   "metadata": {},
   "outputs": [],
   "source": []
  }
 ],
 "metadata": {
  "kernelspec": {
   "display_name": "Python 3",
   "language": "python",
   "name": "python3"
  },
  "language_info": {
   "codemirror_mode": {
    "name": "ipython",
    "version": 3
   },
   "file_extension": ".py",
   "mimetype": "text/x-python",
   "name": "python",
   "nbconvert_exporter": "python",
   "pygments_lexer": "ipython3",
   "version": "3.7.3"
  }
 },
 "nbformat": 4,
 "nbformat_minor": 2
}
